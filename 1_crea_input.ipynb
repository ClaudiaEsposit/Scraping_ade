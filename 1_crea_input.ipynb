{
 "cells": [
  {
   "cell_type": "markdown",
   "metadata": {},
   "source": [
    "# 0) Import\n",
    "Cambia file di input."
   ]
  },
  {
   "cell_type": "code",
   "execution_count": null,
   "metadata": {},
   "outputs": [],
   "source": [
    "from Pulizia import clean , split_and_expand\n",
    "import pandas as pd\n",
    "import json\n",
    "from datetime import date\n",
    "today = date.today()\n",
    "\n",
    "uffici = pd.read_excel('Resources/uffici_finanziari.xlsx')\n",
    "uffici = uffici.iloc[1:]\n",
    "uffici['office'] = uffici['office'].str.lower()\n",
    "uffici_ut = uffici[uffici['office'].str.contains('ut')]\n",
    "\n",
    "input = pd.read_excel('Input/Raw/Ricerca F24.xlsx')\n",
    "input = clean(input)"
   ]
  },
  {
   "cell_type": "markdown",
   "metadata": {},
   "source": [
    "# 1) Città presenti in uffici ma non in uffici_ut"
   ]
  },
  {
   "cell_type": "code",
   "execution_count": null,
   "metadata": {},
   "outputs": [],
   "source": [
    "mapping = {'albenga':'savona',\n",
    " 'chiavenna':'sondrio',\n",
    " 'cossato':'biella',\n",
    " 'macomer':'nuoro',\n",
    " 'isili':'nuoro',\n",
    " 'chiaromonte': 'lagonegro',\n",
    " 'orzinuovi' : 'brescia',\n",
    " 'ovada': 'acquiterme',\n",
    " 'pavullo nel frignano':'modena',\n",
    " 'ponte san pietro':'bergamo',\n",
    " 'romano di lombardia':'bergamo',\n",
    " 'san benedetto del tronto':'ascoli piceno',\n",
    " 'teano':'caserta',\n",
    " 'venezia 2 - mestre' : 'venezia',\n",
    " 'venosa':'potenza',\n",
    " 'vimercate':'monza',\n",
    " 'acerra' : 'casoria'\n",
    " }\n",
    "\n",
    "input['Foro'] = (input['Foro']\n",
    "                    .str.lower()\n",
    "                    .replace(mapping, regex=True)\n",
    "                    .str.strip()\n",
    "                   )\n",
    "\n",
    "def find_code_for_foro(df1, df2):\n",
    "    results = []\n",
    "    for index2, row2 in df2.iterrows():\n",
    "        foro = row2['Foro']\n",
    "        matching_rows = df1[df1['office'].str.contains(foro)]\n",
    "        for index1, row1 in matching_rows.iterrows():\n",
    "            results.append({\n",
    "                'code_office': row1['code'],\n",
    "                'office': row1['office'],\n",
    "                'Foro': row2['Foro']\n",
    "            })\n",
    "    result_df = pd.DataFrame(results)\n",
    "    return result_df\n",
    "result_df = find_code_for_foro(uffici_ut, input)\n",
    "result_df = result_df.drop_duplicates()\n",
    "\n",
    "\n",
    "input = pd.merge(input, result_df, on='Foro', how='left')\n",
    "input = (input\n",
    "        .drop_duplicates())\n",
    "input['Tribunale/Gdp'] = (input['Tribunale/Gdp']\n",
    "                          .str.lower()\n",
    "                          .str.strip()\n",
    ")"
   ]
  },
  {
   "cell_type": "markdown",
   "metadata": {},
   "source": [
    "Se quello qua sotto ha lunghezza 0, non modificare nulla sennò controllare le città in sezioni territoriali:"
   ]
  },
  {
   "cell_type": "code",
   "execution_count": null,
   "metadata": {},
   "outputs": [],
   "source": [
    "input[input['code_office'].isna()]"
   ]
  },
  {
   "cell_type": "markdown",
   "metadata": {},
   "source": [
    "# 2) Prendiamo gli enti corrispondenti all'ufficio_ut"
   ]
  },
  {
   "cell_type": "code",
   "execution_count": null,
   "metadata": {},
   "outputs": [],
   "source": [
    "with open('Resources/enti_completi_ut.json', 'r') as file:\n",
    "    enti_ut = json.load(file)\n",
    "\n",
    "enti_decoded = {}\n",
    "\n",
    "for key, values in enti_ut.items():\n",
    "    tribunale = [item.split(\" - \")[0] for item in values if \"TRIB\" in item.upper()]\n",
    "    giudice = [item.split(\" - \")[0] for item in values if \"GIUD\" in item.upper()]\n",
    "    enti_decoded[key] = {\"tribunale\": tribunale, \"giudice\": giudice}\n",
    "\n",
    "def get_codes(row):\n",
    "    office = row['office']\n",
    "    type_ = row['Tribunale/Gdp']\n",
    "    if office in enti_decoded and type_ in enti_decoded[office]:\n",
    "        return enti_decoded[office][type_]\n",
    "    else:\n",
    "        return []\n",
    "\n",
    "input['code_ente'] = input.apply(get_codes, axis=1)\n",
    "input['code_ente'] = input['code_ente'].apply(lambda x: ','.join(x))\n",
    "\n",
    "df_long = pd.melt(input, \n",
    "                  id_vars=['NR_Contratto', 'Debitore','Tribunale/Gdp','Foro','Cliente','tipo_ricerca','code_office','office','code_ente'], \n",
    "                  value_vars=['nr.decreto', 'year.decreto', 'nr.rg', 'year.rg','nr.repertorio','year.repertorio','nr.crono','year.crono','nr.rgeppt','year.rgeppt','nr.repppt','year.repppt'], \n",
    "                  var_name='type', \n",
    "                  value_name='value')\n",
    "\n",
    "df_long[['attribute', 'category']] = df_long['type'].str.split('.', expand=True)\n",
    "\n",
    "input = df_long.pivot_table(index=['NR_Contratto', 'Debitore','Tribunale/Gdp','Foro','Cliente','tipo_ricerca','code_office','office','code_ente','category'], \n",
    "                               columns='attribute', \n",
    "                               values='value', \n",
    "                               aggfunc='first').reset_index()\n",
    "\n",
    "input.columns.name = None\n",
    "input = input.reset_index(drop=True)\n",
    "input['code_ente'] = input['code_ente'].apply(lambda x: x.split(',') if isinstance(x, str) else x)\n"
   ]
  },
  {
   "cell_type": "code",
   "execution_count": null,
   "metadata": {},
   "outputs": [],
   "source": [
    "input.to_excel('Input/Cleaned/input_v1.xlsx')"
   ]
  }
 ],
 "metadata": {
  "language_info": {
   "name": "python"
  }
 },
 "nbformat": 4,
 "nbformat_minor": 2
}
