{
 "cells": [
  {
   "cell_type": "code",
   "execution_count": 22,
   "metadata": {},
   "outputs": [],
   "source": [
    "import requests\n",
    "from bs4 import BeautifulSoup"
   ]
  },
  {
   "cell_type": "code",
   "execution_count": 25,
   "metadata": {},
   "outputs": [],
   "source": [
    "def scraper(ufficio,ente,anno,numero,natura):\n",
    "    \"\"\"\n",
    "    ufficio è l'id che si trova nel file uffici_finanziari (in code)\n",
    "    ente è l'id da ricavare da enti.json   (esempio 001 )\n",
    "    numero da file input (rg / decreto / etc )\n",
    "    anno anno con 4 cifre da file input\n",
    "    natura  DI  AV  /  EM  OR\n",
    "    \"\"\"\n",
    "\n",
    "\n",
    "    session = requests.Session()\n",
    "    initial_url = 'https://www1.agenziaentrate.gov.it/servizi/tassazioneattigiudiziari/registrazione.htm'\n",
    "    session.get(initial_url) \n",
    "\n",
    "    url1 = 'https://www1.agenziaentrate.gov.it/servizi/tassazioneattigiudiziari/registrazione.htm'\n",
    "    params1 = {\n",
    "        'action': 'scegliufficio',\n",
    "        'ufficio': ufficio,\n",
    "    }\n",
    "    headers = {\n",
    "        'Connection': 'keep-alive',\n",
    "        'Accept-Encoding': 'gzip, deflate, br',\n",
    "        'Accept': '*/*',\n",
    "        'Content-Type': 'application/x-www-form-urlencoded',\n",
    "    }\n",
    "    body1 = {\n",
    "        'ufficio': ufficio,\n",
    "    }\n",
    "    response1 = session.post(url1, headers=headers, params=params1, data=body1)\n",
    "    \n",
    "    if response1:\n",
    "        url2 = 'https://www1.agenziaentrate.gov.it/servizi/tassazioneattigiudiziari/registrazione.htm'\n",
    "        params2 = {\n",
    "            'action': 'scegliente',\n",
    "        }\n",
    "        body2 = {\n",
    "            'ente': ente,\n",
    "            'anno': anno,\n",
    "            'numero': numero,\n",
    "            'natura' : natura,\n",
    "            'snumero' : \"\"\n",
    "        }\n",
    "        response2 = session.post(url2, headers=headers, params=params2, data=body2)\n",
    "        if response2 :\n",
    "            soup2 = BeautifulSoup(response2.text, 'html.parser')\n",
    "            print('BEAUTIFUL SOUP')\n",
    "            # print(soup2)\n",
    "        else :\n",
    "            print('Qualcosa è andato storto')    \n",
    "\n",
    "    else:\n",
    "        print('ufficio non trovato')    "
   ]
  },
  {
   "cell_type": "code",
   "execution_count": 26,
   "metadata": {},
   "outputs": [
    {
     "name": "stdout",
     "output_type": "stream",
     "text": [
      "BEAUTIFUL SOUP\n"
     ]
    }
   ],
   "source": [
    "scraper(ufficio='TQD',ente='002',anno='2017',numero='3',natura='EI')"
   ]
  }
 ],
 "metadata": {
  "kernelspec": {
   "display_name": "scraper_env",
   "language": "python",
   "name": "python3"
  },
  "language_info": {
   "codemirror_mode": {
    "name": "ipython",
    "version": 3
   },
   "file_extension": ".py",
   "mimetype": "text/x-python",
   "name": "python",
   "nbconvert_exporter": "python",
   "pygments_lexer": "ipython3",
   "version": "3.11.4"
  }
 },
 "nbformat": 4,
 "nbformat_minor": 2
}
