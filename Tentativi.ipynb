{
 "cells": [
  {
   "cell_type": "markdown",
   "metadata": {},
   "source": [
    "#### Inseriamo ufficio ( tramite id )\n",
    "#### Inseriamo ente ( tramite id ) numero, anno , ricerca_iqera \n",
    "#### per ora entriamo solo nella pagina non facciamo lo scraper dei risultati"
   ]
  },
  {
   "cell_type": "code",
   "execution_count": 25,
   "metadata": {},
   "outputs": [],
   "source": [
    "import requests\n",
    "from bs4 import BeautifulSoup"
   ]
  },
  {
   "cell_type": "code",
   "execution_count": 26,
   "metadata": {},
   "outputs": [],
   "source": [
    "def scraper(ufficio,ente,anno,numero,natura):\n",
    "    \"\"\"\n",
    "    ufficio è l'id che si trova nel file uffici_finanziari (in code)\n",
    "    ente è l'id da ricavare da enti.json   (esempio 001 )\n",
    "    numero da file input (rg / decreto / etc )\n",
    "    anno anno con 4 cifre da file input\n",
    "    natura  DI  AV  /  EM  OR\n",
    "    \"\"\"\n",
    "\n",
    "\n",
    "    session = requests.Session()\n",
    "    initial_url = 'https://www1.agenziaentrate.gov.it/servizi/tassazioneattigiudiziari/registrazione.htm'\n",
    "    session.get(initial_url) \n",
    "\n",
    "    url1 = 'https://www1.agenziaentrate.gov.it/servizi/tassazioneattigiudiziari/registrazione.htm'\n",
    "    params1 = {\n",
    "        'action': 'scegliufficio',\n",
    "        'ufficio': ufficio,\n",
    "    }\n",
    "    headers = {\n",
    "        'Connection': 'keep-alive',\n",
    "        'Accept-Encoding': 'gzip, deflate, br',\n",
    "        'Accept': '*/*',\n",
    "        'Content-Type': 'application/x-www-form-urlencoded',\n",
    "    }\n",
    "    body1 = {\n",
    "        'ufficio': ufficio,\n",
    "    }\n",
    "    response1 = session.post(url1, headers=headers, params=params1, data=body1)\n",
    "    \n",
    "    if response1:\n",
    "        url2 = 'https://www1.agenziaentrate.gov.it/servizi/tassazioneattigiudiziari/registrazione.htm'\n",
    "        params2 = {\n",
    "            'action': 'scegliente',\n",
    "        }\n",
    "        body2 = {\n",
    "            'ente': ente,\n",
    "            'anno': anno,\n",
    "            'numero': numero,\n",
    "            'natura' : natura,\n",
    "            'snumero' : \"\"\n",
    "        }\n",
    "        response2 = session.post(url2, headers=headers, params=params2, data=body2)\n",
    "        if response2 :\n",
    "            soup2 = BeautifulSoup(response2.text, 'html.parser')\n",
    "            print('BEAUTIFUL SOUP')\n",
    "            if 'non trovato' in response2.text:\n",
    "                #print('riprova')\n",
    "                return 'non trovato'\n",
    "            else :\n",
    "                print('fare il codice per lo scraper dei risultati')\n",
    "        else :\n",
    "            print('Qualcosa è andato storto')    \n",
    "\n",
    "    else:\n",
    "        print('ufficio non trovato')    "
   ]
  },
  {
   "cell_type": "code",
   "execution_count": 27,
   "metadata": {},
   "outputs": [
    {
     "name": "stdout",
     "output_type": "stream",
     "text": [
      "BEAUTIFUL SOUP\n",
      "fare il codice per lo scraper dei risultati\n"
     ]
    }
   ],
   "source": [
    "scraper(ufficio='TQD',ente='002',anno='2017',numero='3',natura='DI')"
   ]
  },
  {
   "cell_type": "markdown",
   "metadata": {},
   "source": [
    "#### cambia la natura dell'ente in base al tipo diu ricerca ( se monitoria o ppt)"
   ]
  },
  {
   "cell_type": "code",
   "execution_count": 28,
   "metadata": {},
   "outputs": [
    {
     "name": "stdout",
     "output_type": "stream",
     "text": [
      "BEAUTIFUL SOUP\n",
      "fare il codice per lo scraper dei risultati\n"
     ]
    }
   ],
   "source": [
    "list_natura_monitoria = ['DI','AV']\n",
    "list_natura_ppt = ['EM','OR']\n",
    "\n",
    "tipo = 'monitoria'\n",
    "\n",
    "def tipo_scraper(tipo,ufficio,ente,anno,numero):\n",
    "    if tipo=='monitoria':\n",
    "        for natura in list_natura_monitoria:\n",
    "            result = scraper(ufficio,ente,anno,numero,natura)\n",
    "            if result != 'non trovato':\n",
    "                break\n",
    "    elif tipo == 'ppt':\n",
    "        for natura in list_natura_ppt:\n",
    "            result = scraper(ufficio,ente,anno,numero,natura)\n",
    "            if result != 'non trovato':\n",
    "                break\n",
    "\n",
    "tipo_scraper('monitoria',ufficio='TQD',ente='002',anno='2017',numero='3')"
   ]
  },
  {
   "cell_type": "markdown",
   "metadata": {},
   "source": [
    "#### sistemiamo l'input prima di mandare lo scaper "
   ]
  },
  {
   "cell_type": "code",
   "execution_count": 120,
   "metadata": {},
   "outputs": [],
   "source": [
    "from Pulizia import clean , split_and_expand\n",
    "import pandas as pd\n",
    "import json"
   ]
  },
  {
   "cell_type": "code",
   "execution_count": 121,
   "metadata": {},
   "outputs": [],
   "source": [
    "uffici = pd.read_excel('Resources/uffici_finanziari.xlsx')\n",
    "uffici = uffici.iloc[1:]\n",
    "uffici['office'] = uffici['office'].str.lower()\n",
    "uffici_ut = uffici[uffici['office'].str.contains('ut')]"
   ]
  },
  {
   "cell_type": "code",
   "execution_count": 122,
   "metadata": {},
   "outputs": [],
   "source": [
    "input = pd.read_excel('Input/Raw/Ricerca F24.xlsx')\n",
    "input = clean(input)\n",
    "input['tipo_ricerca'] = input['RICERCA IQERA'].str.lower()\n",
    "input = input.drop(columns=['RICERCA IQERA'])\n",
    "\n",
    "mapping = {'albenga':'savona',\n",
    " 'chiavenna':'sondrio',\n",
    " 'cossato':'biella',\n",
    " 'macomer':'nuoro',\n",
    " 'isili':'nuoro',\n",
    " 'chiaromonte': 'lagonegro',\n",
    " 'orzinuovi' : 'brescia',\n",
    " 'ovada': 'acquiterme',\n",
    " 'pavullo nel frignano':'modena',\n",
    " 'ponte san pietro':'bergamo',\n",
    " 'romano di lombardia':'bergamo',\n",
    " 'san benedetto del tronto':'ascoli piceno',\n",
    " 'teano':'caserta',\n",
    " 'venezia 2 - mestre' : 'venezia',\n",
    " 'venosa':'potenza',\n",
    " 'vimercate':'monza',\n",
    " 'acerra' : 'casoria'\n",
    " }\n",
    "\n",
    "input['Foro'] = (input['Foro']\n",
    "                    .str.lower()\n",
    "                    .replace(mapping, regex=True)\n",
    "                    .str.strip()\n",
    "                   )\n",
    "# input\n"
   ]
  },
  {
   "cell_type": "code",
   "execution_count": 123,
   "metadata": {},
   "outputs": [],
   "source": [
    "def find_code_for_foro(df1, df2):\n",
    "    # Initialize an empty list to store the results\n",
    "    results = []\n",
    "\n",
    "    # Iterate over each row in df2\n",
    "    for index2, row2 in df2.iterrows():\n",
    "        foro = row2['Foro']\n",
    "        \n",
    "        # Find matching rows in df1\n",
    "        matching_rows = df1[df1['office'].str.contains(foro)]\n",
    "\n",
    "        # Add matching codes to the results list\n",
    "        for index1, row1 in matching_rows.iterrows():\n",
    "            results.append({\n",
    "                'code': row1['code'],\n",
    "                'office': row1['office'],\n",
    "                'Foro': row2['Foro']\n",
    "            })\n",
    "\n",
    "    # Convert results to a DataFrame\n",
    "    result_df = pd.DataFrame(results)\n",
    "    return result_df\n",
    "result_df = find_code_for_foro(uffici_ut, input)\n",
    "result_df = result_df.drop_duplicates()"
   ]
  },
  {
   "cell_type": "code",
   "execution_count": 124,
   "metadata": {},
   "outputs": [],
   "source": [
    "\n",
    "input = pd.merge(input, result_df, on='Foro', how='left')\n",
    "input = (input\n",
    "        .drop_duplicates())\n",
    "input['Tribunale/Gdp'] = (input['Tribunale/Gdp']\n",
    "                          .str.lower()\n",
    "                          .str.strip()\n",
    ")"
   ]
  },
  {
   "cell_type": "code",
   "execution_count": 125,
   "metadata": {},
   "outputs": [
    {
     "data": {
      "text/html": [
       "<div>\n",
       "<style scoped>\n",
       "    .dataframe tbody tr th:only-of-type {\n",
       "        vertical-align: middle;\n",
       "    }\n",
       "\n",
       "    .dataframe tbody tr th {\n",
       "        vertical-align: top;\n",
       "    }\n",
       "\n",
       "    .dataframe thead th {\n",
       "        text-align: right;\n",
       "    }\n",
       "</style>\n",
       "<table border=\"1\" class=\"dataframe\">\n",
       "  <thead>\n",
       "    <tr style=\"text-align: right;\">\n",
       "      <th></th>\n",
       "      <th>NR_Contratto</th>\n",
       "      <th>Debitore</th>\n",
       "      <th>Tribunale/Gdp</th>\n",
       "      <th>Foro</th>\n",
       "      <th>Cliente</th>\n",
       "      <th>nr.rg</th>\n",
       "      <th>year.rg</th>\n",
       "      <th>nr.decreto</th>\n",
       "      <th>year.decreto</th>\n",
       "      <th>nr.repertorio</th>\n",
       "      <th>year.repertorio</th>\n",
       "      <th>nr.crono</th>\n",
       "      <th>year.crono</th>\n",
       "      <th>nr.rgeppt</th>\n",
       "      <th>year.rgeppt</th>\n",
       "      <th>nr.repppt</th>\n",
       "      <th>year.repppt</th>\n",
       "      <th>tipo_ricerca</th>\n",
       "      <th>code</th>\n",
       "      <th>office</th>\n",
       "    </tr>\n",
       "  </thead>\n",
       "  <tbody>\n",
       "  </tbody>\n",
       "</table>\n",
       "</div>"
      ],
      "text/plain": [
       "Empty DataFrame\n",
       "Columns: [NR_Contratto, Debitore, Tribunale/Gdp, Foro, Cliente, nr.rg, year.rg, nr.decreto, year.decreto, nr.repertorio, year.repertorio, nr.crono, year.crono, nr.rgeppt, year.rgeppt, nr.repppt, year.repppt, tipo_ricerca, code, office]\n",
       "Index: []"
      ]
     },
     "execution_count": 125,
     "metadata": {},
     "output_type": "execute_result"
    }
   ],
   "source": [
    "input[input['code'].isna()]"
   ]
  },
  {
   "cell_type": "markdown",
   "metadata": {},
   "source": [
    "#### sopra abbiamo aggiunto il codice dell'ufficio\n",
    "\n",
    "#### ora dobbiamo aggiungere i codici degli enti"
   ]
  },
  {
   "cell_type": "code",
   "execution_count": 126,
   "metadata": {},
   "outputs": [],
   "source": [
    "with open('Resources/enti_completi_ut.json', 'r') as file:\n",
    "    enti_ut = json.load(file)\n",
    "\n",
    "enti_decoded = {}\n",
    "\n",
    "for key, values in enti_ut.items():\n",
    "    tribunale = [item.split(\" - \")[0] for item in values if \"TRIB\" in item.upper()]\n",
    "    giudice = [item.split(\" - \")[0] for item in values if \"GIUD\" in item.upper()]\n",
    "    enti_decoded[key] = {\"tribunale\": tribunale, \"giudice\": giudice}\n",
    "# enti_decoded    "
   ]
  },
  {
   "cell_type": "code",
   "execution_count": 127,
   "metadata": {},
   "outputs": [
    {
     "data": {
      "text/plain": [
       "['001', '007', '009', '012']"
      ]
     },
     "execution_count": 127,
     "metadata": {},
     "output_type": "execute_result"
    }
   ],
   "source": [
    "enti_decoded['siracusa  ut dpsr']['tribunale']"
   ]
  },
  {
   "cell_type": "code",
   "execution_count": 129,
   "metadata": {},
   "outputs": [],
   "source": [
    "def get_codes(row):\n",
    "    office = row['office']\n",
    "    type_ = row['Tribunale/Gdp']\n",
    "    if office in enti_decoded and type_ in enti_decoded[office]:\n",
    "        return enti_decoded[office][type_]\n",
    "    else:\n",
    "        return []\n",
    "\n",
    "# Apply the function to each row and create a new column 'codes'\n",
    "input['code_ente'] = input.apply(get_codes, axis=1)"
   ]
  },
  {
   "cell_type": "code",
   "execution_count": null,
   "metadata": {},
   "outputs": [],
   "source": [
    "# fare il mapping dell'ente \n",
    "# trovare il modo di fare i 4 / 2 numeri per tipo \n",
    "# tipo_scraper(tipo,ufficio,ente,anno,numero)\n",
    "results =( input\n",
    "    .apply(lambda row: tipo_scraper(tipo= row['tipo_ricerca'],ufficio= row['code'], ente= 'oo2', anno=row['year.rg'],numero= row['nr.rg']), axis=1)\n",
    ")"
   ]
  }
 ],
 "metadata": {
  "kernelspec": {
   "display_name": "scraper_env",
   "language": "python",
   "name": "python3"
  },
  "language_info": {
   "codemirror_mode": {
    "name": "ipython",
    "version": 3
   },
   "file_extension": ".py",
   "mimetype": "text/x-python",
   "name": "python",
   "nbconvert_exporter": "python",
   "pygments_lexer": "ipython3",
   "version": "3.11.4"
  }
 },
 "nbformat": 4,
 "nbformat_minor": 2
}
