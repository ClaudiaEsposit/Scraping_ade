{
 "cells": [
  {
   "cell_type": "markdown",
   "metadata": {},
   "source": [
    "# 0) Import"
   ]
  },
  {
   "cell_type": "code",
   "execution_count": 10,
   "metadata": {},
   "outputs": [],
   "source": [
    "import pandas as pd\n",
    "import httpx\n",
    "from selectolax.parser import HTMLParser\n",
    "from bs4 import BeautifulSoup\n",
    "import json\n",
    "import os\n",
    "import time\n",
    "from selenium import webdriver\n",
    "from selenium.webdriver.common.by import By\n",
    "from selenium.webdriver.common.keys import Keys\n",
    "from selenium.webdriver.support.ui import WebDriverWait\n",
    "from selenium.webdriver.support import expected_conditions as EC\n",
    "import re\n",
    "from selenium.webdriver.chrome.options import Options\n",
    "from selenium.webdriver.common.action_chains import ActionChains"
   ]
  },
  {
   "cell_type": "code",
   "execution_count": 11,
   "metadata": {},
   "outputs": [],
   "source": [
    "def save_dict_to_json(dictionary, path):\n",
    "    with open(path, 'w') as file:\n",
    "        json.dump(dictionary, file)"
   ]
  },
  {
   "cell_type": "markdown",
   "metadata": {},
   "source": [
    "# 1) Creazione risorsa Uffici Finanziari"
   ]
  },
  {
   "cell_type": "code",
   "execution_count": null,
   "metadata": {},
   "outputs": [],
   "source": [
    "url = 'https://www1.agenziaentrate.gov.it/servizi/tassazioneattigiudiziari/registrazione.htm?passo=0'\n",
    "headers = {\"User-Agent\": \"Mozilla/5.0 (Windows NT 10.0; Win64; x64; rv:123.0) Gecko/20100101 Firefox/123.0\"}\n",
    "\n",
    "resp = httpx.get(url, headers=headers)\n",
    "\n",
    "dict_uffici = {}\n",
    "errors=[]\n",
    "if resp.status_code == 200:\n",
    "    html = HTMLParser(resp.text)\n",
    "    uffici = html.css(\"option\")\n",
    "    for ufficio in uffici:\n",
    "        value = ufficio.attributes.get('value')\n",
    "        dict_uffici[value] = ufficio.text().strip()\n",
    "else:\n",
    "    print('Not entered')"
   ]
  },
  {
   "cell_type": "code",
   "execution_count": 12,
   "metadata": {},
   "outputs": [],
   "source": [
    "data = [{\"code\": key, \"office\": value} for key, value in dict_uffici.items()]\n",
    "uffici_finanziari = pd.DataFrame(data)\n",
    "\n",
    "uffici_finanziari.to_excel('Resources/uffici_finanziari.xlsx', index=False)"
   ]
  },
  {
   "cell_type": "code",
   "execution_count": null,
   "metadata": {},
   "outputs": [],
   "source": [
    "uffici = pd.read_excel('Resources/uffici_finanziari.xlsx')\n",
    "uffici = uffici.iloc[1:]\n",
    "lista_uffici = uffici['office'].str.lower().tolist()"
   ]
  },
  {
   "cell_type": "markdown",
   "metadata": {},
   "source": [
    "# 2) Creazione risorsa Enti"
   ]
  },
  {
   "cell_type": "code",
   "execution_count": null,
   "metadata": {},
   "outputs": [],
   "source": [
    "def click_button(driver, button):\n",
    "    try:\n",
    "        button.click()\n",
    "    except Exception as e:\n",
    "        driver.execute_script(\"arguments[0].click();\", button) \n",
    "\n",
    "\n",
    "\n",
    " \n",
    "def fetch_uffici(driver, comune):\n",
    "    lista = []\n",
    "    try:\n",
    "        WebDriverWait(driver, 10).until(EC.presence_of_element_located((By.CSS_SELECTOR, \"select#ufficio.form-control\")))\n",
    "        button = driver.find_element(By.CSS_SELECTOR, \"select#ufficio.form-control\")\n",
    "        button.send_keys(comune)\n",
    "        button.send_keys(Keys.ENTER)\n",
    "\n",
    "\n",
    "        WebDriverWait(driver, 10).until(EC.presence_of_element_located((By.CSS_SELECTOR, \"input#avanti.btn.btn-primary\")))\n",
    "        button = driver.find_element(By.CSS_SELECTOR, \"input#avanti.btn.btn-primary\")\n",
    "        click_button(driver,button)\n",
    "    except:\n",
    "        print('Non riuscito')\n",
    "\n",
    "\n",
    "    if driver.find_element(By.CSS_SELECTOR, \"select#ente.form-control\"):\n",
    "\n",
    "        button = driver.find_element(By.CSS_SELECTOR, \"select#ente.form-control\")\n",
    "        click_button(driver,button)\n",
    "        all_option = button.find_elements(By.CSS_SELECTOR,'option')\n",
    "\n",
    "        for option in all_option:\n",
    "            lista.append(option.text)\n",
    "\n",
    "    else:\n",
    "        print('Not entered in if.')\n",
    "    return lista\n",
    "    \n",
    "\n",
    " \n",
    "def main():\n",
    "    errors = list() \n",
    "    comuni_list = lista_uffici.copy()\n",
    "    options = webdriver.EdgeOptions()\n",
    "    driver = webdriver.Edge(options=options)\n",
    "    driver.maximize_window()\n",
    "    url = 'https://www1.agenziaentrate.gov.it/servizi/tassazioneattigiudiziari/registrazione.htm?passo=0'\n",
    "    dict_option = {}\n",
    " \n",
    "    chunks = [\n",
    "        comuni_list[0:150],\n",
    "        comuni_list[150:300],\n",
    "        comuni_list[300:450],\n",
    "        comuni_list[450:600],\n",
    "        \n",
    "    ]\n",
    " \n",
    "    for i, chunk in enumerate(chunks):\n",
    "        dict_option.clear()\n",
    "        for j,comune in enumerate(chunk):\n",
    "            print(j,' Processing comune:', comune)\n",
    "            driver.get(url)\n",
    "            tribunali = fetch_uffici(driver, comune)\n",
    "            if tribunali == []:\n",
    "                errors.append(comune)\n",
    "            else: \n",
    "                dict_option[comune] = tribunali\n",
    "\n",
    "        save_dict_to_json(dict_option, f'Resources/enti_{(i+1)*150}.json')\n",
    "        with open(f\"Errors/errors_enti_{(i+1)*150}.txt\", \"w\") as file:\n",
    "            for item in errors:\n",
    "                file.write(item + \"\\n\")\n",
    "    driver.quit()\n",
    "\n",
    " \n",
    "if __name__ == \"__main__\":\n",
    "    main()"
   ]
  },
  {
   "cell_type": "code",
   "execution_count": null,
   "metadata": {},
   "outputs": [],
   "source": [
    "def merge_json_files(folder_path):\n",
    "    merged_dict = {}\n",
    "    for filename in os.listdir(folder_path):\n",
    "        if filename.endswith('.json'):\n",
    "            file_path = os.path.join(folder_path, filename)\n",
    "            with open(file_path, 'r') as file:\n",
    "                json_data = json.load(file)\n",
    "                merged_dict.update(json_data)\n",
    "    return merged_dict\n",
    "\n",
    "# Replace 'folder_path' with the path to your folder containing JSON files\n",
    "folder_path = 'Resources'\n",
    "merged_dictionary = merge_json_files(folder_path)\n"
   ]
  },
  {
   "cell_type": "code",
   "execution_count": null,
   "metadata": {},
   "outputs": [],
   "source": [
    "def filter_empty_strings(dictionary):\n",
    "    filtered_dict = {}\n",
    "    for key, value in dictionary.items():\n",
    "        if isinstance(value, list):\n",
    "            filtered_dict[key] = [item for item in value if item.strip()]\n",
    "        else:\n",
    "            filtered_dict[key] = value\n",
    "    return filtered_dict\n",
    "\n",
    "# Assuming merged_dictionary is the dictionary obtained from merging JSON files\n",
    "merged_dictionary_filtered = filter_empty_strings(merged_dictionary)"
   ]
  },
  {
   "cell_type": "code",
   "execution_count": null,
   "metadata": {},
   "outputs": [],
   "source": [
    "def filter_keys_with_word(dictionary, word):\n",
    "    filtered_dict = {key: value for key, value in dictionary.items() if word in key}\n",
    "    return filtered_dict\n",
    "\n",
    "# Assuming merged_dictionary is your dictionary\n",
    "filtered_dictionary = filter_keys_with_word(merged_dictionary_filtered, 'ut')"
   ]
  },
  {
   "cell_type": "code",
   "execution_count": 12,
   "metadata": {},
   "outputs": [],
   "source": [
    "save_dict_to_json(filtered_dictionary, f'Resources/enti_completi_ut.json')"
   ]
  }
 ],
 "metadata": {
  "kernelspec": {
   "display_name": "scraper_env",
   "language": "python",
   "name": "python3"
  },
  "language_info": {
   "codemirror_mode": {
    "name": "ipython",
    "version": 3
   },
   "file_extension": ".py",
   "mimetype": "text/x-python",
   "name": "python",
   "nbconvert_exporter": "python",
   "pygments_lexer": "ipython3",
   "version": "3.11.4"
  }
 },
 "nbformat": 4,
 "nbformat_minor": 2
}
