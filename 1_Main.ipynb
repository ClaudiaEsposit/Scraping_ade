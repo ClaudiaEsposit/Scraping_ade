{
 "cells": [
  {
   "cell_type": "markdown",
   "metadata": {},
   "source": [
    "# IMPORT"
   ]
  },
  {
   "cell_type": "code",
   "execution_count": 1,
   "metadata": {},
   "outputs": [],
   "source": [
    "import requests\n",
    "from bs4 import BeautifulSoup\n",
    "import os"
   ]
  },
  {
   "cell_type": "markdown",
   "metadata": {},
   "source": [
    "# FUNCTIONS"
   ]
  },
  {
   "cell_type": "code",
   "execution_count": 2,
   "metadata": {},
   "outputs": [],
   "source": [
    "def scraper(ufficio,ente,anno,numero,natura):\n",
    "    \"\"\"\n",
    "    ufficio è l'id che si trova nel file uffici_finanziari (in code)\n",
    "    ente è l'id da ricavare da enti.json   (esempio 001 )\n",
    "    numero da file input (rg / decreto / etc )\n",
    "    anno anno con 4 cifre da file input\n",
    "    natura  DI  AV  /  EM  OR\n",
    "    \"\"\"\n",
    "\n",
    "\n",
    "    session = requests.Session()\n",
    "    initial_url = 'https://www1.agenziaentrate.gov.it/servizi/tassazioneattigiudiziari/registrazione.htm'\n",
    "    session.get(initial_url) \n",
    "\n",
    "    url1 = 'https://www1.agenziaentrate.gov.it/servizi/tassazioneattigiudiziari/registrazione.htm'\n",
    "    params1 = {\n",
    "        'action': 'scegliufficio',\n",
    "        'ufficio': ufficio,\n",
    "    }\n",
    "    headers = {\n",
    "        'Connection': 'keep-alive',\n",
    "        'Accept-Encoding': 'gzip, deflate, br',\n",
    "        'Accept': '*/*',\n",
    "        'Content-Type': 'application/x-www-form-urlencoded',\n",
    "    }\n",
    "    body1 = {\n",
    "        'ufficio': ufficio,\n",
    "    }\n",
    "    response1 = session.post(url1, headers=headers, params=params1, data=body1)\n",
    "    \n",
    "    if response1:\n",
    "        url2 = 'https://www1.agenziaentrate.gov.it/servizi/tassazioneattigiudiziari/registrazione.htm'\n",
    "        params2 = {\n",
    "            'action': 'scegliente',\n",
    "        }\n",
    "        body2 = {\n",
    "            'ente': ente,\n",
    "            'anno': anno,\n",
    "            'numero': numero,\n",
    "            'natura' : natura,\n",
    "            'snumero' : \"\"\n",
    "        }\n",
    "        response2 = session.post(url2, headers=headers, params=params2, data=body2)\n",
    "        if response2 :\n",
    "            soup2 = BeautifulSoup(response2.text, 'html.parser')\n",
    "            if 'non trovato' in response2.text:\n",
    "                rep = str(numero) + ' - ' + str(anno)\n",
    "                return [ufficio, natura, ente, rep, '-', '-', '-','no']\n",
    "            elif 'selezionare' in response2.text.lower():\n",
    "                rep = str(numero) + ' - ' + str(anno)\n",
    "                return [ufficio, natura, ente, rep, '-', '-', '-','ente mancante / possibile altro errore']\n",
    "            else :\n",
    "                compila = 'no'\n",
    "                tabella = soup2.find('div', class_='panel-body')\n",
    "\n",
    "                if  tabella.find('span', string=\"Atto tassato dall'ufficio di: \"): \n",
    "                    office = tabella.find('span', string=\"Atto tassato dall'ufficio di: \").find_next_sibling('span').get_text(strip=True)\n",
    "                else :\n",
    "                    office = '-'   \n",
    "\n",
    "                if tabella.find('span', string=\"Tipologia atto: \"):\n",
    "                    atto = tabella.find('span', string=\"Tipologia atto: \").find_next_sibling('span').get_text(strip=True)\n",
    "                else :\n",
    "                    atto = '-'  \n",
    "\n",
    "                if tabella.find('span', string=\"Emesso da: \"):\n",
    "                    emesso_da = tabella.find('span', string=\"Emesso da: \").find_next_sibling('span').get_text(strip=True)\n",
    "                else :\n",
    "                    emesso_da = '-'   \n",
    "\n",
    "                if tabella.find('span', string=\"n. Repertorio - anno: \"):\n",
    "                    repertorio = tabella.find('span', string=\"n. Repertorio - anno: \").find_next_sibling('span').get_text(strip=True)\n",
    "                else :\n",
    "                    repertorio = '-'  \n",
    "\n",
    "                if tabella.find('span', string=\"Attore: \"):\n",
    "                    attore = tabella.find('span', string=\"Attore: \").find_next_sibling('span').get_text(strip=True)\n",
    "                else:\n",
    "                    attore='-'\n",
    "\n",
    "                if tabella.find('span', string=\"Convenuto: \"):\n",
    "                    convenuto = tabella.find('span', string=\"Convenuto: \").find_next_sibling('span').get_text(strip=True)\n",
    "                else:\n",
    "                    convenuto ='-'\n",
    "\n",
    "                if tabella.find('span', string=\"Stato dell'atto: \"):\n",
    "                    stato = tabella.find('span', string=\"Stato dell'atto: \").find_next_sibling('span').get_text(strip=True)\n",
    "                else:\n",
    "                    stato= '-'\n",
    "\n",
    "                if 'compilaf24.php' in response2.text: \n",
    "                    compila = 'si'\n",
    "\n",
    "                return [office,atto,emesso_da,repertorio,attore,convenuto,stato,compila]\n",
    "        else :\n",
    "            rep = str(numero) + ' - ' + str(anno)\n",
    "            return [ufficio, natura, ente, rep, '-', '-', '-','no']\n",
    "\n",
    "    else:\n",
    "       return 'ufficio non trovato'   "
   ]
  },
  {
   "cell_type": "code",
   "execution_count": 3,
   "metadata": {},
   "outputs": [],
   "source": [
    "list_natura_monitoria = ['DI','AV']\n",
    "list_natura_ppt = ['EM','OR']\n",
    "\n",
    "def tipo_scraper(contratto,debitore, tipo, ufficio, lista_enti, anno, numero,row_number):\n",
    "    #print(row_number)\n",
    "    results = []\n",
    "    try:\n",
    "        if tipo == 'monitoria':\n",
    "            natura_list = list_natura_monitoria\n",
    "        elif tipo == 'ppt':\n",
    "            natura_list = list_natura_ppt\n",
    "        else:\n",
    "            raise ValueError(\"Invalid tipo value\")\n",
    "\n",
    "        for natura in natura_list:\n",
    "            for ente in lista_enti:\n",
    "                result=''\n",
    "                result = scraper(ufficio, ente, anno, numero, natura)\n",
    "                if isinstance(result, list):\n",
    "                    if len(result) == 8:\n",
    "                        results.append({\n",
    "                            \"contratto\":contratto,\n",
    "                            \"debitore\":debitore,\n",
    "                            'ufficio': result[0],\n",
    "                            'atto': result[1],\n",
    "                            'emesso da': result[2],\n",
    "                            'repertorio': result[3],\n",
    "                            'attore': result[4],\n",
    "                            'convenuto': result[5],\n",
    "                            'stato': result[6],\n",
    "                            \"compila\":result[7]\n",
    "                        })\n",
    "                    else:\n",
    "                        rep = str(numero) + ' - ' + str(anno)\n",
    "                        results.append({\n",
    "                            \"contratto\":contratto,\n",
    "                            \"debitore\":debitore,\n",
    "                            'ufficio': ufficio,\n",
    "                            'natura': natura,\n",
    "                            'ente': ente,\n",
    "                            'repertorio': rep,\n",
    "                            'attore': '-',\n",
    "                            'convenuto': '-',\n",
    "                            'stato': '-',\n",
    "                            \"compila\":'no'\n",
    "                        })\n",
    "                else:\n",
    "                    print(result)\n",
    "    except Exception as e:\n",
    "        print(f'Riga con errore: {row_number} , ente : {ente} , natura : {natura} , debitore : {debitore}')\n",
    "        print(f\"Error occurred: {e}\")\n",
    "    return results\n",
    "\n",
    "# tipo_scraper('1','de','ppt','TQE',['001'],20,2,1)"
   ]
  },
  {
   "cell_type": "markdown",
   "metadata": {},
   "source": [
    "# PULIZIA INPUT"
   ]
  },
  {
   "cell_type": "code",
   "execution_count": 4,
   "metadata": {},
   "outputs": [],
   "source": [
    "from Pulizia import clean , split_and_expand\n",
    "import pandas as pd\n",
    "import json\n",
    "from datetime import date\n",
    "import numpy as np\n",
    "import re\n",
    "today = date.today()\n"
   ]
  },
  {
   "cell_type": "code",
   "execution_count": 5,
   "metadata": {},
   "outputs": [],
   "source": [
    "uffici = pd.read_excel('Resources/uffici_finanziari.xlsx')\n",
    "uffici = uffici.iloc[1:]\n",
    "uffici['office'] = uffici['office'].str.lower()\n",
    "uffici_ut = uffici[uffici['office'].str.contains('ut')]"
   ]
  },
  {
   "cell_type": "markdown",
   "metadata": {},
   "source": [
    "# Cambiare file di input!\n"
   ]
  },
  {
   "cell_type": "code",
   "execution_count": 6,
   "metadata": {},
   "outputs": [],
   "source": [
    "input0 = pd.read_excel('Input/Raw/Perimetro Giugno 24.xlsx')"
   ]
  },
  {
   "cell_type": "code",
   "execution_count": 7,
   "metadata": {},
   "outputs": [],
   "source": [
    "input = input0.copy()"
   ]
  },
  {
   "cell_type": "code",
   "execution_count": 8,
   "metadata": {},
   "outputs": [
    {
     "data": {
      "text/plain": [
       "3136"
      ]
     },
     "execution_count": 8,
     "metadata": {},
     "output_type": "execute_result"
    }
   ],
   "source": [
    "len(input)"
   ]
  },
  {
   "cell_type": "code",
   "execution_count": 9,
   "metadata": {},
   "outputs": [],
   "source": [
    "n_columns = input.filter(regex='^N')\n",
    "contains_dash = n_columns.applymap(lambda x: '-' in str(x) and '/' not in str(x))\n",
    "n_columns = n_columns.applymap(lambda x: x.replace('-', '/') if '-' in str(x) else x)\n",
    "input[n_columns.columns] = n_columns"
   ]
  },
  {
   "cell_type": "code",
   "execution_count": 10,
   "metadata": {},
   "outputs": [],
   "source": [
    "input = input[input['N. RG'].str.contains('/', na=True) | input['N. RG'].isna()]\n",
    "input = input[input['N. Decreto'].str.contains('/', na=True) | input['N. Decreto'].isna()]\n",
    "input = input[input['N.R.G.E PPT'].str.contains('/', na=True) | input['N.R.G.E PPT'].isna()]\n",
    "input = input[input['N° Repertorio'].str.contains('/', na=True) | input['N° Repertorio'].isna()]\n",
    "input = input[input['N° Rep PPT'].str.contains('/', na=True) | input['N° Rep PPT'].isna()]\n",
    "input = input[input['N. Cronologico'].str.contains('/', na=True) | input['N. Cronologico'].isna()]"
   ]
  },
  {
   "cell_type": "code",
   "execution_count": 11,
   "metadata": {},
   "outputs": [
    {
     "name": "stdout",
     "output_type": "stream",
     "text": [
      "Split did not produce the expected number of columns for some rows.\n"
     ]
    }
   ],
   "source": [
    "input = input.drop_duplicates()\n",
    "input = clean(input)"
   ]
  },
  {
   "cell_type": "code",
   "execution_count": 12,
   "metadata": {},
   "outputs": [
    {
     "data": {
      "text/plain": [
       "3136"
      ]
     },
     "execution_count": 12,
     "metadata": {},
     "output_type": "execute_result"
    }
   ],
   "source": [
    "len(input) # non deve diminuire"
   ]
  },
  {
   "cell_type": "code",
   "execution_count": 13,
   "metadata": {},
   "outputs": [],
   "source": [
    "mapping = {'albenga':'savona',\n",
    "    'chiavenna':'sondrio',\n",
    "    'cossato':'biella',\n",
    "    'macomer':'nuoro',\n",
    "    'isili':'nuoro',\n",
    "    'chiaromonte': 'lagonegro',\n",
    "    'orzinuovi' : 'brescia',\n",
    "    'ovada': 'acquiterme',\n",
    "    'pavullo nel frignano':'modena',\n",
    "    'ponte san pietro':'bergamo',\n",
    "    'romano di lombardia':'bergamo',\n",
    "    'san benedetto del tronto':'ascoli piceno',\n",
    "    'teano':'caserta',\n",
    "    'venezia 2 - mestre' : 'venezia',\n",
    "    'venosa':'potenza',\n",
    "    'vimercate':'monza',\n",
    "    'acerra' : 'casoria',\n",
    "    'torre annunziata':'napoli',\n",
    "    'napoli nord in aversa':'napoli',\n",
    "    'napoli nord':'napoli',\n",
    "    'san giorgio ionico':'taranto',\n",
    "    \"rometta\" :'barcellona pozzo di gotto',\n",
    "    'taurianova':'palmi',\n",
    "    'putignano':'gioia del colle',\n",
    "    'dolo':'venezia',\n",
    "    'ugento':'casarano',\n",
    "    'grumello del monte':'bergamo',\n",
    "    'todi':'perugia',\n",
    "    'gragnano':'castellammare di stabia',\n",
    "    'tribunale  di vicenza':'vicenza',\n",
    "    'marigliano':'nola',\n",
    "    \"reggio nell'emilia\": 'reggio emilia',\n",
    "    'montoro':'avellino',\n",
    "    'nocera inferiore':'pagani',\n",
    "    \"chieti - sezione distaccata di ortona\":'chieti',\n",
    "    'la maddalena':'olbia',\n",
    "    'san giovanni in fiore':'cosenza',\n",
    "    'poggio mirteto':'rieti',\n",
    "    'volterra':'pontedera',\n",
    "    'tribunale della spezia':'la spezia',\n",
    "    'arcidosso':'grosseto',\n",
    "    'martina franca':'taranto',\n",
    "    'naso':'messina',\n",
    "    'scalea':'paola',\n",
    "    'cariati':'rossano',\n",
    "    'montecorvino rovella':'salerno',\n",
    "    \"sant'anastasia\":'napoli',\n",
    "    'forlì':\"forli'\",\n",
    "\n",
    "    \"gaeta\":'formia',\n",
    "    \"marano di napoli\":'napoli',\n",
    "    \"fondi\":'formia',\n",
    "    \"mascalucia\":'catania',\n",
    "    \"pomigliano d'arco\":'casoria',\n",
    "    \"acri\":'cosenza',\n",
    "    \"cecina\":'livorno',\n",
    "    \"tricase\":'casarano',\n",
    "    \"castiglione del lago\":'perugia',\n",
    "    \"rodi garganico\":'san severo',\n",
    "    \"pontremoli\":'aulla',\n",
    "    \"squillace\":'catanzaro',\n",
    "    \"carinola\":\"sessa aurunca - teano\",\n",
    "    \"bisceglie\":'trani',\n",
    "    \"biancavilla\":'catania',\n",
    "    \"pescina\":'avezzano',\n",
    "    \"lauro\":'avellino',\n",
    "    \"tortoli'\":'lanusei',\n",
    "    \"piazza armerina\":'enna',\n",
    "    \"petilia policastro\": 'crotone',\n",
    "    \"segni\":'velletri',\n",
    "    \"corato\":'bari',\n",
    "    \"ciro'\":'crotone',\n",
    "    \"corigliano calabro\":'rossano',\n",
    "    \"afragola\":'casoria',\n",
    "    \"terracina\":'latina',\n",
    "    \"monopoli\":'bari',\n",
    "    \"sant'angelo di brolo\":'messina',\n",
    "    \"airola\":'benevento',\n",
    "    \"nulvi\":'sassari',\n",
    "    \"ramacca\":'caltagirone',\n",
    "    \"trinitapoli\":'barletta'\n",
    "    }\n",
    "\n",
    "input['Foro'] = (input['Foro']\n",
    "                    .str.lower()\n",
    "                    .replace(mapping, regex=True)\n",
    "                    .str.strip()\n",
    "                   )\n",
    "# input\n",
    "input = input.drop_duplicates()"
   ]
  },
  {
   "cell_type": "code",
   "execution_count": 14,
   "metadata": {},
   "outputs": [],
   "source": [
    "def find_code_for_foro(df1, df2):\n",
    "    # Initialize an empty list to store the results\n",
    "    results = []\n",
    "\n",
    "    # Iterate over each row in df2\n",
    "    for index2, row2 in df2.iterrows():\n",
    "        foro = row2['Foro']\n",
    "        \n",
    "        # Find matching rows in df1\n",
    "        matching_rows = df1[df1['office'].str.contains(foro)]\n",
    "\n",
    "        # Add matching codes to the results list\n",
    "        for index1, row1 in matching_rows.iterrows():\n",
    "            results.append({\n",
    "                'code_office': row1['code'],\n",
    "                'office': row1['office'],\n",
    "                'Foro': row2['Foro']\n",
    "            })\n",
    "\n",
    "    # Convert results to a DataFrame\n",
    "    result_df = pd.DataFrame(results)\n",
    "    return result_df\n",
    "result_df = find_code_for_foro(uffici_ut, input)\n",
    "result_df = result_df.drop_duplicates()"
   ]
  },
  {
   "cell_type": "code",
   "execution_count": 15,
   "metadata": {},
   "outputs": [],
   "source": [
    "input = pd.merge(input, result_df, on='Foro', how='left')\n",
    "input = (input\n",
    "        .drop_duplicates())\n",
    "input['Tribunale/Gdp'] = (input['Tribunale/Gdp']\n",
    "                          .str.lower()\n",
    "                          .str.strip()\n",
    ")\n",
    "\n",
    "input = input.drop_duplicates()"
   ]
  },
  {
   "cell_type": "markdown",
   "metadata": {},
   "source": [
    "Se questo non è [], sistemare il mapping"
   ]
  },
  {
   "cell_type": "code",
   "execution_count": 16,
   "metadata": {},
   "outputs": [
    {
     "data": {
      "text/plain": [
       "Series([], Name: Foro, dtype: object)"
      ]
     },
     "execution_count": 16,
     "metadata": {},
     "output_type": "execute_result"
    }
   ],
   "source": [
    "input[input['code_office'].isna()]['Foro'].drop_duplicates()"
   ]
  },
  {
   "cell_type": "code",
   "execution_count": 17,
   "metadata": {},
   "outputs": [],
   "source": [
    "input['Debitore'] = (input['Debitore']\n",
    "                     .str.replace('-', ' ')\n",
    "                     .str.replace(r'\\s+', ' ', regex=True)\n",
    "                     .str.strip()\n",
    "                    )\n"
   ]
  },
  {
   "cell_type": "code",
   "execution_count": 18,
   "metadata": {},
   "outputs": [],
   "source": [
    "with open('Resources/enti_completi_ut.json', 'r') as file:\n",
    "    enti_ut = json.load(file)\n",
    "\n",
    "enti_decoded = {}\n",
    "\n",
    "for key, values in enti_ut.items():\n",
    "    tribunale = [item.split(\" - \")[0] for item in values if \"TRIB\" in item.upper()]\n",
    "    giudice = [item.split(\" - \")[0] for item in values if \"GIUD\" in item.upper()]\n",
    "    enti_decoded[key] = {\"tribunale\": tribunale, \"giudice\": giudice}\n",
    "# enti_decoded    "
   ]
  },
  {
   "cell_type": "code",
   "execution_count": 19,
   "metadata": {},
   "outputs": [],
   "source": [
    "def get_codes(row):\n",
    "    office = row['office']\n",
    "    type_ = row['Tribunale/Gdp']\n",
    "    if office in enti_decoded and type_ in enti_decoded[office]:\n",
    "        return enti_decoded[office][type_]\n",
    "    else:\n",
    "        return []\n",
    "\n",
    "# Apply the function to each row and create a new column 'codes'\n",
    "input['code_ente'] = input.apply(get_codes, axis=1)\n"
   ]
  },
  {
   "cell_type": "code",
   "execution_count": 20,
   "metadata": {},
   "outputs": [
    {
     "data": {
      "text/plain": [
       "4008"
      ]
     },
     "execution_count": 20,
     "metadata": {},
     "output_type": "execute_result"
    }
   ],
   "source": [
    "len(input)"
   ]
  },
  {
   "cell_type": "code",
   "execution_count": 21,
   "metadata": {},
   "outputs": [],
   "source": [
    "# Convert the 'code_ente' lists to strings\n",
    "input['code_ente'] = input['code_ente'].apply(lambda x: ','.join(x))\n",
    "\n",
    "\n",
    "potential_value_vars = [\n",
    "    'nr.decreto', 'year.decreto', 'nr.rg', 'year.rg',\n",
    "    'nr.repertorio', 'year.repertorio', 'nr.crono', 'year.crono',\n",
    "    'nr.rgeppt', 'year.rgeppt', 'nr.repppt', 'year.repppt'\n",
    "]\n",
    "value_vars = [col for col in potential_value_vars if col in input.columns]\n",
    "# Melt the DataFrame to 'pivot longer'\n",
    "df_long = pd.melt(input, \n",
    "                  id_vars=['NR_Contratto', 'Debitore','Tribunale/Gdp','Foro','Cliente 1','Cliente 2','tipo_ricerca','code_office','office','code_ente'], \n",
    "                  value_vars=value_vars, \n",
    "                  var_name='type', \n",
    "                  value_name='value')\n",
    "\n",
    "# Split the 'type' column into 'attribute' and 'category'\n",
    "df_long[['attribute', 'category']] = df_long['type'].str.split('.', expand=True)\n",
    "\n",
    "# Pivot the DataFrame to get the desired format\n",
    "input = df_long.pivot_table(index=['NR_Contratto', 'Debitore','Tribunale/Gdp','Foro','Cliente 1','Cliente 2','tipo_ricerca','code_office','office','code_ente','category'], \n",
    "                               columns='attribute', \n",
    "                               values='value', \n",
    "                               aggfunc='first').reset_index()\n",
    "\n",
    "# Flatten the columns\n",
    "input.columns.name = None\n",
    "input = input.reset_index(drop=True)\n",
    "\n",
    "# Convert the 'code_ente' column back into a list\n",
    "input['code_ente'] = input['code_ente'].apply(lambda x: x.split(',') if isinstance(x, str) else x)\n"
   ]
  },
  {
   "cell_type": "code",
   "execution_count": 22,
   "metadata": {},
   "outputs": [],
   "source": [
    "input = input.drop(columns={'category'})\n",
    "input['code_ente'] = input['code_ente'].apply(tuple)\n",
    "input = input.drop_duplicates()\n",
    "input['code_ente'] = input['code_ente'].apply(list)"
   ]
  },
  {
   "cell_type": "code",
   "execution_count": 23,
   "metadata": {},
   "outputs": [
    {
     "data": {
      "text/plain": [
       "7870"
      ]
     },
     "execution_count": 23,
     "metadata": {},
     "output_type": "execute_result"
    }
   ],
   "source": [
    "input = input[(input['year']!='')]\n",
    "len(input)"
   ]
  },
  {
   "cell_type": "markdown",
   "metadata": {},
   "source": [
    "se ci sono risultati manda a daniele"
   ]
  },
  {
   "cell_type": "code",
   "execution_count": 24,
   "metadata": {},
   "outputs": [
    {
     "data": {
      "text/html": [
       "<div>\n",
       "<style scoped>\n",
       "    .dataframe tbody tr th:only-of-type {\n",
       "        vertical-align: middle;\n",
       "    }\n",
       "\n",
       "    .dataframe tbody tr th {\n",
       "        vertical-align: top;\n",
       "    }\n",
       "\n",
       "    .dataframe thead th {\n",
       "        text-align: right;\n",
       "    }\n",
       "</style>\n",
       "<table border=\"1\" class=\"dataframe\">\n",
       "  <thead>\n",
       "    <tr style=\"text-align: right;\">\n",
       "      <th></th>\n",
       "      <th>NR_Contratto</th>\n",
       "      <th>Debitore</th>\n",
       "      <th>Tribunale/Gdp</th>\n",
       "      <th>Foro</th>\n",
       "      <th>Cliente 1</th>\n",
       "      <th>Cliente 2</th>\n",
       "      <th>tipo_ricerca</th>\n",
       "      <th>code_office</th>\n",
       "      <th>office</th>\n",
       "      <th>code_ente</th>\n",
       "      <th>nr</th>\n",
       "      <th>year</th>\n",
       "    </tr>\n",
       "  </thead>\n",
       "  <tbody>\n",
       "    <tr>\n",
       "      <th>50</th>\n",
       "      <td>AA1700000339_04022021</td>\n",
       "      <td>AOUACHE HASSAN</td>\n",
       "      <td>giudice</td>\n",
       "      <td>mantova</td>\n",
       "      <td>A2A</td>\n",
       "      <td>A2A S.p.a.</td>\n",
       "      <td>monitoria</td>\n",
       "      <td>TNH</td>\n",
       "      <td>mantova  ut dpmn</td>\n",
       "      <td>[004, 006, 007]</td>\n",
       "      <td>1631</td>\n",
       "      <td>2921</td>\n",
       "    </tr>\n",
       "    <tr>\n",
       "      <th>1728</th>\n",
       "      <td>BZ300858743_1005_20230324</td>\n",
       "      <td>SCORDINO FRANCESCO</td>\n",
       "      <td>tribunale</td>\n",
       "      <td>catania</td>\n",
       "      <td>BNL</td>\n",
       "      <td>BNL-Zeus</td>\n",
       "      <td>monitoria</td>\n",
       "      <td>TXN</td>\n",
       "      <td>catania  ut dpct</td>\n",
       "      <td>[001, 002, 006, 007, 008, 009, 012, 014, 017]</td>\n",
       "      <td>4237</td>\n",
       "      <td>203</td>\n",
       "    </tr>\n",
       "    <tr>\n",
       "      <th>1741</th>\n",
       "      <td>BZ303252626_1005_20230609</td>\n",
       "      <td>FERRARA RITA</td>\n",
       "      <td>tribunale</td>\n",
       "      <td>napoli</td>\n",
       "      <td>BNL</td>\n",
       "      <td>BNL-Zeus</td>\n",
       "      <td>monitoria</td>\n",
       "      <td>TER</td>\n",
       "      <td>napoli 1  ut dpna1</td>\n",
       "      <td>[001, 003, 004, 018, 019, 020, 021, 022, 023, ...</td>\n",
       "      <td>35638</td>\n",
       "      <td>13207</td>\n",
       "    </tr>\n",
       "    <tr>\n",
       "      <th>1744</th>\n",
       "      <td>BZ303252626_1005_20230609</td>\n",
       "      <td>FERRARA RITA</td>\n",
       "      <td>tribunale</td>\n",
       "      <td>napoli</td>\n",
       "      <td>BNL</td>\n",
       "      <td>BNL-Zeus</td>\n",
       "      <td>monitoria</td>\n",
       "      <td>TES</td>\n",
       "      <td>napoli 2  ut dpna1</td>\n",
       "      <td>[001]</td>\n",
       "      <td>35638</td>\n",
       "      <td>13207</td>\n",
       "    </tr>\n",
       "    <tr>\n",
       "      <th>1747</th>\n",
       "      <td>BZ303252626_1005_20230609</td>\n",
       "      <td>FERRARA RITA</td>\n",
       "      <td>tribunale</td>\n",
       "      <td>napoli</td>\n",
       "      <td>BNL</td>\n",
       "      <td>BNL-Zeus</td>\n",
       "      <td>monitoria</td>\n",
       "      <td>TET</td>\n",
       "      <td>napoli 3  ut dpna2</td>\n",
       "      <td>[001, 002, 003, 004, 005, 006, 007, 016, 017, ...</td>\n",
       "      <td>35638</td>\n",
       "      <td>13207</td>\n",
       "    </tr>\n",
       "    <tr>\n",
       "      <th>3719</th>\n",
       "      <td>EN812414720_03062014</td>\n",
       "      <td>DE MICHELE PIETRO</td>\n",
       "      <td>giudice</td>\n",
       "      <td>barcellona pozzo di gotto</td>\n",
       "      <td>ENI</td>\n",
       "      <td>ENI S.p.A.</td>\n",
       "      <td>monitoria</td>\n",
       "      <td>TXH</td>\n",
       "      <td>barcellona pozzo di gotto  ut dpme</td>\n",
       "      <td>[002, 003, 007, 008, 011, 012]</td>\n",
       "      <td>8</td>\n",
       "      <td>2918</td>\n",
       "    </tr>\n",
       "    <tr>\n",
       "      <th>4777</th>\n",
       "      <td>EN832701932_13102023</td>\n",
       "      <td>EBRAHIM ASHRAF</td>\n",
       "      <td>giudice</td>\n",
       "      <td>milano</td>\n",
       "      <td>Eni</td>\n",
       "      <td>ENI S.p.A.</td>\n",
       "      <td>monitoria</td>\n",
       "      <td>TNL</td>\n",
       "      <td>milano 1  ut dpmi1</td>\n",
       "      <td>[006, 016]</td>\n",
       "      <td>25343</td>\n",
       "      <td>2029</td>\n",
       "    </tr>\n",
       "    <tr>\n",
       "      <th>4778</th>\n",
       "      <td>EN832701932_13102023</td>\n",
       "      <td>EBRAHIM ASHRAF</td>\n",
       "      <td>giudice</td>\n",
       "      <td>milano</td>\n",
       "      <td>Eni</td>\n",
       "      <td>ENI S.p.A.</td>\n",
       "      <td>monitoria</td>\n",
       "      <td>TNL</td>\n",
       "      <td>milano 1  ut dpmi1</td>\n",
       "      <td>[006, 016]</td>\n",
       "      <td>30316</td>\n",
       "      <td>2029</td>\n",
       "    </tr>\n",
       "    <tr>\n",
       "      <th>10537</th>\n",
       "      <td>UBS380208</td>\n",
       "      <td>LICITRA GIULIA</td>\n",
       "      <td>giudice</td>\n",
       "      <td>ancona</td>\n",
       "      <td>Sirio</td>\n",
       "      <td>SIRIO NPL S.R.L.</td>\n",
       "      <td>monitoria</td>\n",
       "      <td>TQD</td>\n",
       "      <td>ancona  ut dpan</td>\n",
       "      <td>[005, 006]</td>\n",
       "      <td>1177</td>\n",
       "      <td>223</td>\n",
       "    </tr>\n",
       "  </tbody>\n",
       "</table>\n",
       "</div>"
      ],
      "text/plain": [
       "                    NR_Contratto            Debitore Tribunale/Gdp  \\\n",
       "50         AA1700000339_04022021      AOUACHE HASSAN       giudice   \n",
       "1728   BZ300858743_1005_20230324  SCORDINO FRANCESCO     tribunale   \n",
       "1741   BZ303252626_1005_20230609        FERRARA RITA     tribunale   \n",
       "1744   BZ303252626_1005_20230609        FERRARA RITA     tribunale   \n",
       "1747   BZ303252626_1005_20230609        FERRARA RITA     tribunale   \n",
       "3719        EN812414720_03062014   DE MICHELE PIETRO       giudice   \n",
       "4777        EN832701932_13102023      EBRAHIM ASHRAF       giudice   \n",
       "4778        EN832701932_13102023      EBRAHIM ASHRAF       giudice   \n",
       "10537                  UBS380208      LICITRA GIULIA       giudice   \n",
       "\n",
       "                            Foro Cliente 1         Cliente 2 tipo_ricerca  \\\n",
       "50                       mantova       A2A        A2A S.p.a.    monitoria   \n",
       "1728                     catania       BNL          BNL-Zeus    monitoria   \n",
       "1741                      napoli       BNL          BNL-Zeus    monitoria   \n",
       "1744                      napoli       BNL          BNL-Zeus    monitoria   \n",
       "1747                      napoli       BNL          BNL-Zeus    monitoria   \n",
       "3719   barcellona pozzo di gotto       ENI        ENI S.p.A.    monitoria   \n",
       "4777                      milano       Eni        ENI S.p.A.    monitoria   \n",
       "4778                      milano       Eni        ENI S.p.A.    monitoria   \n",
       "10537                     ancona     Sirio  SIRIO NPL S.R.L.    monitoria   \n",
       "\n",
       "      code_office                              office  \\\n",
       "50            TNH                    mantova  ut dpmn   \n",
       "1728          TXN                    catania  ut dpct   \n",
       "1741          TER                  napoli 1  ut dpna1   \n",
       "1744          TES                  napoli 2  ut dpna1   \n",
       "1747          TET                  napoli 3  ut dpna2   \n",
       "3719          TXH  barcellona pozzo di gotto  ut dpme   \n",
       "4777          TNL                  milano 1  ut dpmi1   \n",
       "4778          TNL                  milano 1  ut dpmi1   \n",
       "10537         TQD                     ancona  ut dpan   \n",
       "\n",
       "                                               code_ente     nr   year  \n",
       "50                                       [004, 006, 007]   1631   2921  \n",
       "1728       [001, 002, 006, 007, 008, 009, 012, 014, 017]   4237    203  \n",
       "1741   [001, 003, 004, 018, 019, 020, 021, 022, 023, ...  35638  13207  \n",
       "1744                                               [001]  35638  13207  \n",
       "1747   [001, 002, 003, 004, 005, 006, 007, 016, 017, ...  35638  13207  \n",
       "3719                      [002, 003, 007, 008, 011, 012]      8   2918  \n",
       "4777                                          [006, 016]  25343   2029  \n",
       "4778                                          [006, 016]  30316   2029  \n",
       "10537                                         [005, 006]   1177    223  "
      ]
     },
     "execution_count": 24,
     "metadata": {},
     "output_type": "execute_result"
    }
   ],
   "source": [
    "x = input[(input['year']!='')]\n",
    "x['year'] = x['year'].astype(int)\n",
    "x[(x['year']>2024) | (x['year']<1900)]\n",
    "\n"
   ]
  },
  {
   "cell_type": "code",
   "execution_count": 25,
   "metadata": {},
   "outputs": [
    {
     "data": {
      "text/plain": [
       "7861"
      ]
     },
     "execution_count": 25,
     "metadata": {},
     "output_type": "execute_result"
    }
   ],
   "source": [
    "#4498   ??? \n",
    "input = input[(input['year']!='')]\n",
    "input['year'] = input['year'].astype(int)\n",
    "input = input[(input['year']<=2024) & (input['year']>1900)]\n",
    "len(input)"
   ]
  },
  {
   "cell_type": "code",
   "execution_count": 26,
   "metadata": {},
   "outputs": [],
   "source": [
    "input.to_excel(f'Input/Cleaned/{today}_input_v1.xlsx',index=False)"
   ]
  },
  {
   "cell_type": "code",
   "execution_count": 27,
   "metadata": {},
   "outputs": [
    {
     "data": {
      "text/plain": [
       "\"input_vecchio = pd.read_excel('Input/Cleaned/2024_06_03_input_v1.xlsx',dtype={'nr':str,'year':str})\\n\\ninput_vecchio['Debitore'] = (input_vecchio['Debitore']\\n                     .str.replace('-', ' ')\\n                     .str.replace(r'\\\\s+', ' ', regex=True)\\n                     .str.strip()\\n                    )\""
      ]
     },
     "execution_count": 27,
     "metadata": {},
     "output_type": "execute_result"
    }
   ],
   "source": [
    "\"\"\"input_vecchio = pd.read_excel('Input/Cleaned/2024_06_03_input_v1.xlsx',dtype={'nr':str,'year':str})\n",
    "\n",
    "input_vecchio['Debitore'] = (input_vecchio['Debitore']\n",
    "                     .str.replace('-', ' ')\n",
    "                     .str.replace(r'\\s+', ' ', regex=True)\n",
    "                     .str.strip()\n",
    "                    )\"\"\"\n"
   ]
  },
  {
   "cell_type": "code",
   "execution_count": 28,
   "metadata": {},
   "outputs": [
    {
     "data": {
      "text/plain": [
       "\"input['code_ente'] = input['code_ente'].astype(str)\\ninput_vecchio['code_ente'] = input_vecchio['code_ente'].astype(str)\""
      ]
     },
     "execution_count": 28,
     "metadata": {},
     "output_type": "execute_result"
    }
   ],
   "source": [
    "\"\"\"input['code_ente'] = input['code_ente'].astype(str)\n",
    "input_vecchio['code_ente'] = input_vecchio['code_ente'].astype(str)\"\"\""
   ]
  },
  {
   "cell_type": "code",
   "execution_count": 29,
   "metadata": {},
   "outputs": [
    {
     "data": {
      "text/plain": [
       "\"diff_df = input.merge(input_vecchio, how='outer', indicator=True)\\n# Filter the rows that are different\\ndiff_rows = diff_df[diff_df['_merge'] == 'left_only']\\ndiff_rows['code_ente'] = diff_rows['code_ente'].apply(eval)\\ndiff_rows\""
      ]
     },
     "execution_count": 29,
     "metadata": {},
     "output_type": "execute_result"
    }
   ],
   "source": [
    "\"\"\"diff_df = input.merge(input_vecchio, how='outer', indicator=True)\n",
    "# Filter the rows that are different\n",
    "diff_rows = diff_df[diff_df['_merge'] == 'left_only']\n",
    "diff_rows['code_ente'] = diff_rows['code_ente'].apply(eval)\n",
    "diff_rows\"\"\""
   ]
  },
  {
   "cell_type": "markdown",
   "metadata": {},
   "source": [
    "# SCRAPER"
   ]
  },
  {
   "cell_type": "markdown",
   "metadata": {},
   "source": [
    "Modificare new_df, 500 per volta"
   ]
  },
  {
   "cell_type": "code",
   "execution_count": 39,
   "metadata": {},
   "outputs": [],
   "source": [
    "a=100\n",
    "b=200\n",
    "# b = \"fine\"\n",
    "\n",
    "# new_df = input[a:]\n",
    "\n",
    "new_df = input[a:b]\n",
    "results =( new_df \n",
    "    .apply(lambda row: tipo_scraper(contratto=row['NR_Contratto'],\n",
    "                                    debitore=row['Debitore'],\n",
    "                                    tipo= row['tipo_ricerca'],\n",
    "                                    ufficio= row['code_office'],\n",
    "                                    lista_enti=row['code_ente'], \n",
    "                                    anno=row['year'],\n",
    "                                    numero= row['nr'],\n",
    "                                    row_number=row.name\n",
    "                                    ),\n",
    "                                    axis=1)\n",
    ")"
   ]
  },
  {
   "cell_type": "markdown",
   "metadata": {},
   "source": [
    "# PULIZIA RISULTATI"
   ]
  },
  {
   "cell_type": "code",
   "execution_count": 40,
   "metadata": {},
   "outputs": [],
   "source": [
    "filtered_data = [item for item in results if item != []]\n",
    "flattened_results = [item for sublist in filtered_data for item in (sublist if isinstance(sublist, list) else [sublist])]\n",
    "df = pd.DataFrame(flattened_results)\n",
    "df = df.drop_duplicates()"
   ]
  },
  {
   "cell_type": "code",
   "execution_count": 41,
   "metadata": {},
   "outputs": [],
   "source": [
    "cliente = input0[['NR_Contratto','Cliente 1','Cliente 2']]\n",
    "df = pd.merge(df,cliente,how='left', left_on='contratto',right_on='NR_Contratto' )\n",
    "df.drop(columns=['NR_Contratto'], inplace=True)\n",
    "df['Cliente 1'] = df['Cliente 1'].str.upper()\n",
    "df['Cliente 2'] = df['Cliente 2'].str.upper()\n",
    "df = df.drop_duplicates()"
   ]
  },
  {
   "cell_type": "markdown",
   "metadata": {},
   "source": [
    "# Check visivi"
   ]
  },
  {
   "cell_type": "code",
   "execution_count": 42,
   "metadata": {},
   "outputs": [
    {
     "data": {
      "text/html": [
       "<div>\n",
       "<style scoped>\n",
       "    .dataframe tbody tr th:only-of-type {\n",
       "        vertical-align: middle;\n",
       "    }\n",
       "\n",
       "    .dataframe tbody tr th {\n",
       "        vertical-align: top;\n",
       "    }\n",
       "\n",
       "    .dataframe thead th {\n",
       "        text-align: right;\n",
       "    }\n",
       "</style>\n",
       "<table border=\"1\" class=\"dataframe\">\n",
       "  <thead>\n",
       "    <tr style=\"text-align: right;\">\n",
       "      <th></th>\n",
       "      <th>contratto</th>\n",
       "      <th>debitore</th>\n",
       "      <th>ufficio</th>\n",
       "      <th>atto</th>\n",
       "      <th>emesso da</th>\n",
       "      <th>repertorio</th>\n",
       "      <th>attore</th>\n",
       "      <th>convenuto</th>\n",
       "      <th>stato</th>\n",
       "      <th>compila</th>\n",
       "      <th>Cliente 1</th>\n",
       "      <th>Cliente 2</th>\n",
       "    </tr>\n",
       "  </thead>\n",
       "  <tbody>\n",
       "    <tr>\n",
       "      <th>61</th>\n",
       "      <td>AA1700001034_04022021</td>\n",
       "      <td>ABF SRL UNIPERSONALE</td>\n",
       "      <td>REGGIO EMILIA  UT DPRE</td>\n",
       "      <td>DECRETO INGIUNTIVO n. 2136 del 2021</td>\n",
       "      <td>TRIB. R.E. UFF. GIUDICE UNICO</td>\n",
       "      <td>497/22 - 2022</td>\n",
       "      <td>LOCA TOP</td>\n",
       "      <td>.</td>\n",
       "      <td>ATTO REGISTRATO</td>\n",
       "      <td>no</td>\n",
       "      <td>A2A</td>\n",
       "      <td>A2A S.P.A.</td>\n",
       "    </tr>\n",
       "    <tr>\n",
       "      <th>412</th>\n",
       "      <td>AA1700001404_04022021</td>\n",
       "      <td>SINGH SUKHVINDER</td>\n",
       "      <td>MANTOVA  UT DPMN</td>\n",
       "      <td>DECRETO INGIUNTIVO n. 451 del 2022</td>\n",
       "      <td>GIUDICE DI PACE-MANTOVA</td>\n",
       "      <td>665 - 2022</td>\n",
       "      <td>APRICA S.P.A.</td>\n",
       "      <td>SINGH</td>\n",
       "      <td>ATTO IN FASE DI TASSAZIONE</td>\n",
       "      <td>no</td>\n",
       "      <td>A2A</td>\n",
       "      <td>A2A S.P.A.</td>\n",
       "    </tr>\n",
       "    <tr>\n",
       "      <th>448</th>\n",
       "      <td>AA1700001500_04022021</td>\n",
       "      <td>DAHBI ABDELLAH</td>\n",
       "      <td>MANTOVA  UT DPMN</td>\n",
       "      <td>DECRETO INGIUNTIVO n. 235 del 2022</td>\n",
       "      <td>TRIBUNALE DI MANTOVA</td>\n",
       "      <td>301 - 2022</td>\n",
       "      <td>ZANCHI</td>\n",
       "      <td>SARZI AMADE'</td>\n",
       "      <td>STAMPATO AVVISO DI LIQUIDAZIONE</td>\n",
       "      <td>no</td>\n",
       "      <td>A2A</td>\n",
       "      <td>A2A S.P.A.</td>\n",
       "    </tr>\n",
       "    <tr>\n",
       "      <th>450</th>\n",
       "      <td>AA1700001500_04022021</td>\n",
       "      <td>DAHBI ABDELLAH</td>\n",
       "      <td>MANTOVA  UT DPMN</td>\n",
       "      <td>DECRETO INGIUNTIVO n. 109 del 2022</td>\n",
       "      <td>TRIBUNALE DI MANTOVA</td>\n",
       "      <td>959/2023 - 2022</td>\n",
       "      <td>TEA ENERGIA S.R.L.</td>\n",
       "      <td>ALESSANDRI</td>\n",
       "      <td>ATTO IN FASE DI TASSAZIONE</td>\n",
       "      <td>no</td>\n",
       "      <td>A2A</td>\n",
       "      <td>A2A S.P.A.</td>\n",
       "    </tr>\n",
       "    <tr>\n",
       "      <th>452</th>\n",
       "      <td>AA1700001507_04022021</td>\n",
       "      <td>FAGGIONI ERICA</td>\n",
       "      <td>MANTOVA  UT DPMN</td>\n",
       "      <td>DECRETO INGIUNTIVO n. 515 del 2022</td>\n",
       "      <td>GIUDICE DI PACE-MANTOVA</td>\n",
       "      <td>663 - 2022</td>\n",
       "      <td>APRICA S.P.A.</td>\n",
       "      <td>FAGGIONI</td>\n",
       "      <td>ATTO IN FASE DI TASSAZIONE</td>\n",
       "      <td>no</td>\n",
       "      <td>A2A</td>\n",
       "      <td>A2A S.P.A.</td>\n",
       "    </tr>\n",
       "    <tr>\n",
       "      <th>476</th>\n",
       "      <td>AA1700001525_04022021</td>\n",
       "      <td>OMRI MOHAMED</td>\n",
       "      <td>MANTOVA  UT DPMN</td>\n",
       "      <td>DECRETO INGIUNTIVO n. 526 del 2022</td>\n",
       "      <td>GIUDICE DI PACE-MANTOVA</td>\n",
       "      <td>662 - 2022</td>\n",
       "      <td>APRICA S.P.A.</td>\n",
       "      <td>OMRI</td>\n",
       "      <td>ATTO IN FASE DI TASSAZIONE</td>\n",
       "      <td>no</td>\n",
       "      <td>A2A</td>\n",
       "      <td>A2A S.P.A.</td>\n",
       "    </tr>\n",
       "    <tr>\n",
       "      <th>524</th>\n",
       "      <td>AA1700001564_04022021</td>\n",
       "      <td>ALI IMRAN</td>\n",
       "      <td>MANTOVA  UT DPMN</td>\n",
       "      <td>DECRETO INGIUNTIVO n. 868 del 2022</td>\n",
       "      <td>TRIBUNALE DI MANTOVA</td>\n",
       "      <td>97 - 2022</td>\n",
       "      <td>IFIS NPL INVESTING S.P.A.</td>\n",
       "      <td>POZZI</td>\n",
       "      <td>ATTO IN FASE DI TASSAZIONE</td>\n",
       "      <td>no</td>\n",
       "      <td>A2A</td>\n",
       "      <td>A2A S.P.A.</td>\n",
       "    </tr>\n",
       "    <tr>\n",
       "      <th>526</th>\n",
       "      <td>AA1700001564_04022021</td>\n",
       "      <td>ALI IMRAN</td>\n",
       "      <td>MANTOVA  UT DPMN</td>\n",
       "      <td>DECRETO INGIUNTIVO n. 536 del 2022</td>\n",
       "      <td>TRIBUNALE DI MANTOVA</td>\n",
       "      <td>1050 - 2022</td>\n",
       "      <td>M.T. MANTOVANA TERMOSANITARIA</td>\n",
       "      <td>SALVATERRA</td>\n",
       "      <td>ATTO IN FASE DI TASSAZIONE</td>\n",
       "      <td>no</td>\n",
       "      <td>A2A</td>\n",
       "      <td>A2A S.P.A.</td>\n",
       "    </tr>\n",
       "    <tr>\n",
       "      <th>534</th>\n",
       "      <td>AA1700001596_04022021</td>\n",
       "      <td>SINGH SUKHWINDER</td>\n",
       "      <td>MANTOVA  UT DPMN</td>\n",
       "      <td>DECRETO INGIUNTIVO n. 664 del 2022</td>\n",
       "      <td>GIUDICE DI PACE-MANTOVA</td>\n",
       "      <td>124 - 2023</td>\n",
       "      <td>TEA ENERGIA S.R.L.</td>\n",
       "      <td>NDOYE</td>\n",
       "      <td>ATTO IN FASE DI TASSAZIONE</td>\n",
       "      <td>no</td>\n",
       "      <td>A2A</td>\n",
       "      <td>A2A S.P.A.</td>\n",
       "    </tr>\n",
       "    <tr>\n",
       "      <th>558</th>\n",
       "      <td>AA1700001605_04022021</td>\n",
       "      <td>SINGH GURDEV</td>\n",
       "      <td>MANTOVA  UT DPMN</td>\n",
       "      <td>DECRETO INGIUNTIVO n. 676 del 2022</td>\n",
       "      <td>GIUDICE DI PACE-MANTOVA</td>\n",
       "      <td>313 - 2022</td>\n",
       "      <td>SERVIZIO IDRICO INTEGRATO COMU</td>\n",
       "      <td>ANDREANO</td>\n",
       "      <td>ATTO IN FASE DI TASSAZIONE</td>\n",
       "      <td>no</td>\n",
       "      <td>A2A</td>\n",
       "      <td>A2A S.P.A.</td>\n",
       "    </tr>\n",
       "    <tr>\n",
       "      <th>600</th>\n",
       "      <td>AA1700001667_04022021</td>\n",
       "      <td>CARNEVALI ENZO MARIO</td>\n",
       "      <td>MANTOVA  UT DPMN</td>\n",
       "      <td>DECRETO INGIUNTIVO n. 572 del 2022</td>\n",
       "      <td>GIUDICE DI PACE-MANTOVA</td>\n",
       "      <td>849 - 2022</td>\n",
       "      <td>EMMEBI ARTECASA S.R.L.</td>\n",
       "      <td>LA PIETRA</td>\n",
       "      <td>ATTO IN FASE DI TASSAZIONE</td>\n",
       "      <td>no</td>\n",
       "      <td>A2A</td>\n",
       "      <td>A2A S.P.A.</td>\n",
       "    </tr>\n",
       "    <tr>\n",
       "      <th>606</th>\n",
       "      <td>AA1700001667_04022021</td>\n",
       "      <td>CARNEVALI ENZO MARIO</td>\n",
       "      <td>MANTOVA  UT DPMN</td>\n",
       "      <td>DECRETO INGIUNTIVO n. 829 del 2022</td>\n",
       "      <td>GIUDICE DI PACE-MANTOVA</td>\n",
       "      <td>334 - 2022</td>\n",
       "      <td>LA BRIANTINA DI POLI GIOVANNI</td>\n",
       "      <td>M2 SRL</td>\n",
       "      <td>ATTO IN FASE DI TASSAZIONE</td>\n",
       "      <td>no</td>\n",
       "      <td>A2A</td>\n",
       "      <td>A2A S.P.A.</td>\n",
       "    </tr>\n",
       "  </tbody>\n",
       "</table>\n",
       "</div>"
      ],
      "text/plain": [
       "                 contratto              debitore                 ufficio  \\\n",
       "61   AA1700001034_04022021  ABF SRL UNIPERSONALE  REGGIO EMILIA  UT DPRE   \n",
       "412  AA1700001404_04022021      SINGH SUKHVINDER        MANTOVA  UT DPMN   \n",
       "448  AA1700001500_04022021        DAHBI ABDELLAH        MANTOVA  UT DPMN   \n",
       "450  AA1700001500_04022021        DAHBI ABDELLAH        MANTOVA  UT DPMN   \n",
       "452  AA1700001507_04022021        FAGGIONI ERICA        MANTOVA  UT DPMN   \n",
       "476  AA1700001525_04022021          OMRI MOHAMED        MANTOVA  UT DPMN   \n",
       "524  AA1700001564_04022021             ALI IMRAN        MANTOVA  UT DPMN   \n",
       "526  AA1700001564_04022021             ALI IMRAN        MANTOVA  UT DPMN   \n",
       "534  AA1700001596_04022021      SINGH SUKHWINDER        MANTOVA  UT DPMN   \n",
       "558  AA1700001605_04022021          SINGH GURDEV        MANTOVA  UT DPMN   \n",
       "600  AA1700001667_04022021  CARNEVALI ENZO MARIO        MANTOVA  UT DPMN   \n",
       "606  AA1700001667_04022021  CARNEVALI ENZO MARIO        MANTOVA  UT DPMN   \n",
       "\n",
       "                                    atto                      emesso da  \\\n",
       "61   DECRETO INGIUNTIVO n. 2136 del 2021  TRIB. R.E. UFF. GIUDICE UNICO   \n",
       "412   DECRETO INGIUNTIVO n. 451 del 2022        GIUDICE DI PACE-MANTOVA   \n",
       "448   DECRETO INGIUNTIVO n. 235 del 2022           TRIBUNALE DI MANTOVA   \n",
       "450   DECRETO INGIUNTIVO n. 109 del 2022           TRIBUNALE DI MANTOVA   \n",
       "452   DECRETO INGIUNTIVO n. 515 del 2022        GIUDICE DI PACE-MANTOVA   \n",
       "476   DECRETO INGIUNTIVO n. 526 del 2022        GIUDICE DI PACE-MANTOVA   \n",
       "524   DECRETO INGIUNTIVO n. 868 del 2022           TRIBUNALE DI MANTOVA   \n",
       "526   DECRETO INGIUNTIVO n. 536 del 2022           TRIBUNALE DI MANTOVA   \n",
       "534   DECRETO INGIUNTIVO n. 664 del 2022        GIUDICE DI PACE-MANTOVA   \n",
       "558   DECRETO INGIUNTIVO n. 676 del 2022        GIUDICE DI PACE-MANTOVA   \n",
       "600   DECRETO INGIUNTIVO n. 572 del 2022        GIUDICE DI PACE-MANTOVA   \n",
       "606   DECRETO INGIUNTIVO n. 829 del 2022        GIUDICE DI PACE-MANTOVA   \n",
       "\n",
       "          repertorio                          attore     convenuto  \\\n",
       "61     497/22 - 2022                        LOCA TOP             .   \n",
       "412       665 - 2022                   APRICA S.P.A.         SINGH   \n",
       "448       301 - 2022                          ZANCHI  SARZI AMADE'   \n",
       "450  959/2023 - 2022              TEA ENERGIA S.R.L.    ALESSANDRI   \n",
       "452       663 - 2022                   APRICA S.P.A.      FAGGIONI   \n",
       "476       662 - 2022                   APRICA S.P.A.          OMRI   \n",
       "524        97 - 2022       IFIS NPL INVESTING S.P.A.         POZZI   \n",
       "526      1050 - 2022   M.T. MANTOVANA TERMOSANITARIA    SALVATERRA   \n",
       "534       124 - 2023              TEA ENERGIA S.R.L.         NDOYE   \n",
       "558       313 - 2022  SERVIZIO IDRICO INTEGRATO COMU      ANDREANO   \n",
       "600       849 - 2022          EMMEBI ARTECASA S.R.L.     LA PIETRA   \n",
       "606       334 - 2022   LA BRIANTINA DI POLI GIOVANNI        M2 SRL   \n",
       "\n",
       "                               stato compila Cliente 1   Cliente 2  \n",
       "61                   ATTO REGISTRATO      no       A2A  A2A S.P.A.  \n",
       "412       ATTO IN FASE DI TASSAZIONE      no       A2A  A2A S.P.A.  \n",
       "448  STAMPATO AVVISO DI LIQUIDAZIONE      no       A2A  A2A S.P.A.  \n",
       "450       ATTO IN FASE DI TASSAZIONE      no       A2A  A2A S.P.A.  \n",
       "452       ATTO IN FASE DI TASSAZIONE      no       A2A  A2A S.P.A.  \n",
       "476       ATTO IN FASE DI TASSAZIONE      no       A2A  A2A S.P.A.  \n",
       "524       ATTO IN FASE DI TASSAZIONE      no       A2A  A2A S.P.A.  \n",
       "526       ATTO IN FASE DI TASSAZIONE      no       A2A  A2A S.P.A.  \n",
       "534       ATTO IN FASE DI TASSAZIONE      no       A2A  A2A S.P.A.  \n",
       "558       ATTO IN FASE DI TASSAZIONE      no       A2A  A2A S.P.A.  \n",
       "600       ATTO IN FASE DI TASSAZIONE      no       A2A  A2A S.P.A.  \n",
       "606       ATTO IN FASE DI TASSAZIONE      no       A2A  A2A S.P.A.  "
      ]
     },
     "execution_count": 42,
     "metadata": {},
     "output_type": "execute_result"
    }
   ],
   "source": [
    "# Righe con risultati\n",
    "df[(df['attore'] != '-') | (df['convenuto'] != '-') ]"
   ]
  },
  {
   "cell_type": "code",
   "execution_count": 43,
   "metadata": {},
   "outputs": [
    {
     "data": {
      "text/html": [
       "<div>\n",
       "<style scoped>\n",
       "    .dataframe tbody tr th:only-of-type {\n",
       "        vertical-align: middle;\n",
       "    }\n",
       "\n",
       "    .dataframe tbody tr th {\n",
       "        vertical-align: top;\n",
       "    }\n",
       "\n",
       "    .dataframe thead th {\n",
       "        text-align: right;\n",
       "    }\n",
       "</style>\n",
       "<table border=\"1\" class=\"dataframe\">\n",
       "  <thead>\n",
       "    <tr style=\"text-align: right;\">\n",
       "      <th></th>\n",
       "      <th>contratto</th>\n",
       "      <th>debitore</th>\n",
       "      <th>ufficio</th>\n",
       "      <th>atto</th>\n",
       "      <th>emesso da</th>\n",
       "      <th>repertorio</th>\n",
       "      <th>attore</th>\n",
       "      <th>convenuto</th>\n",
       "      <th>stato</th>\n",
       "      <th>compila</th>\n",
       "      <th>Cliente 1</th>\n",
       "      <th>Cliente 2</th>\n",
       "    </tr>\n",
       "  </thead>\n",
       "  <tbody>\n",
       "  </tbody>\n",
       "</table>\n",
       "</div>"
      ],
      "text/plain": [
       "Empty DataFrame\n",
       "Columns: [contratto, debitore, ufficio, atto, emesso da, repertorio, attore, convenuto, stato, compila, Cliente 1, Cliente 2]\n",
       "Index: []"
      ]
     },
     "execution_count": 43,
     "metadata": {},
     "output_type": "execute_result"
    }
   ],
   "source": [
    "# Guardare i nomi in format 'name +1'\n",
    "df[(df['attore'].str.contains('\\+')) | (df['convenuto'].str.contains('\\+')) ]"
   ]
  },
  {
   "cell_type": "markdown",
   "metadata": {},
   "source": [
    "# SALVATAGGIO OUTPUT"
   ]
  },
  {
   "cell_type": "code",
   "execution_count": 44,
   "metadata": {},
   "outputs": [],
   "source": [
    "df['attore'] = (df['attore']\n",
    "                .str.replace('.', '', regex=False)\n",
    "                .str.replace('-', '', regex=False)\n",
    "                .str.strip()\n",
    "                )\n",
    "df['convenuto'] = (df['convenuto']\n",
    "                .str.replace('.', '', regex=False)\n",
    "                .str.replace('-', '', regex=False)\n",
    "                .str.strip()\n",
    "                )\n",
    "df['debitore'] = (df['debitore']\n",
    "                .str.replace('.', '', regex=False)\n",
    "                .str.replace('-', '', regex=False)\n",
    "                .str.strip()\n",
    "                )\n",
    "df['Cliente 1'] = (df['Cliente 1']\n",
    "                .str.replace('.', '', regex=False)\n",
    "                .str.replace('-', '', regex=False)\n",
    "                .str.strip()\n",
    "                )\n",
    "df['Cliente 2'] = (df['Cliente 2']\n",
    "                .str.replace('.', '', regex=False)\n",
    "                .str.replace('-', '', regex=False)\n",
    "                .str.strip()\n",
    "                )"
   ]
  },
  {
   "cell_type": "code",
   "execution_count": 45,
   "metadata": {},
   "outputs": [],
   "source": [
    "df['convenuto'] = df['convenuto'] .str.upper()\n",
    "df['debitore'] = df['debitore'] .str.upper()\n",
    "df['attore'] = df['attore'] .str.upper()\n",
    "df['Cliente 1'] = df['Cliente 1'] .str.upper()\n",
    "df['Cliente 2'] = df['Cliente 2'] .str.upper()"
   ]
  },
  {
   "cell_type": "code",
   "execution_count": 46,
   "metadata": {},
   "outputs": [],
   "source": [
    "mask_attore = df['attore'].str.contains('\\+')\n",
    "mask_convenuto = df['convenuto'].str.contains('\\+')\n",
    "\n",
    "df.loc[mask_attore, 'attore'] = df.loc[mask_attore, 'attore'].str.split('\\+').str[0].str.strip()\n",
    "df.loc[mask_convenuto, 'convenuto'] = df.loc[mask_convenuto, 'convenuto'].str.split('\\+').str[0].str.strip()"
   ]
  },
  {
   "cell_type": "code",
   "execution_count": 47,
   "metadata": {},
   "outputs": [],
   "source": [
    "# df = pd.DataFrame(results.explode().tolist())\n",
    "target_dir= f'Output/{str(today)}'\n",
    "os.makedirs(target_dir, exist_ok=True)\n",
    "df.drop(columns={'compila'}).to_excel(f'Output/{str(today)}/{str(today)}_output_{a}_{b}_v1.xlsx',index=False)\n"
   ]
  },
  {
   "cell_type": "markdown",
   "metadata": {},
   "source": [
    "# Da modificare: Capire come cambiare Cliente in cliente 1 / 2 !!"
   ]
  },
  {
   "cell_type": "code",
   "execution_count": 42,
   "metadata": {},
   "outputs": [
    {
     "name": "stderr",
     "output_type": "stream",
     "text": [
      "C:\\Users\\eleonora.zarrilli\\AppData\\Local\\Temp\\ipykernel_21672\\2563999687.py:9: SettingWithCopyWarning: \n",
      "A value is trying to be set on a copy of a slice from a DataFrame.\n",
      "Try using .loc[row_indexer,col_indexer] = value instead\n",
      "\n",
      "See the caveats in the documentation: https://pandas.pydata.org/pandas-docs/stable/user_guide/indexing.html#returning-a-view-versus-a-copy\n",
      "  df['match']='no'\n",
      "C:\\Users\\eleonora.zarrilli\\AppData\\Local\\Temp\\ipykernel_21672\\2563999687.py:12: SettingWithCopyWarning: \n",
      "A value is trying to be set on a copy of a slice from a DataFrame.\n",
      "Try using .loc[row_indexer,col_indexer] = value instead\n",
      "\n",
      "See the caveats in the documentation: https://pandas.pydata.org/pandas-docs/stable/user_guide/indexing.html#returning-a-view-versus-a-copy\n",
      "  df['esito'] = '?'\n"
     ]
    }
   ],
   "source": [
    "df = df[df['stato']!='-']\n",
    "mask = df.apply(lambda row: (row['Cliente 1'] in row['attore']) \n",
    "                   or (row['attore'] in row['Cliente 1']) or\n",
    "                    (row['Cliente 2'] in row['attore']) \n",
    "                   or (row['attore'] in row['Cliente 2']) or\n",
    "                     (row['convenuto'] in row['debitore'])\n",
    "                   or (row['debitore'] in row['convenuto']), axis=1)\n",
    "\n",
    "df['match']='no'\n",
    "df.loc[mask, 'match'] = 'si'\n",
    "\n",
    "df['esito'] = '?'\n",
    "df.loc[(df['match'] == 'si') & (df['compila'] == 'si'), 'esito'] = 'f24'\n",
    "df.loc[(df['match'] == 'si') & (df['compila'] == 'no'), 'esito'] = 'esito ok'\n",
    "df.loc[(df['match'] == 'no') & (df['compila'] == 'no'), 'esito'] = 'verifica dati'\n",
    "df.loc[(df['match'] == 'no') & (df['compila'] == 'si'), 'esito'] = 'verifica dati / possibile f24'\n",
    "\n",
    "\n",
    "df.to_excel(f'Output/{str(today)}/{str(today)}_esiti_positivi_{a}_{b}_v2.xlsx',index=False)"
   ]
  },
  {
   "cell_type": "markdown",
   "metadata": {},
   "source": [
    "Uniamo tutti i file di output"
   ]
  },
  {
   "cell_type": "code",
   "execution_count": 4,
   "metadata": {},
   "outputs": [],
   "source": [
    "df = pd.DataFrame()\n",
    "folder_path = f'Output/{str(today)}'\n",
    "dataframes = []\n",
    "\n",
    "for filename in os.listdir(folder_path):\n",
    "    if filename.endswith('.xlsx') and 'output' in filename:\n",
    "        file_path = os.path.join(folder_path, filename)\n",
    "        dataframes.append(pd.read_excel(file_path))\n",
    "\n",
    "if dataframes:\n",
    "    df = pd.concat(dataframes, ignore_index=True)\n",
    "\n",
    "df = df.drop_duplicates()\n",
    "df.to_excel(f'Output/{str(today)}/{str(today)}_output_totale.xlsx',index= False)\n",
    "            "
   ]
  },
  {
   "cell_type": "code",
   "execution_count": 5,
   "metadata": {},
   "outputs": [],
   "source": [
    "df = pd.DataFrame()\n",
    "folder_path = f'Output/{str(today)}'\n",
    "dataframes = []\n",
    "\n",
    "for filename in os.listdir(folder_path):\n",
    "    if filename.endswith('.xlsx') and 'esiti' in filename:\n",
    "        file_path = os.path.join(folder_path, filename)\n",
    "        dataframes.append(pd.read_excel(file_path))\n",
    "\n",
    "if dataframes:\n",
    "    df = pd.concat(dataframes, ignore_index=True)\n",
    "\n",
    "df = df.drop_duplicates()\n",
    "df.to_excel(f'Output/{str(today)}/{str(today)}_esiti_positivi.xlsx',index=False)"
   ]
  }
 ],
 "metadata": {
  "kernelspec": {
   "display_name": "scraper_env",
   "language": "python",
   "name": "python3"
  },
  "language_info": {
   "codemirror_mode": {
    "name": "ipython",
    "version": 3
   },
   "file_extension": ".py",
   "mimetype": "text/x-python",
   "name": "python",
   "nbconvert_exporter": "python",
   "pygments_lexer": "ipython3",
   "version": "3.11.5"
  }
 },
 "nbformat": 4,
 "nbformat_minor": 2
}
