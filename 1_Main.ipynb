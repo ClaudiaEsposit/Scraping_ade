{
 "cells": [
  {
   "cell_type": "markdown",
   "metadata": {},
   "source": [
    "# IMPORT"
   ]
  },
  {
   "cell_type": "code",
   "execution_count": 1,
   "metadata": {},
   "outputs": [],
   "source": [
    "import requests\n",
    "from bs4 import BeautifulSoup\n",
    "import os"
   ]
  },
  {
   "cell_type": "markdown",
   "metadata": {},
   "source": [
    "# FUNCTIONS"
   ]
  },
  {
   "cell_type": "code",
   "execution_count": 2,
   "metadata": {},
   "outputs": [],
   "source": [
    "def scraper(ufficio,ente,anno,numero,natura):\n",
    "    \"\"\"\n",
    "    ufficio è l'id che si trova nel file uffici_finanziari (in code)\n",
    "    ente è l'id da ricavare da enti.json   (esempio 001 )\n",
    "    numero da file input (rg / decreto / etc )\n",
    "    anno anno con 4 cifre da file input\n",
    "    natura  DI  AV  /  EM  OR\n",
    "    \"\"\"\n",
    "\n",
    "\n",
    "    session = requests.Session()\n",
    "    initial_url = 'https://www1.agenziaentrate.gov.it/servizi/tassazioneattigiudiziari/registrazione.htm'\n",
    "    session.get(initial_url) \n",
    "\n",
    "    url1 = 'https://www1.agenziaentrate.gov.it/servizi/tassazioneattigiudiziari/registrazione.htm'\n",
    "    params1 = {\n",
    "        'action': 'scegliufficio',\n",
    "        'ufficio': ufficio,\n",
    "    }\n",
    "    headers = {\n",
    "        'Connection': 'keep-alive',\n",
    "        'Accept-Encoding': 'gzip, deflate, br',\n",
    "        'Accept': '*/*',\n",
    "        'Content-Type': 'application/x-www-form-urlencoded',\n",
    "    }\n",
    "    body1 = {\n",
    "        'ufficio': ufficio,\n",
    "    }\n",
    "    response1 = session.post(url1, headers=headers, params=params1, data=body1)\n",
    "    \n",
    "    if response1:\n",
    "        url2 = 'https://www1.agenziaentrate.gov.it/servizi/tassazioneattigiudiziari/registrazione.htm'\n",
    "        params2 = {\n",
    "            'action': 'scegliente',\n",
    "        }\n",
    "        body2 = {\n",
    "            'ente': ente,\n",
    "            'anno': anno,\n",
    "            'numero': numero,\n",
    "            'natura' : natura,\n",
    "            'snumero' : \"\"\n",
    "        }\n",
    "        response2 = session.post(url2, headers=headers, params=params2, data=body2)\n",
    "        if response2 :\n",
    "            soup2 = BeautifulSoup(response2.text, 'html.parser')\n",
    "            if 'non trovato' in response2.text:\n",
    "                rep = str(numero) + ' - ' + str(anno)\n",
    "                return [ufficio, natura, ente, rep, '-', '-', '-','no']\n",
    "            elif 'selezionare' in response2.text.lower():\n",
    "                rep = str(numero) + ' - ' + str(anno)\n",
    "                return [ufficio, natura, ente, rep, '-', '-', '-','ente mancante / possibile altro errore']\n",
    "            else :\n",
    "                compila = 'no'\n",
    "                tabella = soup2.find('div', class_='panel-body')\n",
    "\n",
    "                if  tabella.find('span', string=\"Atto tassato dall'ufficio di: \"): \n",
    "                    office = tabella.find('span', string=\"Atto tassato dall'ufficio di: \").find_next_sibling('span').get_text(strip=True)\n",
    "                else :\n",
    "                    office = '-'   \n",
    "\n",
    "                if tabella.find('span', string=\"Tipologia atto: \"):\n",
    "                    atto = tabella.find('span', string=\"Tipologia atto: \").find_next_sibling('span').get_text(strip=True)\n",
    "                else :\n",
    "                    atto = '-'  \n",
    "\n",
    "                if tabella.find('span', string=\"Emesso da: \"):\n",
    "                    emesso_da = tabella.find('span', string=\"Emesso da: \").find_next_sibling('span').get_text(strip=True)\n",
    "                else :\n",
    "                    emesso_da = '-'   \n",
    "\n",
    "                if tabella.find('span', string=\"n. Repertorio - anno: \"):\n",
    "                    repertorio = tabella.find('span', string=\"n. Repertorio - anno: \").find_next_sibling('span').get_text(strip=True)\n",
    "                else :\n",
    "                    repertorio = '-'  \n",
    "\n",
    "                if tabella.find('span', string=\"Attore: \"):\n",
    "                    attore = tabella.find('span', string=\"Attore: \").find_next_sibling('span').get_text(strip=True)\n",
    "                else:\n",
    "                    attore='-'\n",
    "\n",
    "                if tabella.find('span', string=\"Convenuto: \"):\n",
    "                    convenuto = tabella.find('span', string=\"Convenuto: \").find_next_sibling('span').get_text(strip=True)\n",
    "                else:\n",
    "                    convenuto ='-'\n",
    "\n",
    "                if tabella.find('span', string=\"Stato dell'atto: \"):\n",
    "                    stato = tabella.find('span', string=\"Stato dell'atto: \").find_next_sibling('span').get_text(strip=True)\n",
    "                else:\n",
    "                    stato= '-'\n",
    "\n",
    "                if 'compilaf24.php' in response2.text: \n",
    "                    compila = 'si'\n",
    "\n",
    "                return [office,atto,emesso_da,repertorio,attore,convenuto,stato,compila]\n",
    "        else :\n",
    "            rep = str(numero) + ' - ' + str(anno)\n",
    "            return [ufficio, natura, ente, rep, '-', '-', '-','no']\n",
    "\n",
    "    else:\n",
    "       return 'ufficio non trovato'   "
   ]
  },
  {
   "cell_type": "code",
   "execution_count": 3,
   "metadata": {},
   "outputs": [],
   "source": [
    "list_natura_monitoria = ['DI','AV']\n",
    "list_natura_ppt = ['EM','OR']\n",
    "\n",
    "def tipo_scraper(contratto,debitore, tipo, ufficio, lista_enti, anno, numero,row_number):\n",
    "    #print(row_number)\n",
    "    results = []\n",
    "    try:\n",
    "        if tipo == 'monitoria':\n",
    "            natura_list = list_natura_monitoria\n",
    "        elif tipo == 'ppt':\n",
    "            natura_list = list_natura_ppt\n",
    "        else:\n",
    "            raise ValueError(\"Invalid tipo value\")\n",
    "\n",
    "        for natura in natura_list:\n",
    "            for ente in lista_enti:\n",
    "                result=''\n",
    "                result = scraper(ufficio, ente, anno, numero, natura)\n",
    "                if isinstance(result, list):\n",
    "                    if len(result) == 8:\n",
    "                        results.append({\n",
    "                            \"contratto\":contratto,\n",
    "                            \"debitore\":debitore,\n",
    "                            'ufficio': result[0],\n",
    "                            'atto': result[1],\n",
    "                            'emesso da': result[2],\n",
    "                            'repertorio': result[3],\n",
    "                            'attore': result[4],\n",
    "                            'convenuto': result[5],\n",
    "                            'stato': result[6],\n",
    "                            \"compila\":result[7]\n",
    "                        })\n",
    "                    else:\n",
    "                        rep = str(numero) + ' - ' + str(anno)\n",
    "                        results.append({\n",
    "                            \"contratto\":contratto,\n",
    "                            \"debitore\":debitore,\n",
    "                            'ufficio': ufficio,\n",
    "                            'natura': natura,\n",
    "                            'ente': ente,\n",
    "                            'repertorio': rep,\n",
    "                            'attore': '-',\n",
    "                            'convenuto': '-',\n",
    "                            'stato': '-',\n",
    "                            \"compila\":'no'\n",
    "                        })\n",
    "                else:\n",
    "                    print(result)\n",
    "    except Exception as e:\n",
    "        print(f'Riga con errore: {row_number} , ente : {ente} , natura : {natura} , debitore : {debitore}')\n",
    "        print(f\"Error occurred: {e}\")\n",
    "    return results\n",
    "\n",
    "# tipo_scraper('1','de','ppt','TQE',['001'],20,2,1)"
   ]
  },
  {
   "cell_type": "markdown",
   "metadata": {},
   "source": [
    "# PULIZIA INPUT"
   ]
  },
  {
   "cell_type": "code",
   "execution_count": 4,
   "metadata": {},
   "outputs": [],
   "source": [
    "from Pulizia import clean , split_and_expand\n",
    "import pandas as pd\n",
    "import json\n",
    "from datetime import date\n",
    "import numpy as np\n",
    "import re\n",
    "today = date.today()\n"
   ]
  },
  {
   "cell_type": "code",
   "execution_count": 5,
   "metadata": {},
   "outputs": [],
   "source": [
    "uffici = pd.read_excel('Resources/uffici_finanziari.xlsx')\n",
    "uffici = uffici.iloc[1:]\n",
    "uffici['office'] = uffici['office'].str.lower()\n",
    "uffici_ut = uffici[uffici['office'].str.contains('ut')]"
   ]
  },
  {
   "cell_type": "markdown",
   "metadata": {},
   "source": [
    "# Cambiare file di input!\n"
   ]
  },
  {
   "cell_type": "code",
   "execution_count": 6,
   "metadata": {},
   "outputs": [],
   "source": [
    "#input0 = pd.read_excel('Input/Raw/Perimetro Giugno 24.xlsx')\n",
    "input0 = pd.read_excel('Input/Raw/Perimetro Giugno 24_v2.xlsx')"
   ]
  },
  {
   "cell_type": "code",
   "execution_count": 7,
   "metadata": {},
   "outputs": [],
   "source": [
    "input = input0.copy()"
   ]
  },
  {
   "cell_type": "code",
   "execution_count": 8,
   "metadata": {},
   "outputs": [
    {
     "data": {
      "text/plain": [
       "3136"
      ]
     },
     "execution_count": 8,
     "metadata": {},
     "output_type": "execute_result"
    }
   ],
   "source": [
    "len(input)"
   ]
  },
  {
   "cell_type": "code",
   "execution_count": 9,
   "metadata": {},
   "outputs": [],
   "source": [
    "n_columns = input.filter(regex='^N')\n",
    "contains_dash = n_columns.applymap(lambda x: '-' in str(x) and '/' not in str(x))\n",
    "n_columns = n_columns.applymap(lambda x: x.replace('-', '/') if '-' in str(x) else x)\n",
    "input[n_columns.columns] = n_columns"
   ]
  },
  {
   "cell_type": "code",
   "execution_count": 10,
   "metadata": {},
   "outputs": [
    {
     "data": {
      "text/plain": [
       "3136"
      ]
     },
     "execution_count": 10,
     "metadata": {},
     "output_type": "execute_result"
    }
   ],
   "source": [
    "len(input)"
   ]
  },
  {
   "cell_type": "code",
   "execution_count": 11,
   "metadata": {},
   "outputs": [],
   "source": [
    "columns_to_clean = ['N. RG', 'N. Decreto', 'N° Repertorio', 'N. Cronologico','N.R.G.E PPT', 'N° Rep PPT']\n",
    "for col in columns_to_clean:\n",
    "    input[col] = input[col].str.rstrip('\\\\')"
   ]
  },
  {
   "cell_type": "code",
   "execution_count": 12,
   "metadata": {},
   "outputs": [],
   "source": [
    "for col in columns_to_clean:\n",
    "    input[col] = input[col].str.replace('\\\\', '/', regex=False)"
   ]
  },
  {
   "cell_type": "code",
   "execution_count": 13,
   "metadata": {},
   "outputs": [],
   "source": [
    "input = input[input['N. RG'].str.contains('/', na=True) | input['N. RG'].isna()]\n",
    "input = input[input['N. Decreto'].str.contains('/', na=True) | input['N. Decreto'].isna()]\n",
    "input = input[input['N.R.G.E PPT'].str.contains('/', na=True) | input['N.R.G.E PPT'].isna()]\n",
    "input = input[input['N° Repertorio'].str.contains('/', na=True) | input['N° Repertorio'].isna()]\n",
    "input = input[input['N° Rep PPT'].str.contains('/', na=True) | input['N° Rep PPT'].isna()]\n",
    "input = input[input['N. Cronologico'].str.contains('/', na=True) | input['N. Cronologico'].isna()]"
   ]
  },
  {
   "cell_type": "code",
   "execution_count": 14,
   "metadata": {},
   "outputs": [
    {
     "data": {
      "text/plain": [
       "3136"
      ]
     },
     "execution_count": 14,
     "metadata": {},
     "output_type": "execute_result"
    }
   ],
   "source": [
    "len(input)"
   ]
  },
  {
   "cell_type": "code",
   "execution_count": 15,
   "metadata": {},
   "outputs": [
    {
     "data": {
      "text/html": [
       "<div>\n",
       "<style scoped>\n",
       "    .dataframe tbody tr th:only-of-type {\n",
       "        vertical-align: middle;\n",
       "    }\n",
       "\n",
       "    .dataframe tbody tr th {\n",
       "        vertical-align: top;\n",
       "    }\n",
       "\n",
       "    .dataframe thead th {\n",
       "        text-align: right;\n",
       "    }\n",
       "</style>\n",
       "<table border=\"1\" class=\"dataframe\">\n",
       "  <thead>\n",
       "    <tr style=\"text-align: right;\">\n",
       "      <th></th>\n",
       "      <th>NR_Contratto</th>\n",
       "      <th>Debitore</th>\n",
       "      <th>Tribunale/Gdp</th>\n",
       "      <th>Foro</th>\n",
       "      <th>N. RG</th>\n",
       "      <th>N. Decreto</th>\n",
       "      <th>N° Repertorio</th>\n",
       "      <th>N. Cronologico</th>\n",
       "      <th>N.R.G.E PPT</th>\n",
       "      <th>N° Rep PPT</th>\n",
       "      <th>RICERCA IQERA</th>\n",
       "      <th>OPERATORE</th>\n",
       "      <th>Cliente 1</th>\n",
       "      <th>Cliente 2</th>\n",
       "    </tr>\n",
       "  </thead>\n",
       "  <tbody>\n",
       "    <tr>\n",
       "      <th>0</th>\n",
       "      <td>AA1200001768_06112018</td>\n",
       "      <td>SGOBBA IVAN</td>\n",
       "      <td>Giudice</td>\n",
       "      <td>BRESCIA</td>\n",
       "      <td>Rg. 1236/20</td>\n",
       "      <td>Nr. 1305/20</td>\n",
       "      <td>NaN</td>\n",
       "      <td>4693/2020</td>\n",
       "      <td>NaN</td>\n",
       "      <td>NaN</td>\n",
       "      <td>MONITORIA</td>\n",
       "      <td>Scraper</td>\n",
       "      <td>A2A</td>\n",
       "      <td>A2A S.p.a.</td>\n",
       "    </tr>\n",
       "    <tr>\n",
       "      <th>1</th>\n",
       "      <td>AA1200002409_06112018</td>\n",
       "      <td>TAVARES FARIAS CARLOS ERIK</td>\n",
       "      <td>Giudice</td>\n",
       "      <td>BRESCIA</td>\n",
       "      <td>Rg. 1232/20</td>\n",
       "      <td>Nr. 1256/20</td>\n",
       "      <td>NaN</td>\n",
       "      <td>4609/2020</td>\n",
       "      <td>NaN</td>\n",
       "      <td>NaN</td>\n",
       "      <td>MONITORIA</td>\n",
       "      <td>Scraper</td>\n",
       "      <td>A2A</td>\n",
       "      <td>A2A S.p.a.</td>\n",
       "    </tr>\n",
       "    <tr>\n",
       "      <th>2</th>\n",
       "      <td>AA1200003174_06112018</td>\n",
       "      <td>TORTORA VINCENZA</td>\n",
       "      <td>Giudice</td>\n",
       "      <td>BRESCIA</td>\n",
       "      <td>Rg. 1231/20</td>\n",
       "      <td>Nr. 1290/20</td>\n",
       "      <td>NaN</td>\n",
       "      <td>4675/2020</td>\n",
       "      <td>NaN</td>\n",
       "      <td>NaN</td>\n",
       "      <td>MONITORIA</td>\n",
       "      <td>Scraper</td>\n",
       "      <td>A2A</td>\n",
       "      <td>A2A S.p.a.</td>\n",
       "    </tr>\n",
       "    <tr>\n",
       "      <th>3</th>\n",
       "      <td>AA1300000343_04102017</td>\n",
       "      <td>CAPUZZI RICCARDO</td>\n",
       "      <td>Giudice</td>\n",
       "      <td>BRESCIA</td>\n",
       "      <td>Rg. 7625/18</td>\n",
       "      <td>Nr. 5489/18</td>\n",
       "      <td>NaN</td>\n",
       "      <td>5377/2019</td>\n",
       "      <td>NaN</td>\n",
       "      <td>NaN</td>\n",
       "      <td>MONITORIA</td>\n",
       "      <td>Scraper</td>\n",
       "      <td>A2A</td>\n",
       "      <td>A2A S.p.a.</td>\n",
       "    </tr>\n",
       "    <tr>\n",
       "      <th>4</th>\n",
       "      <td>AA1700000293_04022021</td>\n",
       "      <td>FILAHI HICHAM</td>\n",
       "      <td>Giudice</td>\n",
       "      <td>MANTOVA</td>\n",
       "      <td>Rg. 1617/2021</td>\n",
       "      <td>Nr. 1230/21</td>\n",
       "      <td>NaN</td>\n",
       "      <td>NaN</td>\n",
       "      <td>NaN</td>\n",
       "      <td>NaN</td>\n",
       "      <td>MONITORIA</td>\n",
       "      <td>Scraper</td>\n",
       "      <td>A2A</td>\n",
       "      <td>A2A S.p.a.</td>\n",
       "    </tr>\n",
       "    <tr>\n",
       "      <th>...</th>\n",
       "      <td>...</td>\n",
       "      <td>...</td>\n",
       "      <td>...</td>\n",
       "      <td>...</td>\n",
       "      <td>...</td>\n",
       "      <td>...</td>\n",
       "      <td>...</td>\n",
       "      <td>...</td>\n",
       "      <td>...</td>\n",
       "      <td>...</td>\n",
       "      <td>...</td>\n",
       "      <td>...</td>\n",
       "      <td>...</td>\n",
       "      <td>...</td>\n",
       "    </tr>\n",
       "    <tr>\n",
       "      <th>3131</th>\n",
       "      <td>XUB384817</td>\n",
       "      <td>PROIETTI PANNUNZI GIUSEPPE</td>\n",
       "      <td>Giudice</td>\n",
       "      <td>CHIETI</td>\n",
       "      <td>Rg. 817/23</td>\n",
       "      <td>Nr. 404/23</td>\n",
       "      <td>NaN</td>\n",
       "      <td>NaN</td>\n",
       "      <td>NaN</td>\n",
       "      <td>NaN</td>\n",
       "      <td>MONITORIA</td>\n",
       "      <td>Scraper</td>\n",
       "      <td>Sirio</td>\n",
       "      <td>SIRIO NPL S.R.L.</td>\n",
       "    </tr>\n",
       "    <tr>\n",
       "      <th>3132</th>\n",
       "      <td>XUB385075</td>\n",
       "      <td>BUCCIONE PIERO</td>\n",
       "      <td>Tribunale</td>\n",
       "      <td>CHIETI</td>\n",
       "      <td>Rg. 1001/2023</td>\n",
       "      <td>Nr. 365/2023</td>\n",
       "      <td>NaN</td>\n",
       "      <td>NaN</td>\n",
       "      <td>NaN</td>\n",
       "      <td>NaN</td>\n",
       "      <td>MONITORIA</td>\n",
       "      <td>Scraper</td>\n",
       "      <td>Sirio</td>\n",
       "      <td>SIRIO NPL S.R.L.</td>\n",
       "    </tr>\n",
       "    <tr>\n",
       "      <th>3133</th>\n",
       "      <td>XUB385597</td>\n",
       "      <td>WHITE LUXURY SOCIETA' A RESPONSABILITA' LIMITA...</td>\n",
       "      <td>Tribunale</td>\n",
       "      <td>PESARO</td>\n",
       "      <td>Rg. 1095/2023</td>\n",
       "      <td>Nr. 392/2023</td>\n",
       "      <td>NaN</td>\n",
       "      <td>NaN</td>\n",
       "      <td>NaN</td>\n",
       "      <td>NaN</td>\n",
       "      <td>MONITORIA</td>\n",
       "      <td>Scraper</td>\n",
       "      <td>Sirio</td>\n",
       "      <td>SIRIO NPL S.R.L.</td>\n",
       "    </tr>\n",
       "    <tr>\n",
       "      <th>3134</th>\n",
       "      <td>XUB385803</td>\n",
       "      <td>STOP CAFFE' SNC DI GENNARELLI GENNARO E GUARAG...</td>\n",
       "      <td>Tribunale</td>\n",
       "      <td>CIVITAVECCHIA</td>\n",
       "      <td>Rg. 193/2023</td>\n",
       "      <td>Nr. 226/2023</td>\n",
       "      <td>NaN</td>\n",
       "      <td>NaN</td>\n",
       "      <td>NaN</td>\n",
       "      <td>NaN</td>\n",
       "      <td>MONITORIA</td>\n",
       "      <td>Scraper</td>\n",
       "      <td>Sirio</td>\n",
       "      <td>SIRIO NPL S.R.L.</td>\n",
       "    </tr>\n",
       "    <tr>\n",
       "      <th>3135</th>\n",
       "      <td>XUB388609</td>\n",
       "      <td>MERLINO TETTI S.R.L.</td>\n",
       "      <td>Giudice</td>\n",
       "      <td>CREMA</td>\n",
       "      <td>Rg. 566/23</td>\n",
       "      <td>Nr. 68/23</td>\n",
       "      <td>NaN</td>\n",
       "      <td>NaN</td>\n",
       "      <td>NaN</td>\n",
       "      <td>NaN</td>\n",
       "      <td>MONITORIA</td>\n",
       "      <td>Scraper</td>\n",
       "      <td>Sirio</td>\n",
       "      <td>SIRIO NPL S.R.L.</td>\n",
       "    </tr>\n",
       "  </tbody>\n",
       "</table>\n",
       "<p>3136 rows × 14 columns</p>\n",
       "</div>"
      ],
      "text/plain": [
       "               NR_Contratto  \\\n",
       "0     AA1200001768_06112018   \n",
       "1     AA1200002409_06112018   \n",
       "2     AA1200003174_06112018   \n",
       "3     AA1300000343_04102017   \n",
       "4     AA1700000293_04022021   \n",
       "...                     ...   \n",
       "3131              XUB384817   \n",
       "3132              XUB385075   \n",
       "3133              XUB385597   \n",
       "3134              XUB385803   \n",
       "3135              XUB388609   \n",
       "\n",
       "                                               Debitore Tribunale/Gdp  \\\n",
       "0                                           SGOBBA IVAN       Giudice   \n",
       "1                            TAVARES FARIAS CARLOS ERIK       Giudice   \n",
       "2                                      TORTORA VINCENZA       Giudice   \n",
       "3                                      CAPUZZI RICCARDO       Giudice   \n",
       "4                                         FILAHI HICHAM       Giudice   \n",
       "...                                                 ...           ...   \n",
       "3131                         PROIETTI PANNUNZI GIUSEPPE       Giudice   \n",
       "3132                                     BUCCIONE PIERO     Tribunale   \n",
       "3133  WHITE LUXURY SOCIETA' A RESPONSABILITA' LIMITA...     Tribunale   \n",
       "3134  STOP CAFFE' SNC DI GENNARELLI GENNARO E GUARAG...     Tribunale   \n",
       "3135                               MERLINO TETTI S.R.L.       Giudice   \n",
       "\n",
       "               Foro          N. RG    N. Decreto N° Repertorio N. Cronologico  \\\n",
       "0          BRESCIA     Rg. 1236/20   Nr. 1305/20           NaN      4693/2020   \n",
       "1           BRESCIA    Rg. 1232/20   Nr. 1256/20           NaN      4609/2020   \n",
       "2           BRESCIA    Rg. 1231/20   Nr. 1290/20           NaN      4675/2020   \n",
       "3          BRESCIA     Rg. 7625/18   Nr. 5489/18           NaN      5377/2019   \n",
       "4           MANTOVA  Rg. 1617/2021   Nr. 1230/21           NaN            NaN   \n",
       "...             ...            ...           ...           ...            ...   \n",
       "3131         CHIETI     Rg. 817/23    Nr. 404/23           NaN            NaN   \n",
       "3132         CHIETI  Rg. 1001/2023  Nr. 365/2023           NaN            NaN   \n",
       "3133         PESARO  Rg. 1095/2023  Nr. 392/2023           NaN            NaN   \n",
       "3134  CIVITAVECCHIA   Rg. 193/2023  Nr. 226/2023           NaN            NaN   \n",
       "3135          CREMA     Rg. 566/23     Nr. 68/23           NaN            NaN   \n",
       "\n",
       "     N.R.G.E PPT N° Rep PPT RICERCA IQERA OPERATORE Cliente 1  \\\n",
       "0            NaN        NaN     MONITORIA   Scraper       A2A   \n",
       "1            NaN        NaN     MONITORIA   Scraper       A2A   \n",
       "2            NaN        NaN     MONITORIA   Scraper       A2A   \n",
       "3            NaN        NaN     MONITORIA   Scraper       A2A   \n",
       "4            NaN        NaN     MONITORIA   Scraper       A2A   \n",
       "...          ...        ...           ...       ...       ...   \n",
       "3131         NaN        NaN     MONITORIA   Scraper     Sirio   \n",
       "3132         NaN        NaN     MONITORIA   Scraper     Sirio   \n",
       "3133         NaN        NaN     MONITORIA   Scraper     Sirio   \n",
       "3134         NaN        NaN     MONITORIA   Scraper     Sirio   \n",
       "3135         NaN        NaN     MONITORIA   Scraper     Sirio   \n",
       "\n",
       "             Cliente 2  \n",
       "0           A2A S.p.a.  \n",
       "1           A2A S.p.a.  \n",
       "2           A2A S.p.a.  \n",
       "3           A2A S.p.a.  \n",
       "4           A2A S.p.a.  \n",
       "...                ...  \n",
       "3131  SIRIO NPL S.R.L.  \n",
       "3132  SIRIO NPL S.R.L.  \n",
       "3133  SIRIO NPL S.R.L.  \n",
       "3134  SIRIO NPL S.R.L.  \n",
       "3135  SIRIO NPL S.R.L.  \n",
       "\n",
       "[3136 rows x 14 columns]"
      ]
     },
     "execution_count": 15,
     "metadata": {},
     "output_type": "execute_result"
    }
   ],
   "source": [
    "input"
   ]
  },
  {
   "cell_type": "code",
   "execution_count": 16,
   "metadata": {},
   "outputs": [
    {
     "name": "stdout",
     "output_type": "stream",
     "text": [
      "Split did not produce the expected number of columns for some rows.\n"
     ]
    }
   ],
   "source": [
    "input = input.drop_duplicates()\n",
    "input = clean(input)"
   ]
  },
  {
   "cell_type": "code",
   "execution_count": 17,
   "metadata": {},
   "outputs": [
    {
     "data": {
      "text/plain": [
       "3136"
      ]
     },
     "execution_count": 17,
     "metadata": {},
     "output_type": "execute_result"
    }
   ],
   "source": [
    "len(input) # non deve diminuire"
   ]
  },
  {
   "cell_type": "code",
   "execution_count": 18,
   "metadata": {},
   "outputs": [],
   "source": [
    "mapping = {'albenga':'savona',\n",
    "    'chiavenna':'sondrio',\n",
    "    'cossato':'biella',\n",
    "    'macomer':'nuoro',\n",
    "    'isili':'nuoro',\n",
    "    'chiaromonte': 'lagonegro',\n",
    "    'orzinuovi' : 'brescia',\n",
    "    'ovada': 'acquiterme',\n",
    "    'pavullo nel frignano':'modena',\n",
    "    'ponte san pietro':'bergamo',\n",
    "    'romano di lombardia':'bergamo',\n",
    "    'san benedetto del tronto':'ascoli piceno',\n",
    "    'teano':'caserta',\n",
    "    'venezia 2 - mestre' : 'venezia',\n",
    "    'venosa':'potenza',\n",
    "    'vimercate':'monza',\n",
    "    'acerra' : 'casoria',\n",
    "    'torre annunziata':'napoli',\n",
    "    'napoli nord in aversa':'napoli',\n",
    "    'napoli nord':'napoli',\n",
    "    'san giorgio ionico':'taranto',\n",
    "    \"rometta\" :'barcellona pozzo di gotto',\n",
    "    'taurianova':'palmi',\n",
    "    'putignano':'gioia del colle',\n",
    "    'dolo':'venezia',\n",
    "    'ugento':'casarano',\n",
    "    'grumello del monte':'bergamo',\n",
    "    'todi':'perugia',\n",
    "    'gragnano':'castellammare di stabia',\n",
    "    'tribunale  di vicenza':'vicenza',\n",
    "    'marigliano':'nola',\n",
    "    \"reggio nell'emilia\": 'reggio emilia',\n",
    "    'montoro':'avellino',\n",
    "    'nocera inferiore':'pagani',\n",
    "    \"chieti - sezione distaccata di ortona\":'chieti',\n",
    "    'la maddalena':'olbia',\n",
    "    'san giovanni in fiore':'cosenza',\n",
    "    'poggio mirteto':'rieti',\n",
    "    'volterra':'pontedera',\n",
    "    'tribunale della spezia':'la spezia',\n",
    "    'arcidosso':'grosseto',\n",
    "    'martina franca':'taranto',\n",
    "    'naso':'messina',\n",
    "    'scalea':'paola',\n",
    "    'cariati':'rossano',\n",
    "    'montecorvino rovella':'salerno',\n",
    "    \"sant'anastasia\":'napoli',\n",
    "    'forlì':\"forli'\",\n",
    "\n",
    "    \"gaeta\":'formia',\n",
    "    \"marano di napoli\":'napoli',\n",
    "    \"fondi\":'formia',\n",
    "    \"mascalucia\":'catania',\n",
    "    \"pomigliano d'arco\":'casoria',\n",
    "    \"acri\":'cosenza',\n",
    "    \"cecina\":'livorno',\n",
    "    \"tricase\":'casarano',\n",
    "    \"castiglione del lago\":'perugia',\n",
    "    \"rodi garganico\":'san severo',\n",
    "    \"pontremoli\":'aulla',\n",
    "    \"squillace\":'catanzaro',\n",
    "    \"carinola\":\"sessa aurunca - teano\",\n",
    "    \"bisceglie\":'trani',\n",
    "    \"biancavilla\":'catania',\n",
    "    \"pescina\":'avezzano',\n",
    "    \"lauro\":'avellino',\n",
    "    \"tortoli'\":'lanusei',\n",
    "    \"piazza armerina\":'enna',\n",
    "    \"petilia policastro\": 'crotone',\n",
    "    \"segni\":'velletri',\n",
    "    \"corato\":'bari',\n",
    "    \"ciro'\":'crotone',\n",
    "    \"corigliano calabro\":'rossano',\n",
    "    \"afragola\":'casoria',\n",
    "    \"terracina\":'latina',\n",
    "    \"monopoli\":'bari',\n",
    "    \"sant'angelo di brolo\":'messina',\n",
    "    \"airola\":'benevento',\n",
    "    \"nulvi\":'sassari',\n",
    "    \"ramacca\":'caltagirone',\n",
    "    \"trinitapoli\":'barletta'\n",
    "    }\n",
    "\n",
    "input['Foro'] = (input['Foro']\n",
    "                    .str.lower()\n",
    "                    .replace(mapping, regex=True)\n",
    "                    .str.strip()\n",
    "                   )\n",
    "# input\n",
    "input = input.drop_duplicates()"
   ]
  },
  {
   "cell_type": "code",
   "execution_count": 19,
   "metadata": {},
   "outputs": [],
   "source": [
    "def find_code_for_foro(df1, df2):\n",
    "    # Initialize an empty list to store the results\n",
    "    results = []\n",
    "\n",
    "    # Iterate over each row in df2\n",
    "    for index2, row2 in df2.iterrows():\n",
    "        foro = row2['Foro']\n",
    "        \n",
    "        # Find matching rows in df1\n",
    "        matching_rows = df1[df1['office'].str.contains(foro)]\n",
    "\n",
    "        # Add matching codes to the results list\n",
    "        for index1, row1 in matching_rows.iterrows():\n",
    "            results.append({\n",
    "                'code_office': row1['code'],\n",
    "                'office': row1['office'],\n",
    "                'Foro': row2['Foro']\n",
    "            })\n",
    "\n",
    "    # Convert results to a DataFrame\n",
    "    result_df = pd.DataFrame(results)\n",
    "    return result_df\n",
    "result_df = find_code_for_foro(uffici_ut, input)\n",
    "result_df = result_df.drop_duplicates()"
   ]
  },
  {
   "cell_type": "code",
   "execution_count": 20,
   "metadata": {},
   "outputs": [],
   "source": [
    "input = pd.merge(input, result_df, on='Foro', how='left')\n",
    "input = (input\n",
    "        .drop_duplicates())\n",
    "input['Tribunale/Gdp'] = (input['Tribunale/Gdp']\n",
    "                          .str.lower()\n",
    "                          .str.strip()\n",
    ")\n",
    "\n",
    "input = input.drop_duplicates()"
   ]
  },
  {
   "cell_type": "markdown",
   "metadata": {},
   "source": [
    "Se questo non è [], sistemare il mapping"
   ]
  },
  {
   "cell_type": "code",
   "execution_count": 21,
   "metadata": {},
   "outputs": [
    {
     "data": {
      "text/plain": [
       "Series([], Name: Foro, dtype: object)"
      ]
     },
     "execution_count": 21,
     "metadata": {},
     "output_type": "execute_result"
    }
   ],
   "source": [
    "input[input['code_office'].isna()]['Foro'].drop_duplicates()"
   ]
  },
  {
   "cell_type": "code",
   "execution_count": 22,
   "metadata": {},
   "outputs": [],
   "source": [
    "input['Debitore'] = (input['Debitore']\n",
    "                     .str.replace('-', ' ')\n",
    "                     .str.replace(r'\\s+', ' ', regex=True)\n",
    "                     .str.strip()\n",
    "                    )\n"
   ]
  },
  {
   "cell_type": "code",
   "execution_count": 23,
   "metadata": {},
   "outputs": [],
   "source": [
    "with open('Resources/enti_completi_ut.json', 'r') as file:\n",
    "    enti_ut = json.load(file)\n",
    "\n",
    "enti_decoded = {}\n",
    "\n",
    "for key, values in enti_ut.items():\n",
    "    tribunale = [item.split(\" - \")[0] for item in values if \"TRIB\" in item.upper()]\n",
    "    giudice = [item.split(\" - \")[0] for item in values if \"GIUD\" in item.upper()]\n",
    "    enti_decoded[key] = {\"tribunale\": tribunale, \"giudice\": giudice}\n",
    "# enti_decoded    "
   ]
  },
  {
   "cell_type": "code",
   "execution_count": 24,
   "metadata": {},
   "outputs": [],
   "source": [
    "def get_codes(row):\n",
    "    office = row['office']\n",
    "    type_ = row['Tribunale/Gdp']\n",
    "    if office in enti_decoded and type_ in enti_decoded[office]:\n",
    "        return enti_decoded[office][type_]\n",
    "    else:\n",
    "        return []\n",
    "\n",
    "# Apply the function to each row and create a new column 'codes'\n",
    "input['code_ente'] = input.apply(get_codes, axis=1)\n"
   ]
  },
  {
   "cell_type": "code",
   "execution_count": 25,
   "metadata": {},
   "outputs": [
    {
     "data": {
      "text/plain": [
       "4008"
      ]
     },
     "execution_count": 25,
     "metadata": {},
     "output_type": "execute_result"
    }
   ],
   "source": [
    "len(input)"
   ]
  },
  {
   "cell_type": "code",
   "execution_count": 26,
   "metadata": {},
   "outputs": [],
   "source": [
    "# Convert the 'code_ente' lists to strings\n",
    "input['code_ente'] = input['code_ente'].apply(lambda x: ','.join(x))\n",
    "\n",
    "\n",
    "potential_value_vars = [\n",
    "    'nr.decreto', 'year.decreto', 'nr.rg', 'year.rg',\n",
    "    'nr.repertorio', 'year.repertorio', 'nr.crono', 'year.crono',\n",
    "    'nr.rgeppt', 'year.rgeppt', 'nr.repppt', 'year.repppt'\n",
    "]\n",
    "value_vars = [col for col in potential_value_vars if col in input.columns]\n",
    "# Melt the DataFrame to 'pivot longer'\n",
    "df_long = pd.melt(input, \n",
    "                  id_vars=['NR_Contratto', 'Debitore','Tribunale/Gdp','Foro','Cliente 1','Cliente 2','tipo_ricerca','code_office','office','code_ente'], \n",
    "                  value_vars=value_vars, \n",
    "                  var_name='type', \n",
    "                  value_name='value')\n",
    "\n",
    "# Split the 'type' column into 'attribute' and 'category'\n",
    "df_long[['attribute', 'category']] = df_long['type'].str.split('.', expand=True)\n",
    "\n",
    "# Pivot the DataFrame to get the desired format\n",
    "input = df_long.pivot_table(index=['NR_Contratto', 'Debitore','Tribunale/Gdp','Foro','Cliente 1','Cliente 2','tipo_ricerca','code_office','office','code_ente','category'], \n",
    "                               columns='attribute', \n",
    "                               values='value', \n",
    "                               aggfunc='first').reset_index()\n",
    "\n",
    "# Flatten the columns\n",
    "input.columns.name = None\n",
    "input = input.reset_index(drop=True)\n",
    "\n",
    "# Convert the 'code_ente' column back into a list\n",
    "input['code_ente'] = input['code_ente'].apply(lambda x: x.split(',') if isinstance(x, str) else x)\n"
   ]
  },
  {
   "cell_type": "code",
   "execution_count": 27,
   "metadata": {},
   "outputs": [],
   "source": [
    "input = input.drop(columns={'category'})\n",
    "input['code_ente'] = input['code_ente'].apply(tuple)\n",
    "input = input.drop_duplicates()\n",
    "input['code_ente'] = input['code_ente'].apply(list)"
   ]
  },
  {
   "cell_type": "code",
   "execution_count": 28,
   "metadata": {},
   "outputs": [
    {
     "data": {
      "text/plain": [
       "7889"
      ]
     },
     "execution_count": 28,
     "metadata": {},
     "output_type": "execute_result"
    }
   ],
   "source": [
    "input = input[(input['year']!='')]\n",
    "len(input)"
   ]
  },
  {
   "cell_type": "markdown",
   "metadata": {},
   "source": [
    "se ci sono risultati manda a daniele"
   ]
  },
  {
   "cell_type": "code",
   "execution_count": 29,
   "metadata": {},
   "outputs": [
    {
     "data": {
      "text/html": [
       "<div>\n",
       "<style scoped>\n",
       "    .dataframe tbody tr th:only-of-type {\n",
       "        vertical-align: middle;\n",
       "    }\n",
       "\n",
       "    .dataframe tbody tr th {\n",
       "        vertical-align: top;\n",
       "    }\n",
       "\n",
       "    .dataframe thead th {\n",
       "        text-align: right;\n",
       "    }\n",
       "</style>\n",
       "<table border=\"1\" class=\"dataframe\">\n",
       "  <thead>\n",
       "    <tr style=\"text-align: right;\">\n",
       "      <th></th>\n",
       "      <th>NR_Contratto</th>\n",
       "      <th>Debitore</th>\n",
       "      <th>Tribunale/Gdp</th>\n",
       "      <th>Foro</th>\n",
       "      <th>Cliente 1</th>\n",
       "      <th>Cliente 2</th>\n",
       "      <th>tipo_ricerca</th>\n",
       "      <th>code_office</th>\n",
       "      <th>office</th>\n",
       "      <th>code_ente</th>\n",
       "      <th>nr</th>\n",
       "      <th>year</th>\n",
       "    </tr>\n",
       "  </thead>\n",
       "  <tbody>\n",
       "  </tbody>\n",
       "</table>\n",
       "</div>"
      ],
      "text/plain": [
       "Empty DataFrame\n",
       "Columns: [NR_Contratto, Debitore, Tribunale/Gdp, Foro, Cliente 1, Cliente 2, tipo_ricerca, code_office, office, code_ente, nr, year]\n",
       "Index: []"
      ]
     },
     "execution_count": 29,
     "metadata": {},
     "output_type": "execute_result"
    }
   ],
   "source": [
    "x = input[(input['year']!='')]\n",
    "x['year'] = x['year'].astype(int)\n",
    "x[(x['year']>2024) | (x['year']<1900)]\n",
    "\n"
   ]
  },
  {
   "cell_type": "code",
   "execution_count": 30,
   "metadata": {},
   "outputs": [
    {
     "data": {
      "text/plain": [
       "7889"
      ]
     },
     "execution_count": 30,
     "metadata": {},
     "output_type": "execute_result"
    }
   ],
   "source": [
    "#4498   ??? \n",
    "input = input[(input['year']!='')]\n",
    "input['year'] = input['year'].astype(int)\n",
    "input = input[(input['year']<=2024) & (input['year']>1900)]\n",
    "len(input)"
   ]
  },
  {
   "cell_type": "code",
   "execution_count": 31,
   "metadata": {},
   "outputs": [],
   "source": [
    "input.to_excel(f'Input/Cleaned/{today}_input_v1.xlsx',index=False)"
   ]
  },
  {
   "cell_type": "code",
   "execution_count": 32,
   "metadata": {},
   "outputs": [
    {
     "data": {
      "text/plain": [
       "\"input_vecchio = pd.read_excel('Input/Cleaned/2024_06_03_input_v1.xlsx',dtype={'nr':str,'year':str})\\n\\ninput_vecchio['Debitore'] = (input_vecchio['Debitore']\\n                     .str.replace('-', ' ')\\n                     .str.replace(r'\\\\s+', ' ', regex=True)\\n                     .str.strip()\\n                    )\""
      ]
     },
     "execution_count": 32,
     "metadata": {},
     "output_type": "execute_result"
    }
   ],
   "source": [
    "\"\"\"input_vecchio = pd.read_excel('Input/Cleaned/2024_06_03_input_v1.xlsx',dtype={'nr':str,'year':str})\n",
    "\n",
    "input_vecchio['Debitore'] = (input_vecchio['Debitore']\n",
    "                     .str.replace('-', ' ')\n",
    "                     .str.replace(r'\\s+', ' ', regex=True)\n",
    "                     .str.strip()\n",
    "                    )\"\"\"\n"
   ]
  },
  {
   "cell_type": "code",
   "execution_count": 33,
   "metadata": {},
   "outputs": [
    {
     "data": {
      "text/plain": [
       "\"input['code_ente'] = input['code_ente'].astype(str)\\ninput_vecchio['code_ente'] = input_vecchio['code_ente'].astype(str)\""
      ]
     },
     "execution_count": 33,
     "metadata": {},
     "output_type": "execute_result"
    }
   ],
   "source": [
    "\"\"\"input['code_ente'] = input['code_ente'].astype(str)\n",
    "input_vecchio['code_ente'] = input_vecchio['code_ente'].astype(str)\"\"\""
   ]
  },
  {
   "cell_type": "code",
   "execution_count": 34,
   "metadata": {},
   "outputs": [
    {
     "data": {
      "text/plain": [
       "\"diff_df = input.merge(input_vecchio, how='outer', indicator=True)\\n# Filter the rows that are different\\ndiff_rows = diff_df[diff_df['_merge'] == 'left_only']\\ndiff_rows['code_ente'] = diff_rows['code_ente'].apply(eval)\\ndiff_rows\""
      ]
     },
     "execution_count": 34,
     "metadata": {},
     "output_type": "execute_result"
    }
   ],
   "source": [
    "\"\"\"diff_df = input.merge(input_vecchio, how='outer', indicator=True)\n",
    "# Filter the rows that are different\n",
    "diff_rows = diff_df[diff_df['_merge'] == 'left_only']\n",
    "diff_rows['code_ente'] = diff_rows['code_ente'].apply(eval)\n",
    "diff_rows\"\"\""
   ]
  },
  {
   "cell_type": "markdown",
   "metadata": {},
   "source": [
    "# SCRAPER"
   ]
  },
  {
   "cell_type": "markdown",
   "metadata": {},
   "source": [
    "Modificare new_df, 500 per volta"
   ]
  },
  {
   "cell_type": "code",
   "execution_count": 35,
   "metadata": {},
   "outputs": [
    {
     "name": "stdout",
     "output_type": "stream",
     "text": [
      "Riga con errore: 1088 , ente : 011 , natura : EM , debitore : FASCILLA SALVATORE\n",
      "Error occurred: ('Connection aborted.', RemoteDisconnected('Remote end closed connection without response'))\n",
      "Riga con errore: 1094 , ente : 006 , natura : EM , debitore : LANGELLA MICHELE\n",
      "Error occurred: HTTPSConnectionPool(host='www1.agenziaentrate.gov.it', port=443): Read timed out. (read timeout=None)\n"
     ]
    },
    {
     "ename": "KeyboardInterrupt",
     "evalue": "",
     "output_type": "error",
     "traceback": [
      "\u001b[1;31m---------------------------------------------------------------------------\u001b[0m",
      "\u001b[1;31mKeyboardInterrupt\u001b[0m                         Traceback (most recent call last)",
      "Cell \u001b[1;32mIn[35], line 9\u001b[0m\n\u001b[0;32m      3\u001b[0m \u001b[38;5;66;03m# b = \"fine\"\u001b[39;00m\n\u001b[0;32m      4\u001b[0m \n\u001b[0;32m      5\u001b[0m \u001b[38;5;66;03m# new_df = input[a:]\u001b[39;00m\n\u001b[0;32m      7\u001b[0m new_df \u001b[38;5;241m=\u001b[39m \u001b[38;5;28minput\u001b[39m[a:b]\n\u001b[0;32m      8\u001b[0m results \u001b[38;5;241m=\u001b[39m( new_df \n\u001b[1;32m----> 9\u001b[0m     \u001b[38;5;241m.\u001b[39mapply(\u001b[38;5;28;01mlambda\u001b[39;00m row: tipo_scraper(contratto\u001b[38;5;241m=\u001b[39mrow[\u001b[38;5;124m'\u001b[39m\u001b[38;5;124mNR_Contratto\u001b[39m\u001b[38;5;124m'\u001b[39m],\n\u001b[0;32m     10\u001b[0m                                     debitore\u001b[38;5;241m=\u001b[39mrow[\u001b[38;5;124m'\u001b[39m\u001b[38;5;124mDebitore\u001b[39m\u001b[38;5;124m'\u001b[39m],\n\u001b[0;32m     11\u001b[0m                                     tipo\u001b[38;5;241m=\u001b[39m row[\u001b[38;5;124m'\u001b[39m\u001b[38;5;124mtipo_ricerca\u001b[39m\u001b[38;5;124m'\u001b[39m],\n\u001b[0;32m     12\u001b[0m                                     ufficio\u001b[38;5;241m=\u001b[39m row[\u001b[38;5;124m'\u001b[39m\u001b[38;5;124mcode_office\u001b[39m\u001b[38;5;124m'\u001b[39m],\n\u001b[0;32m     13\u001b[0m                                     lista_enti\u001b[38;5;241m=\u001b[39mrow[\u001b[38;5;124m'\u001b[39m\u001b[38;5;124mcode_ente\u001b[39m\u001b[38;5;124m'\u001b[39m], \n\u001b[0;32m     14\u001b[0m                                     anno\u001b[38;5;241m=\u001b[39mrow[\u001b[38;5;124m'\u001b[39m\u001b[38;5;124myear\u001b[39m\u001b[38;5;124m'\u001b[39m],\n\u001b[0;32m     15\u001b[0m                                     numero\u001b[38;5;241m=\u001b[39m row[\u001b[38;5;124m'\u001b[39m\u001b[38;5;124mnr\u001b[39m\u001b[38;5;124m'\u001b[39m],\n\u001b[0;32m     16\u001b[0m                                     row_number\u001b[38;5;241m=\u001b[39mrow\u001b[38;5;241m.\u001b[39mname\n\u001b[0;32m     17\u001b[0m                                     ),\n\u001b[0;32m     18\u001b[0m                                     axis\u001b[38;5;241m=\u001b[39m\u001b[38;5;241m1\u001b[39m)\n\u001b[0;32m     19\u001b[0m )\n",
      "File \u001b[1;32mc:\\Users\\claudia.esposito\\.conda\\envs\\scraper_env\\Lib\\site-packages\\pandas\\core\\frame.py:9423\u001b[0m, in \u001b[0;36mDataFrame.apply\u001b[1;34m(self, func, axis, raw, result_type, args, **kwargs)\u001b[0m\n\u001b[0;32m   9412\u001b[0m \u001b[38;5;28;01mfrom\u001b[39;00m \u001b[38;5;21;01mpandas\u001b[39;00m\u001b[38;5;21;01m.\u001b[39;00m\u001b[38;5;21;01mcore\u001b[39;00m\u001b[38;5;21;01m.\u001b[39;00m\u001b[38;5;21;01mapply\u001b[39;00m \u001b[38;5;28;01mimport\u001b[39;00m frame_apply\n\u001b[0;32m   9414\u001b[0m op \u001b[38;5;241m=\u001b[39m frame_apply(\n\u001b[0;32m   9415\u001b[0m     \u001b[38;5;28mself\u001b[39m,\n\u001b[0;32m   9416\u001b[0m     func\u001b[38;5;241m=\u001b[39mfunc,\n\u001b[1;32m   (...)\u001b[0m\n\u001b[0;32m   9421\u001b[0m     kwargs\u001b[38;5;241m=\u001b[39mkwargs,\n\u001b[0;32m   9422\u001b[0m )\n\u001b[1;32m-> 9423\u001b[0m \u001b[38;5;28;01mreturn\u001b[39;00m op\u001b[38;5;241m.\u001b[39mapply()\u001b[38;5;241m.\u001b[39m__finalize__(\u001b[38;5;28mself\u001b[39m, method\u001b[38;5;241m=\u001b[39m\u001b[38;5;124m\"\u001b[39m\u001b[38;5;124mapply\u001b[39m\u001b[38;5;124m\"\u001b[39m)\n",
      "File \u001b[1;32mc:\\Users\\claudia.esposito\\.conda\\envs\\scraper_env\\Lib\\site-packages\\pandas\\core\\apply.py:678\u001b[0m, in \u001b[0;36mFrameApply.apply\u001b[1;34m(self)\u001b[0m\n\u001b[0;32m    675\u001b[0m \u001b[38;5;28;01melif\u001b[39;00m \u001b[38;5;28mself\u001b[39m\u001b[38;5;241m.\u001b[39mraw:\n\u001b[0;32m    676\u001b[0m     \u001b[38;5;28;01mreturn\u001b[39;00m \u001b[38;5;28mself\u001b[39m\u001b[38;5;241m.\u001b[39mapply_raw()\n\u001b[1;32m--> 678\u001b[0m \u001b[38;5;28;01mreturn\u001b[39;00m \u001b[38;5;28mself\u001b[39m\u001b[38;5;241m.\u001b[39mapply_standard()\n",
      "File \u001b[1;32mc:\\Users\\claudia.esposito\\.conda\\envs\\scraper_env\\Lib\\site-packages\\pandas\\core\\apply.py:798\u001b[0m, in \u001b[0;36mFrameApply.apply_standard\u001b[1;34m(self)\u001b[0m\n\u001b[0;32m    797\u001b[0m \u001b[38;5;28;01mdef\u001b[39;00m \u001b[38;5;21mapply_standard\u001b[39m(\u001b[38;5;28mself\u001b[39m):\n\u001b[1;32m--> 798\u001b[0m     results, res_index \u001b[38;5;241m=\u001b[39m \u001b[38;5;28mself\u001b[39m\u001b[38;5;241m.\u001b[39mapply_series_generator()\n\u001b[0;32m    800\u001b[0m     \u001b[38;5;66;03m# wrap results\u001b[39;00m\n\u001b[0;32m    801\u001b[0m     \u001b[38;5;28;01mreturn\u001b[39;00m \u001b[38;5;28mself\u001b[39m\u001b[38;5;241m.\u001b[39mwrap_results(results, res_index)\n",
      "File \u001b[1;32mc:\\Users\\claudia.esposito\\.conda\\envs\\scraper_env\\Lib\\site-packages\\pandas\\core\\apply.py:814\u001b[0m, in \u001b[0;36mFrameApply.apply_series_generator\u001b[1;34m(self)\u001b[0m\n\u001b[0;32m    811\u001b[0m \u001b[38;5;28;01mwith\u001b[39;00m option_context(\u001b[38;5;124m\"\u001b[39m\u001b[38;5;124mmode.chained_assignment\u001b[39m\u001b[38;5;124m\"\u001b[39m, \u001b[38;5;28;01mNone\u001b[39;00m):\n\u001b[0;32m    812\u001b[0m     \u001b[38;5;28;01mfor\u001b[39;00m i, v \u001b[38;5;129;01min\u001b[39;00m \u001b[38;5;28menumerate\u001b[39m(series_gen):\n\u001b[0;32m    813\u001b[0m         \u001b[38;5;66;03m# ignore SettingWithCopy here in case the user mutates\u001b[39;00m\n\u001b[1;32m--> 814\u001b[0m         results[i] \u001b[38;5;241m=\u001b[39m \u001b[38;5;28mself\u001b[39m\u001b[38;5;241m.\u001b[39mf(v)\n\u001b[0;32m    815\u001b[0m         \u001b[38;5;28;01mif\u001b[39;00m \u001b[38;5;28misinstance\u001b[39m(results[i], ABCSeries):\n\u001b[0;32m    816\u001b[0m             \u001b[38;5;66;03m# If we have a view on v, we need to make a copy because\u001b[39;00m\n\u001b[0;32m    817\u001b[0m             \u001b[38;5;66;03m#  series_generator will swap out the underlying data\u001b[39;00m\n\u001b[0;32m    818\u001b[0m             results[i] \u001b[38;5;241m=\u001b[39m results[i]\u001b[38;5;241m.\u001b[39mcopy(deep\u001b[38;5;241m=\u001b[39m\u001b[38;5;28;01mFalse\u001b[39;00m)\n",
      "Cell \u001b[1;32mIn[35], line 9\u001b[0m, in \u001b[0;36m<lambda>\u001b[1;34m(row)\u001b[0m\n\u001b[0;32m      3\u001b[0m \u001b[38;5;66;03m# b = \"fine\"\u001b[39;00m\n\u001b[0;32m      4\u001b[0m \n\u001b[0;32m      5\u001b[0m \u001b[38;5;66;03m# new_df = input[a:]\u001b[39;00m\n\u001b[0;32m      7\u001b[0m new_df \u001b[38;5;241m=\u001b[39m \u001b[38;5;28minput\u001b[39m[a:b]\n\u001b[0;32m      8\u001b[0m results \u001b[38;5;241m=\u001b[39m( new_df \n\u001b[1;32m----> 9\u001b[0m     \u001b[38;5;241m.\u001b[39mapply(\u001b[38;5;28;01mlambda\u001b[39;00m row: tipo_scraper(contratto\u001b[38;5;241m=\u001b[39mrow[\u001b[38;5;124m'\u001b[39m\u001b[38;5;124mNR_Contratto\u001b[39m\u001b[38;5;124m'\u001b[39m],\n\u001b[0;32m     10\u001b[0m                                     debitore\u001b[38;5;241m=\u001b[39mrow[\u001b[38;5;124m'\u001b[39m\u001b[38;5;124mDebitore\u001b[39m\u001b[38;5;124m'\u001b[39m],\n\u001b[0;32m     11\u001b[0m                                     tipo\u001b[38;5;241m=\u001b[39m row[\u001b[38;5;124m'\u001b[39m\u001b[38;5;124mtipo_ricerca\u001b[39m\u001b[38;5;124m'\u001b[39m],\n\u001b[0;32m     12\u001b[0m                                     ufficio\u001b[38;5;241m=\u001b[39m row[\u001b[38;5;124m'\u001b[39m\u001b[38;5;124mcode_office\u001b[39m\u001b[38;5;124m'\u001b[39m],\n\u001b[0;32m     13\u001b[0m                                     lista_enti\u001b[38;5;241m=\u001b[39mrow[\u001b[38;5;124m'\u001b[39m\u001b[38;5;124mcode_ente\u001b[39m\u001b[38;5;124m'\u001b[39m], \n\u001b[0;32m     14\u001b[0m                                     anno\u001b[38;5;241m=\u001b[39mrow[\u001b[38;5;124m'\u001b[39m\u001b[38;5;124myear\u001b[39m\u001b[38;5;124m'\u001b[39m],\n\u001b[0;32m     15\u001b[0m                                     numero\u001b[38;5;241m=\u001b[39m row[\u001b[38;5;124m'\u001b[39m\u001b[38;5;124mnr\u001b[39m\u001b[38;5;124m'\u001b[39m],\n\u001b[0;32m     16\u001b[0m                                     row_number\u001b[38;5;241m=\u001b[39mrow\u001b[38;5;241m.\u001b[39mname\n\u001b[0;32m     17\u001b[0m                                     ),\n\u001b[0;32m     18\u001b[0m                                     axis\u001b[38;5;241m=\u001b[39m\u001b[38;5;241m1\u001b[39m)\n\u001b[0;32m     19\u001b[0m )\n",
      "Cell \u001b[1;32mIn[3], line 18\u001b[0m, in \u001b[0;36mtipo_scraper\u001b[1;34m(contratto, debitore, tipo, ufficio, lista_enti, anno, numero, row_number)\u001b[0m\n\u001b[0;32m     16\u001b[0m \u001b[38;5;28;01mfor\u001b[39;00m ente \u001b[38;5;129;01min\u001b[39;00m lista_enti:\n\u001b[0;32m     17\u001b[0m     result\u001b[38;5;241m=\u001b[39m\u001b[38;5;124m'\u001b[39m\u001b[38;5;124m'\u001b[39m\n\u001b[1;32m---> 18\u001b[0m     result \u001b[38;5;241m=\u001b[39m scraper(ufficio, ente, anno, numero, natura)\n\u001b[0;32m     19\u001b[0m     \u001b[38;5;28;01mif\u001b[39;00m \u001b[38;5;28misinstance\u001b[39m(result, \u001b[38;5;28mlist\u001b[39m):\n\u001b[0;32m     20\u001b[0m         \u001b[38;5;28;01mif\u001b[39;00m \u001b[38;5;28mlen\u001b[39m(result) \u001b[38;5;241m==\u001b[39m \u001b[38;5;241m8\u001b[39m:\n",
      "Cell \u001b[1;32mIn[2], line 43\u001b[0m, in \u001b[0;36mscraper\u001b[1;34m(ufficio, ente, anno, numero, natura)\u001b[0m\n\u001b[0;32m     33\u001b[0m params2 \u001b[38;5;241m=\u001b[39m {\n\u001b[0;32m     34\u001b[0m     \u001b[38;5;124m'\u001b[39m\u001b[38;5;124maction\u001b[39m\u001b[38;5;124m'\u001b[39m: \u001b[38;5;124m'\u001b[39m\u001b[38;5;124mscegliente\u001b[39m\u001b[38;5;124m'\u001b[39m,\n\u001b[0;32m     35\u001b[0m }\n\u001b[0;32m     36\u001b[0m body2 \u001b[38;5;241m=\u001b[39m {\n\u001b[0;32m     37\u001b[0m     \u001b[38;5;124m'\u001b[39m\u001b[38;5;124mente\u001b[39m\u001b[38;5;124m'\u001b[39m: ente,\n\u001b[0;32m     38\u001b[0m     \u001b[38;5;124m'\u001b[39m\u001b[38;5;124manno\u001b[39m\u001b[38;5;124m'\u001b[39m: anno,\n\u001b[1;32m   (...)\u001b[0m\n\u001b[0;32m     41\u001b[0m     \u001b[38;5;124m'\u001b[39m\u001b[38;5;124msnumero\u001b[39m\u001b[38;5;124m'\u001b[39m : \u001b[38;5;124m\"\u001b[39m\u001b[38;5;124m\"\u001b[39m\n\u001b[0;32m     42\u001b[0m }\n\u001b[1;32m---> 43\u001b[0m response2 \u001b[38;5;241m=\u001b[39m session\u001b[38;5;241m.\u001b[39mpost(url2, headers\u001b[38;5;241m=\u001b[39mheaders, params\u001b[38;5;241m=\u001b[39mparams2, data\u001b[38;5;241m=\u001b[39mbody2)\n\u001b[0;32m     44\u001b[0m \u001b[38;5;28;01mif\u001b[39;00m response2 :\n\u001b[0;32m     45\u001b[0m     soup2 \u001b[38;5;241m=\u001b[39m BeautifulSoup(response2\u001b[38;5;241m.\u001b[39mtext, \u001b[38;5;124m'\u001b[39m\u001b[38;5;124mhtml.parser\u001b[39m\u001b[38;5;124m'\u001b[39m)\n",
      "File \u001b[1;32mc:\\Users\\claudia.esposito\\.conda\\envs\\scraper_env\\Lib\\site-packages\\requests\\sessions.py:637\u001b[0m, in \u001b[0;36mSession.post\u001b[1;34m(self, url, data, json, **kwargs)\u001b[0m\n\u001b[0;32m    626\u001b[0m \u001b[38;5;28;01mdef\u001b[39;00m \u001b[38;5;21mpost\u001b[39m(\u001b[38;5;28mself\u001b[39m, url, data\u001b[38;5;241m=\u001b[39m\u001b[38;5;28;01mNone\u001b[39;00m, json\u001b[38;5;241m=\u001b[39m\u001b[38;5;28;01mNone\u001b[39;00m, \u001b[38;5;241m*\u001b[39m\u001b[38;5;241m*\u001b[39mkwargs):\n\u001b[0;32m    627\u001b[0m \u001b[38;5;250m    \u001b[39m\u001b[38;5;124mr\u001b[39m\u001b[38;5;124;03m\"\"\"Sends a POST request. Returns :class:`Response` object.\u001b[39;00m\n\u001b[0;32m    628\u001b[0m \n\u001b[0;32m    629\u001b[0m \u001b[38;5;124;03m    :param url: URL for the new :class:`Request` object.\u001b[39;00m\n\u001b[1;32m   (...)\u001b[0m\n\u001b[0;32m    634\u001b[0m \u001b[38;5;124;03m    :rtype: requests.Response\u001b[39;00m\n\u001b[0;32m    635\u001b[0m \u001b[38;5;124;03m    \"\"\"\u001b[39;00m\n\u001b[1;32m--> 637\u001b[0m     \u001b[38;5;28;01mreturn\u001b[39;00m \u001b[38;5;28mself\u001b[39m\u001b[38;5;241m.\u001b[39mrequest(\u001b[38;5;124m\"\u001b[39m\u001b[38;5;124mPOST\u001b[39m\u001b[38;5;124m\"\u001b[39m, url, data\u001b[38;5;241m=\u001b[39mdata, json\u001b[38;5;241m=\u001b[39mjson, \u001b[38;5;241m*\u001b[39m\u001b[38;5;241m*\u001b[39mkwargs)\n",
      "File \u001b[1;32mc:\\Users\\claudia.esposito\\.conda\\envs\\scraper_env\\Lib\\site-packages\\requests\\sessions.py:589\u001b[0m, in \u001b[0;36mSession.request\u001b[1;34m(self, method, url, params, data, headers, cookies, files, auth, timeout, allow_redirects, proxies, hooks, stream, verify, cert, json)\u001b[0m\n\u001b[0;32m    584\u001b[0m send_kwargs \u001b[38;5;241m=\u001b[39m {\n\u001b[0;32m    585\u001b[0m     \u001b[38;5;124m\"\u001b[39m\u001b[38;5;124mtimeout\u001b[39m\u001b[38;5;124m\"\u001b[39m: timeout,\n\u001b[0;32m    586\u001b[0m     \u001b[38;5;124m\"\u001b[39m\u001b[38;5;124mallow_redirects\u001b[39m\u001b[38;5;124m\"\u001b[39m: allow_redirects,\n\u001b[0;32m    587\u001b[0m }\n\u001b[0;32m    588\u001b[0m send_kwargs\u001b[38;5;241m.\u001b[39mupdate(settings)\n\u001b[1;32m--> 589\u001b[0m resp \u001b[38;5;241m=\u001b[39m \u001b[38;5;28mself\u001b[39m\u001b[38;5;241m.\u001b[39msend(prep, \u001b[38;5;241m*\u001b[39m\u001b[38;5;241m*\u001b[39msend_kwargs)\n\u001b[0;32m    591\u001b[0m \u001b[38;5;28;01mreturn\u001b[39;00m resp\n",
      "File \u001b[1;32mc:\\Users\\claudia.esposito\\.conda\\envs\\scraper_env\\Lib\\site-packages\\requests\\sessions.py:703\u001b[0m, in \u001b[0;36mSession.send\u001b[1;34m(self, request, **kwargs)\u001b[0m\n\u001b[0;32m    700\u001b[0m start \u001b[38;5;241m=\u001b[39m preferred_clock()\n\u001b[0;32m    702\u001b[0m \u001b[38;5;66;03m# Send the request\u001b[39;00m\n\u001b[1;32m--> 703\u001b[0m r \u001b[38;5;241m=\u001b[39m adapter\u001b[38;5;241m.\u001b[39msend(request, \u001b[38;5;241m*\u001b[39m\u001b[38;5;241m*\u001b[39mkwargs)\n\u001b[0;32m    705\u001b[0m \u001b[38;5;66;03m# Total elapsed time of the request (approximately)\u001b[39;00m\n\u001b[0;32m    706\u001b[0m elapsed \u001b[38;5;241m=\u001b[39m preferred_clock() \u001b[38;5;241m-\u001b[39m start\n",
      "File \u001b[1;32mc:\\Users\\claudia.esposito\\.conda\\envs\\scraper_env\\Lib\\site-packages\\requests\\adapters.py:486\u001b[0m, in \u001b[0;36mHTTPAdapter.send\u001b[1;34m(self, request, stream, timeout, verify, cert, proxies)\u001b[0m\n\u001b[0;32m    483\u001b[0m     timeout \u001b[38;5;241m=\u001b[39m TimeoutSauce(connect\u001b[38;5;241m=\u001b[39mtimeout, read\u001b[38;5;241m=\u001b[39mtimeout)\n\u001b[0;32m    485\u001b[0m \u001b[38;5;28;01mtry\u001b[39;00m:\n\u001b[1;32m--> 486\u001b[0m     resp \u001b[38;5;241m=\u001b[39m conn\u001b[38;5;241m.\u001b[39murlopen(\n\u001b[0;32m    487\u001b[0m         method\u001b[38;5;241m=\u001b[39mrequest\u001b[38;5;241m.\u001b[39mmethod,\n\u001b[0;32m    488\u001b[0m         url\u001b[38;5;241m=\u001b[39murl,\n\u001b[0;32m    489\u001b[0m         body\u001b[38;5;241m=\u001b[39mrequest\u001b[38;5;241m.\u001b[39mbody,\n\u001b[0;32m    490\u001b[0m         headers\u001b[38;5;241m=\u001b[39mrequest\u001b[38;5;241m.\u001b[39mheaders,\n\u001b[0;32m    491\u001b[0m         redirect\u001b[38;5;241m=\u001b[39m\u001b[38;5;28;01mFalse\u001b[39;00m,\n\u001b[0;32m    492\u001b[0m         assert_same_host\u001b[38;5;241m=\u001b[39m\u001b[38;5;28;01mFalse\u001b[39;00m,\n\u001b[0;32m    493\u001b[0m         preload_content\u001b[38;5;241m=\u001b[39m\u001b[38;5;28;01mFalse\u001b[39;00m,\n\u001b[0;32m    494\u001b[0m         decode_content\u001b[38;5;241m=\u001b[39m\u001b[38;5;28;01mFalse\u001b[39;00m,\n\u001b[0;32m    495\u001b[0m         retries\u001b[38;5;241m=\u001b[39m\u001b[38;5;28mself\u001b[39m\u001b[38;5;241m.\u001b[39mmax_retries,\n\u001b[0;32m    496\u001b[0m         timeout\u001b[38;5;241m=\u001b[39mtimeout,\n\u001b[0;32m    497\u001b[0m         chunked\u001b[38;5;241m=\u001b[39mchunked,\n\u001b[0;32m    498\u001b[0m     )\n\u001b[0;32m    500\u001b[0m \u001b[38;5;28;01mexcept\u001b[39;00m (ProtocolError, \u001b[38;5;167;01mOSError\u001b[39;00m) \u001b[38;5;28;01mas\u001b[39;00m err:\n\u001b[0;32m    501\u001b[0m     \u001b[38;5;28;01mraise\u001b[39;00m \u001b[38;5;167;01mConnectionError\u001b[39;00m(err, request\u001b[38;5;241m=\u001b[39mrequest)\n",
      "File \u001b[1;32mc:\\Users\\claudia.esposito\\.conda\\envs\\scraper_env\\Lib\\site-packages\\urllib3\\connectionpool.py:714\u001b[0m, in \u001b[0;36mHTTPConnectionPool.urlopen\u001b[1;34m(self, method, url, body, headers, retries, redirect, assert_same_host, timeout, pool_timeout, release_conn, chunked, body_pos, **response_kw)\u001b[0m\n\u001b[0;32m    711\u001b[0m     \u001b[38;5;28mself\u001b[39m\u001b[38;5;241m.\u001b[39m_prepare_proxy(conn)\n\u001b[0;32m    713\u001b[0m \u001b[38;5;66;03m# Make the request on the httplib connection object.\u001b[39;00m\n\u001b[1;32m--> 714\u001b[0m httplib_response \u001b[38;5;241m=\u001b[39m \u001b[38;5;28mself\u001b[39m\u001b[38;5;241m.\u001b[39m_make_request(\n\u001b[0;32m    715\u001b[0m     conn,\n\u001b[0;32m    716\u001b[0m     method,\n\u001b[0;32m    717\u001b[0m     url,\n\u001b[0;32m    718\u001b[0m     timeout\u001b[38;5;241m=\u001b[39mtimeout_obj,\n\u001b[0;32m    719\u001b[0m     body\u001b[38;5;241m=\u001b[39mbody,\n\u001b[0;32m    720\u001b[0m     headers\u001b[38;5;241m=\u001b[39mheaders,\n\u001b[0;32m    721\u001b[0m     chunked\u001b[38;5;241m=\u001b[39mchunked,\n\u001b[0;32m    722\u001b[0m )\n\u001b[0;32m    724\u001b[0m \u001b[38;5;66;03m# If we're going to release the connection in ``finally:``, then\u001b[39;00m\n\u001b[0;32m    725\u001b[0m \u001b[38;5;66;03m# the response doesn't need to know about the connection. Otherwise\u001b[39;00m\n\u001b[0;32m    726\u001b[0m \u001b[38;5;66;03m# it will also try to release it and we'll have a double-release\u001b[39;00m\n\u001b[0;32m    727\u001b[0m \u001b[38;5;66;03m# mess.\u001b[39;00m\n\u001b[0;32m    728\u001b[0m response_conn \u001b[38;5;241m=\u001b[39m conn \u001b[38;5;28;01mif\u001b[39;00m \u001b[38;5;129;01mnot\u001b[39;00m release_conn \u001b[38;5;28;01melse\u001b[39;00m \u001b[38;5;28;01mNone\u001b[39;00m\n",
      "File \u001b[1;32mc:\\Users\\claudia.esposito\\.conda\\envs\\scraper_env\\Lib\\site-packages\\urllib3\\connectionpool.py:466\u001b[0m, in \u001b[0;36mHTTPConnectionPool._make_request\u001b[1;34m(self, conn, method, url, timeout, chunked, **httplib_request_kw)\u001b[0m\n\u001b[0;32m    461\u001b[0m             httplib_response \u001b[38;5;241m=\u001b[39m conn\u001b[38;5;241m.\u001b[39mgetresponse()\n\u001b[0;32m    462\u001b[0m         \u001b[38;5;28;01mexcept\u001b[39;00m \u001b[38;5;167;01mBaseException\u001b[39;00m \u001b[38;5;28;01mas\u001b[39;00m e:\n\u001b[0;32m    463\u001b[0m             \u001b[38;5;66;03m# Remove the TypeError from the exception chain in\u001b[39;00m\n\u001b[0;32m    464\u001b[0m             \u001b[38;5;66;03m# Python 3 (including for exceptions like SystemExit).\u001b[39;00m\n\u001b[0;32m    465\u001b[0m             \u001b[38;5;66;03m# Otherwise it looks like a bug in the code.\u001b[39;00m\n\u001b[1;32m--> 466\u001b[0m             six\u001b[38;5;241m.\u001b[39mraise_from(e, \u001b[38;5;28;01mNone\u001b[39;00m)\n\u001b[0;32m    467\u001b[0m \u001b[38;5;28;01mexcept\u001b[39;00m (SocketTimeout, BaseSSLError, SocketError) \u001b[38;5;28;01mas\u001b[39;00m e:\n\u001b[0;32m    468\u001b[0m     \u001b[38;5;28mself\u001b[39m\u001b[38;5;241m.\u001b[39m_raise_timeout(err\u001b[38;5;241m=\u001b[39me, url\u001b[38;5;241m=\u001b[39murl, timeout_value\u001b[38;5;241m=\u001b[39mread_timeout)\n",
      "File \u001b[1;32m<string>:3\u001b[0m, in \u001b[0;36mraise_from\u001b[1;34m(value, from_value)\u001b[0m\n",
      "File \u001b[1;32mc:\\Users\\claudia.esposito\\.conda\\envs\\scraper_env\\Lib\\site-packages\\urllib3\\connectionpool.py:461\u001b[0m, in \u001b[0;36mHTTPConnectionPool._make_request\u001b[1;34m(self, conn, method, url, timeout, chunked, **httplib_request_kw)\u001b[0m\n\u001b[0;32m    458\u001b[0m \u001b[38;5;28;01mexcept\u001b[39;00m \u001b[38;5;167;01mTypeError\u001b[39;00m:\n\u001b[0;32m    459\u001b[0m     \u001b[38;5;66;03m# Python 3\u001b[39;00m\n\u001b[0;32m    460\u001b[0m     \u001b[38;5;28;01mtry\u001b[39;00m:\n\u001b[1;32m--> 461\u001b[0m         httplib_response \u001b[38;5;241m=\u001b[39m conn\u001b[38;5;241m.\u001b[39mgetresponse()\n\u001b[0;32m    462\u001b[0m     \u001b[38;5;28;01mexcept\u001b[39;00m \u001b[38;5;167;01mBaseException\u001b[39;00m \u001b[38;5;28;01mas\u001b[39;00m e:\n\u001b[0;32m    463\u001b[0m         \u001b[38;5;66;03m# Remove the TypeError from the exception chain in\u001b[39;00m\n\u001b[0;32m    464\u001b[0m         \u001b[38;5;66;03m# Python 3 (including for exceptions like SystemExit).\u001b[39;00m\n\u001b[0;32m    465\u001b[0m         \u001b[38;5;66;03m# Otherwise it looks like a bug in the code.\u001b[39;00m\n\u001b[0;32m    466\u001b[0m         six\u001b[38;5;241m.\u001b[39mraise_from(e, \u001b[38;5;28;01mNone\u001b[39;00m)\n",
      "File \u001b[1;32mc:\\Users\\claudia.esposito\\.conda\\envs\\scraper_env\\Lib\\http\\client.py:1378\u001b[0m, in \u001b[0;36mHTTPConnection.getresponse\u001b[1;34m(self)\u001b[0m\n\u001b[0;32m   1376\u001b[0m \u001b[38;5;28;01mtry\u001b[39;00m:\n\u001b[0;32m   1377\u001b[0m     \u001b[38;5;28;01mtry\u001b[39;00m:\n\u001b[1;32m-> 1378\u001b[0m         response\u001b[38;5;241m.\u001b[39mbegin()\n\u001b[0;32m   1379\u001b[0m     \u001b[38;5;28;01mexcept\u001b[39;00m \u001b[38;5;167;01mConnectionError\u001b[39;00m:\n\u001b[0;32m   1380\u001b[0m         \u001b[38;5;28mself\u001b[39m\u001b[38;5;241m.\u001b[39mclose()\n",
      "File \u001b[1;32mc:\\Users\\claudia.esposito\\.conda\\envs\\scraper_env\\Lib\\http\\client.py:318\u001b[0m, in \u001b[0;36mHTTPResponse.begin\u001b[1;34m(self)\u001b[0m\n\u001b[0;32m    316\u001b[0m \u001b[38;5;66;03m# read until we get a non-100 response\u001b[39;00m\n\u001b[0;32m    317\u001b[0m \u001b[38;5;28;01mwhile\u001b[39;00m \u001b[38;5;28;01mTrue\u001b[39;00m:\n\u001b[1;32m--> 318\u001b[0m     version, status, reason \u001b[38;5;241m=\u001b[39m \u001b[38;5;28mself\u001b[39m\u001b[38;5;241m.\u001b[39m_read_status()\n\u001b[0;32m    319\u001b[0m     \u001b[38;5;28;01mif\u001b[39;00m status \u001b[38;5;241m!=\u001b[39m CONTINUE:\n\u001b[0;32m    320\u001b[0m         \u001b[38;5;28;01mbreak\u001b[39;00m\n",
      "File \u001b[1;32mc:\\Users\\claudia.esposito\\.conda\\envs\\scraper_env\\Lib\\http\\client.py:279\u001b[0m, in \u001b[0;36mHTTPResponse._read_status\u001b[1;34m(self)\u001b[0m\n\u001b[0;32m    278\u001b[0m \u001b[38;5;28;01mdef\u001b[39;00m \u001b[38;5;21m_read_status\u001b[39m(\u001b[38;5;28mself\u001b[39m):\n\u001b[1;32m--> 279\u001b[0m     line \u001b[38;5;241m=\u001b[39m \u001b[38;5;28mstr\u001b[39m(\u001b[38;5;28mself\u001b[39m\u001b[38;5;241m.\u001b[39mfp\u001b[38;5;241m.\u001b[39mreadline(_MAXLINE \u001b[38;5;241m+\u001b[39m \u001b[38;5;241m1\u001b[39m), \u001b[38;5;124m\"\u001b[39m\u001b[38;5;124miso-8859-1\u001b[39m\u001b[38;5;124m\"\u001b[39m)\n\u001b[0;32m    280\u001b[0m     \u001b[38;5;28;01mif\u001b[39;00m \u001b[38;5;28mlen\u001b[39m(line) \u001b[38;5;241m>\u001b[39m _MAXLINE:\n\u001b[0;32m    281\u001b[0m         \u001b[38;5;28;01mraise\u001b[39;00m LineTooLong(\u001b[38;5;124m\"\u001b[39m\u001b[38;5;124mstatus line\u001b[39m\u001b[38;5;124m\"\u001b[39m)\n",
      "File \u001b[1;32mc:\\Users\\claudia.esposito\\.conda\\envs\\scraper_env\\Lib\\socket.py:706\u001b[0m, in \u001b[0;36mSocketIO.readinto\u001b[1;34m(self, b)\u001b[0m\n\u001b[0;32m    704\u001b[0m \u001b[38;5;28;01mwhile\u001b[39;00m \u001b[38;5;28;01mTrue\u001b[39;00m:\n\u001b[0;32m    705\u001b[0m     \u001b[38;5;28;01mtry\u001b[39;00m:\n\u001b[1;32m--> 706\u001b[0m         \u001b[38;5;28;01mreturn\u001b[39;00m \u001b[38;5;28mself\u001b[39m\u001b[38;5;241m.\u001b[39m_sock\u001b[38;5;241m.\u001b[39mrecv_into(b)\n\u001b[0;32m    707\u001b[0m     \u001b[38;5;28;01mexcept\u001b[39;00m timeout:\n\u001b[0;32m    708\u001b[0m         \u001b[38;5;28mself\u001b[39m\u001b[38;5;241m.\u001b[39m_timeout_occurred \u001b[38;5;241m=\u001b[39m \u001b[38;5;28;01mTrue\u001b[39;00m\n",
      "File \u001b[1;32mc:\\Users\\claudia.esposito\\.conda\\envs\\scraper_env\\Lib\\ssl.py:1311\u001b[0m, in \u001b[0;36mSSLSocket.recv_into\u001b[1;34m(self, buffer, nbytes, flags)\u001b[0m\n\u001b[0;32m   1307\u001b[0m     \u001b[38;5;28;01mif\u001b[39;00m flags \u001b[38;5;241m!=\u001b[39m \u001b[38;5;241m0\u001b[39m:\n\u001b[0;32m   1308\u001b[0m         \u001b[38;5;28;01mraise\u001b[39;00m \u001b[38;5;167;01mValueError\u001b[39;00m(\n\u001b[0;32m   1309\u001b[0m           \u001b[38;5;124m\"\u001b[39m\u001b[38;5;124mnon-zero flags not allowed in calls to recv_into() on \u001b[39m\u001b[38;5;132;01m%s\u001b[39;00m\u001b[38;5;124m\"\u001b[39m \u001b[38;5;241m%\u001b[39m\n\u001b[0;32m   1310\u001b[0m           \u001b[38;5;28mself\u001b[39m\u001b[38;5;241m.\u001b[39m\u001b[38;5;18m__class__\u001b[39m)\n\u001b[1;32m-> 1311\u001b[0m     \u001b[38;5;28;01mreturn\u001b[39;00m \u001b[38;5;28mself\u001b[39m\u001b[38;5;241m.\u001b[39mread(nbytes, buffer)\n\u001b[0;32m   1312\u001b[0m \u001b[38;5;28;01melse\u001b[39;00m:\n\u001b[0;32m   1313\u001b[0m     \u001b[38;5;28;01mreturn\u001b[39;00m \u001b[38;5;28msuper\u001b[39m()\u001b[38;5;241m.\u001b[39mrecv_into(buffer, nbytes, flags)\n",
      "File \u001b[1;32mc:\\Users\\claudia.esposito\\.conda\\envs\\scraper_env\\Lib\\ssl.py:1167\u001b[0m, in \u001b[0;36mSSLSocket.read\u001b[1;34m(self, len, buffer)\u001b[0m\n\u001b[0;32m   1165\u001b[0m \u001b[38;5;28;01mtry\u001b[39;00m:\n\u001b[0;32m   1166\u001b[0m     \u001b[38;5;28;01mif\u001b[39;00m buffer \u001b[38;5;129;01mis\u001b[39;00m \u001b[38;5;129;01mnot\u001b[39;00m \u001b[38;5;28;01mNone\u001b[39;00m:\n\u001b[1;32m-> 1167\u001b[0m         \u001b[38;5;28;01mreturn\u001b[39;00m \u001b[38;5;28mself\u001b[39m\u001b[38;5;241m.\u001b[39m_sslobj\u001b[38;5;241m.\u001b[39mread(\u001b[38;5;28mlen\u001b[39m, buffer)\n\u001b[0;32m   1168\u001b[0m     \u001b[38;5;28;01melse\u001b[39;00m:\n\u001b[0;32m   1169\u001b[0m         \u001b[38;5;28;01mreturn\u001b[39;00m \u001b[38;5;28mself\u001b[39m\u001b[38;5;241m.\u001b[39m_sslobj\u001b[38;5;241m.\u001b[39mread(\u001b[38;5;28mlen\u001b[39m)\n",
      "\u001b[1;31mKeyboardInterrupt\u001b[0m: "
     ]
    }
   ],
   "source": [
    "a=500\n",
    "b=1000\n",
    "# b = \"fine\"\n",
    "\n",
    "# new_df = input[a:]\n",
    "\n",
    "new_df = input[a:b]\n",
    "results =( new_df \n",
    "    .apply(lambda row: tipo_scraper(contratto=row['NR_Contratto'],\n",
    "                                    debitore=row['Debitore'],\n",
    "                                    tipo= row['tipo_ricerca'],\n",
    "                                    ufficio= row['code_office'],\n",
    "                                    lista_enti=row['code_ente'], \n",
    "                                    anno=row['year'],\n",
    "                                    numero= row['nr'],\n",
    "                                    row_number=row.name\n",
    "                                    ),\n",
    "                                    axis=1)\n",
    ")"
   ]
  },
  {
   "cell_type": "markdown",
   "metadata": {},
   "source": [
    "# PULIZIA RISULTATI"
   ]
  },
  {
   "cell_type": "code",
   "execution_count": 89,
   "metadata": {},
   "outputs": [],
   "source": [
    "filtered_data = [item for item in results if item != []]\n",
    "flattened_results = [item for sublist in filtered_data for item in (sublist if isinstance(sublist, list) else [sublist])]\n",
    "df = pd.DataFrame(flattened_results)\n",
    "df = df.drop_duplicates()"
   ]
  },
  {
   "cell_type": "code",
   "execution_count": 90,
   "metadata": {},
   "outputs": [],
   "source": [
    "cliente = input0[['NR_Contratto','Cliente 1','Cliente 2']]\n",
    "df = pd.merge(df,cliente,how='left', left_on='contratto',right_on='NR_Contratto' )\n",
    "df.drop(columns=['NR_Contratto'], inplace=True)\n",
    "df['Cliente 1'] = df['Cliente 1'].str.upper()\n",
    "df['Cliente 2'] = df['Cliente 2'].str.upper()\n",
    "df = df.drop_duplicates()"
   ]
  },
  {
   "cell_type": "markdown",
   "metadata": {},
   "source": [
    "# Check visivi"
   ]
  },
  {
   "cell_type": "code",
   "execution_count": 91,
   "metadata": {},
   "outputs": [
    {
     "data": {
      "text/html": [
       "<div>\n",
       "<style scoped>\n",
       "    .dataframe tbody tr th:only-of-type {\n",
       "        vertical-align: middle;\n",
       "    }\n",
       "\n",
       "    .dataframe tbody tr th {\n",
       "        vertical-align: top;\n",
       "    }\n",
       "\n",
       "    .dataframe thead th {\n",
       "        text-align: right;\n",
       "    }\n",
       "</style>\n",
       "<table border=\"1\" class=\"dataframe\">\n",
       "  <thead>\n",
       "    <tr style=\"text-align: right;\">\n",
       "      <th></th>\n",
       "      <th>contratto</th>\n",
       "      <th>debitore</th>\n",
       "      <th>ufficio</th>\n",
       "      <th>atto</th>\n",
       "      <th>emesso da</th>\n",
       "      <th>repertorio</th>\n",
       "      <th>attore</th>\n",
       "      <th>convenuto</th>\n",
       "      <th>stato</th>\n",
       "      <th>compila</th>\n",
       "      <th>Cliente 1</th>\n",
       "      <th>Cliente 2</th>\n",
       "    </tr>\n",
       "  </thead>\n",
       "  <tbody>\n",
       "    <tr>\n",
       "      <th>16</th>\n",
       "      <td>AA1200001768_06112018</td>\n",
       "      <td>SGOBBA IVAN</td>\n",
       "      <td>BRESCIA  UT DPBS</td>\n",
       "      <td>DECRETO INGIUNTIVO n. 1236 del 2020</td>\n",
       "      <td>GIUDICE DI PACE DI BRESCIA</td>\n",
       "      <td>553/21 - 2021</td>\n",
       "      <td>PUBLIMAX SRL</td>\n",
       "      <td>39 DESIGN SOCIETA' A RESPONSAB</td>\n",
       "      <td>EMESSO ARTICOLO DI RUOLO</td>\n",
       "      <td>no</td>\n",
       "      <td>A2A</td>\n",
       "      <td>A2A S.P.A.</td>\n",
       "    </tr>\n",
       "    <tr>\n",
       "      <th>144</th>\n",
       "      <td>AA1300000343_04102017</td>\n",
       "      <td>CAPUZZI RICCARDO</td>\n",
       "      <td>BRESCIA  UT DPBS</td>\n",
       "      <td>DECRETO INGIUNTIVO n. 5377 del 2019</td>\n",
       "      <td>GIUDICE DI PACE DI BRESCIA</td>\n",
       "      <td>8/20 - 2020</td>\n",
       "      <td>FERRO BULLONI ITALIA SPA</td>\n",
       "      <td>EDILCA' SRL</td>\n",
       "      <td>ATTO REGISTRATO</td>\n",
       "      <td>no</td>\n",
       "      <td>A2A</td>\n",
       "      <td>A2A S.P.A.</td>\n",
       "    </tr>\n",
       "    <tr>\n",
       "      <th>312</th>\n",
       "      <td>AA1700000444_04022021</td>\n",
       "      <td>AMATO MORENO</td>\n",
       "      <td>MANTOVA  UT DPMN</td>\n",
       "      <td>DECRETO INGIUNTIVO n. 1450 del 2021</td>\n",
       "      <td>GIUDICE DI PACE-MANTOVA</td>\n",
       "      <td>637 - 2021</td>\n",
       "      <td>APRICA S.P.A.</td>\n",
       "      <td>AMATO</td>\n",
       "      <td>ATTO IN FASE DI TASSAZIONE</td>\n",
       "      <td>no</td>\n",
       "      <td>A2A</td>\n",
       "      <td>A2A S.P.A.</td>\n",
       "    </tr>\n",
       "    <tr>\n",
       "      <th>318</th>\n",
       "      <td>AA1700000444_04022021</td>\n",
       "      <td>AMATO MORENO</td>\n",
       "      <td>MANTOVA  UT DPMN</td>\n",
       "      <td>DECRETO INGIUNTIVO n. 1702 del 2021</td>\n",
       "      <td>GIUDICE DI PACE-MANTOVA</td>\n",
       "      <td>232 - 2022</td>\n",
       "      <td>IFIS NPL INVESTING S.P.A.</td>\n",
       "      <td>TONDELLI</td>\n",
       "      <td>ATTO IN FASE DI TASSAZIONE</td>\n",
       "      <td>no</td>\n",
       "      <td>A2A</td>\n",
       "      <td>A2A S.P.A.</td>\n",
       "    </tr>\n",
       "    <tr>\n",
       "      <th>342</th>\n",
       "      <td>AA1700000466_04022021</td>\n",
       "      <td>FORATTINI ANDREA</td>\n",
       "      <td>MANTOVA  UT DPMN</td>\n",
       "      <td>DECRETO INGIUNTIVO n. 1707 del 2021</td>\n",
       "      <td>GIUDICE DI PACE-MANTOVA</td>\n",
       "      <td>229 - 2022</td>\n",
       "      <td>IFIS NPL INVESTING S.P.A.</td>\n",
       "      <td>ARTONI</td>\n",
       "      <td>ATTO IN FASE DI TASSAZIONE</td>\n",
       "      <td>no</td>\n",
       "      <td>A2A</td>\n",
       "      <td>A2A S.P.A.</td>\n",
       "    </tr>\n",
       "    <tr>\n",
       "      <th>...</th>\n",
       "      <td>...</td>\n",
       "      <td>...</td>\n",
       "      <td>...</td>\n",
       "      <td>...</td>\n",
       "      <td>...</td>\n",
       "      <td>...</td>\n",
       "      <td>...</td>\n",
       "      <td>...</td>\n",
       "      <td>...</td>\n",
       "      <td>...</td>\n",
       "      <td>...</td>\n",
       "      <td>...</td>\n",
       "    </tr>\n",
       "    <tr>\n",
       "      <th>3480</th>\n",
       "      <td>AKCO10207463.001</td>\n",
       "      <td>MATUOZZO SALVATORE</td>\n",
       "      <td>NAPOLI 3  UT DPNA2</td>\n",
       "      <td>ORDINANZA n. 736 del 2019</td>\n",
       "      <td>TRIBUNALE DI NAPOLI</td>\n",
       "      <td>736 - 2019</td>\n",
       "      <td>ALLOCATI</td>\n",
       "      <td>NAPOLI SOCIALE S.P.A. IN LIQUI</td>\n",
       "      <td>ATTO REGISTRATO</td>\n",
       "      <td>no</td>\n",
       "      <td>AK NORDIC</td>\n",
       "      <td>AKNORDIKAB_STOCK</td>\n",
       "    </tr>\n",
       "    <tr>\n",
       "      <th>3518</th>\n",
       "      <td>AKCO1040380.001</td>\n",
       "      <td>TASSINARI FILIPPO</td>\n",
       "      <td>FERRARA  UT DPFE</td>\n",
       "      <td>DECRETO INGIUNTIVO n. 14 del 2018</td>\n",
       "      <td>TRIBUNALE DI FERRARA</td>\n",
       "      <td>14 - 2018</td>\n",
       "      <td>RESIDENCE LE CORTI SAS + 1</td>\n",
       "      <td>RIZZATI MARCO</td>\n",
       "      <td>ATTO REGISTRATO</td>\n",
       "      <td>no</td>\n",
       "      <td>AK NORDIC</td>\n",
       "      <td>AKNORDIKAB_STOCK</td>\n",
       "    </tr>\n",
       "    <tr>\n",
       "      <th>3520</th>\n",
       "      <td>AKCO1040380.001</td>\n",
       "      <td>TASSINARI FILIPPO</td>\n",
       "      <td>FERRARA  UT DPFE</td>\n",
       "      <td>DECRETO INGIUNTIVO n. 7 del 2018</td>\n",
       "      <td>TRIBUNALE DI FERRARA</td>\n",
       "      <td>7 - 2018</td>\n",
       "      <td>REAMAR S.R.L.</td>\n",
       "      <td>ITTI ADRIATICA S.R.L.S.</td>\n",
       "      <td>ATTO REGISTRATO</td>\n",
       "      <td>no</td>\n",
       "      <td>AK NORDIC</td>\n",
       "      <td>AKNORDIKAB_STOCK</td>\n",
       "    </tr>\n",
       "    <tr>\n",
       "      <th>3686</th>\n",
       "      <td>AKCO10828164.001</td>\n",
       "      <td>MARINO CARLO</td>\n",
       "      <td>NAPOLI 3  UT DPNA2</td>\n",
       "      <td>DECRETO INGIUNTIVO n. 9959 del 2018</td>\n",
       "      <td>GIUDICE DI PACE NAPOLI</td>\n",
       "      <td>2871 - 2018</td>\n",
       "      <td>DI COSTANZO</td>\n",
       "      <td>MINISTERO DEI BENI E DELLE ATT</td>\n",
       "      <td>ATTO REGISTRATO</td>\n",
       "      <td>no</td>\n",
       "      <td>AK NORDIC</td>\n",
       "      <td>AKNORDIKAB_STOCK</td>\n",
       "    </tr>\n",
       "    <tr>\n",
       "      <th>3696</th>\n",
       "      <td>AKCO10828164.001</td>\n",
       "      <td>MARINO CARLO</td>\n",
       "      <td>NAPOLI 3  UT DPNA2</td>\n",
       "      <td>DECRETO INGIUNTIVO n. 7109 del 2018</td>\n",
       "      <td>GIUDICE DI PACE NAPOLI</td>\n",
       "      <td>2926/21 - 2018</td>\n",
       "      <td>AK NORDIC AB</td>\n",
       "      <td>MARINO</td>\n",
       "      <td>ATTO REGISTRATO</td>\n",
       "      <td>no</td>\n",
       "      <td>AK NORDIC</td>\n",
       "      <td>AKNORDIKAB_STOCK</td>\n",
       "    </tr>\n",
       "  </tbody>\n",
       "</table>\n",
       "<p>74 rows × 12 columns</p>\n",
       "</div>"
      ],
      "text/plain": [
       "                  contratto            debitore             ufficio  \\\n",
       "16    AA1200001768_06112018         SGOBBA IVAN    BRESCIA  UT DPBS   \n",
       "144   AA1300000343_04102017    CAPUZZI RICCARDO    BRESCIA  UT DPBS   \n",
       "312   AA1700000444_04022021        AMATO MORENO    MANTOVA  UT DPMN   \n",
       "318   AA1700000444_04022021        AMATO MORENO    MANTOVA  UT DPMN   \n",
       "342   AA1700000466_04022021    FORATTINI ANDREA    MANTOVA  UT DPMN   \n",
       "...                     ...                 ...                 ...   \n",
       "3480       AKCO10207463.001  MATUOZZO SALVATORE  NAPOLI 3  UT DPNA2   \n",
       "3518        AKCO1040380.001   TASSINARI FILIPPO    FERRARA  UT DPFE   \n",
       "3520        AKCO1040380.001   TASSINARI FILIPPO    FERRARA  UT DPFE   \n",
       "3686       AKCO10828164.001        MARINO CARLO  NAPOLI 3  UT DPNA2   \n",
       "3696       AKCO10828164.001        MARINO CARLO  NAPOLI 3  UT DPNA2   \n",
       "\n",
       "                                     atto                   emesso da  \\\n",
       "16    DECRETO INGIUNTIVO n. 1236 del 2020  GIUDICE DI PACE DI BRESCIA   \n",
       "144   DECRETO INGIUNTIVO n. 5377 del 2019  GIUDICE DI PACE DI BRESCIA   \n",
       "312   DECRETO INGIUNTIVO n. 1450 del 2021     GIUDICE DI PACE-MANTOVA   \n",
       "318   DECRETO INGIUNTIVO n. 1702 del 2021     GIUDICE DI PACE-MANTOVA   \n",
       "342   DECRETO INGIUNTIVO n. 1707 del 2021     GIUDICE DI PACE-MANTOVA   \n",
       "...                                   ...                         ...   \n",
       "3480            ORDINANZA n. 736 del 2019         TRIBUNALE DI NAPOLI   \n",
       "3518    DECRETO INGIUNTIVO n. 14 del 2018        TRIBUNALE DI FERRARA   \n",
       "3520     DECRETO INGIUNTIVO n. 7 del 2018        TRIBUNALE DI FERRARA   \n",
       "3686  DECRETO INGIUNTIVO n. 9959 del 2018      GIUDICE DI PACE NAPOLI   \n",
       "3696  DECRETO INGIUNTIVO n. 7109 del 2018      GIUDICE DI PACE NAPOLI   \n",
       "\n",
       "          repertorio                      attore  \\\n",
       "16     553/21 - 2021                PUBLIMAX SRL   \n",
       "144      8/20 - 2020    FERRO BULLONI ITALIA SPA   \n",
       "312       637 - 2021               APRICA S.P.A.   \n",
       "318       232 - 2022   IFIS NPL INVESTING S.P.A.   \n",
       "342       229 - 2022   IFIS NPL INVESTING S.P.A.   \n",
       "...              ...                         ...   \n",
       "3480      736 - 2019                    ALLOCATI   \n",
       "3518       14 - 2018  RESIDENCE LE CORTI SAS + 1   \n",
       "3520        7 - 2018               REAMAR S.R.L.   \n",
       "3686     2871 - 2018                 DI COSTANZO   \n",
       "3696  2926/21 - 2018                AK NORDIC AB   \n",
       "\n",
       "                           convenuto                       stato compila  \\\n",
       "16    39 DESIGN SOCIETA' A RESPONSAB    EMESSO ARTICOLO DI RUOLO      no   \n",
       "144                      EDILCA' SRL             ATTO REGISTRATO      no   \n",
       "312                            AMATO  ATTO IN FASE DI TASSAZIONE      no   \n",
       "318                         TONDELLI  ATTO IN FASE DI TASSAZIONE      no   \n",
       "342                           ARTONI  ATTO IN FASE DI TASSAZIONE      no   \n",
       "...                              ...                         ...     ...   \n",
       "3480  NAPOLI SOCIALE S.P.A. IN LIQUI             ATTO REGISTRATO      no   \n",
       "3518                   RIZZATI MARCO             ATTO REGISTRATO      no   \n",
       "3520         ITTI ADRIATICA S.R.L.S.             ATTO REGISTRATO      no   \n",
       "3686  MINISTERO DEI BENI E DELLE ATT             ATTO REGISTRATO      no   \n",
       "3696                          MARINO             ATTO REGISTRATO      no   \n",
       "\n",
       "      Cliente 1         Cliente 2  \n",
       "16          A2A        A2A S.P.A.  \n",
       "144         A2A        A2A S.P.A.  \n",
       "312         A2A        A2A S.P.A.  \n",
       "318         A2A        A2A S.P.A.  \n",
       "342         A2A        A2A S.P.A.  \n",
       "...         ...               ...  \n",
       "3480  AK NORDIC  AKNORDIKAB_STOCK  \n",
       "3518  AK NORDIC  AKNORDIKAB_STOCK  \n",
       "3520  AK NORDIC  AKNORDIKAB_STOCK  \n",
       "3686  AK NORDIC  AKNORDIKAB_STOCK  \n",
       "3696  AK NORDIC  AKNORDIKAB_STOCK  \n",
       "\n",
       "[74 rows x 12 columns]"
      ]
     },
     "execution_count": 91,
     "metadata": {},
     "output_type": "execute_result"
    }
   ],
   "source": [
    "# Righe con risultati\n",
    "df[(df['attore'] != '-') | (df['convenuto'] != '-') ]"
   ]
  },
  {
   "cell_type": "code",
   "execution_count": 92,
   "metadata": {},
   "outputs": [
    {
     "data": {
      "text/html": [
       "<div>\n",
       "<style scoped>\n",
       "    .dataframe tbody tr th:only-of-type {\n",
       "        vertical-align: middle;\n",
       "    }\n",
       "\n",
       "    .dataframe tbody tr th {\n",
       "        vertical-align: top;\n",
       "    }\n",
       "\n",
       "    .dataframe thead th {\n",
       "        text-align: right;\n",
       "    }\n",
       "</style>\n",
       "<table border=\"1\" class=\"dataframe\">\n",
       "  <thead>\n",
       "    <tr style=\"text-align: right;\">\n",
       "      <th></th>\n",
       "      <th>contratto</th>\n",
       "      <th>debitore</th>\n",
       "      <th>ufficio</th>\n",
       "      <th>atto</th>\n",
       "      <th>emesso da</th>\n",
       "      <th>repertorio</th>\n",
       "      <th>attore</th>\n",
       "      <th>convenuto</th>\n",
       "      <th>stato</th>\n",
       "      <th>compila</th>\n",
       "      <th>Cliente 1</th>\n",
       "      <th>Cliente 2</th>\n",
       "    </tr>\n",
       "  </thead>\n",
       "  <tbody>\n",
       "    <tr>\n",
       "      <th>3518</th>\n",
       "      <td>AKCO1040380.001</td>\n",
       "      <td>TASSINARI FILIPPO</td>\n",
       "      <td>FERRARA  UT DPFE</td>\n",
       "      <td>DECRETO INGIUNTIVO n. 14 del 2018</td>\n",
       "      <td>TRIBUNALE DI FERRARA</td>\n",
       "      <td>14 - 2018</td>\n",
       "      <td>RESIDENCE LE CORTI SAS + 1</td>\n",
       "      <td>RIZZATI MARCO</td>\n",
       "      <td>ATTO REGISTRATO</td>\n",
       "      <td>no</td>\n",
       "      <td>AK NORDIC</td>\n",
       "      <td>AKNORDIKAB_STOCK</td>\n",
       "    </tr>\n",
       "  </tbody>\n",
       "</table>\n",
       "</div>"
      ],
      "text/plain": [
       "            contratto           debitore           ufficio  \\\n",
       "3518  AKCO1040380.001  TASSINARI FILIPPO  FERRARA  UT DPFE   \n",
       "\n",
       "                                   atto             emesso da repertorio  \\\n",
       "3518  DECRETO INGIUNTIVO n. 14 del 2018  TRIBUNALE DI FERRARA  14 - 2018   \n",
       "\n",
       "                          attore      convenuto            stato compila  \\\n",
       "3518  RESIDENCE LE CORTI SAS + 1  RIZZATI MARCO  ATTO REGISTRATO      no   \n",
       "\n",
       "      Cliente 1         Cliente 2  \n",
       "3518  AK NORDIC  AKNORDIKAB_STOCK  "
      ]
     },
     "execution_count": 92,
     "metadata": {},
     "output_type": "execute_result"
    }
   ],
   "source": [
    "# Guardare i nomi in format 'name +1'\n",
    "df[(df['attore'].str.contains('\\+')) | (df['convenuto'].str.contains('\\+')) ]"
   ]
  },
  {
   "cell_type": "markdown",
   "metadata": {},
   "source": [
    "# SALVATAGGIO OUTPUT"
   ]
  },
  {
   "cell_type": "code",
   "execution_count": 93,
   "metadata": {},
   "outputs": [],
   "source": [
    "df['attore'] = (df['attore']\n",
    "                .str.replace('.', '', regex=False)\n",
    "                .str.replace('-', '', regex=False)\n",
    "                .str.strip()\n",
    "                )\n",
    "df['convenuto'] = (df['convenuto']\n",
    "                .str.replace('.', '', regex=False)\n",
    "                .str.replace('-', '', regex=False)\n",
    "                .str.strip()\n",
    "                )\n",
    "df['debitore'] = (df['debitore']\n",
    "                .str.replace('.', '', regex=False)\n",
    "                .str.replace('-', '', regex=False)\n",
    "                .str.strip()\n",
    "                )\n",
    "df['Cliente 1'] = (df['Cliente 1']\n",
    "                .str.replace('.', '', regex=False)\n",
    "                .str.replace('-', '', regex=False)\n",
    "                .str.strip()\n",
    "                )\n",
    "df['Cliente 2'] = (df['Cliente 2']\n",
    "                .str.replace('.', '', regex=False)\n",
    "                .str.replace('-', '', regex=False)\n",
    "                .str.strip()\n",
    "                )"
   ]
  },
  {
   "cell_type": "code",
   "execution_count": 94,
   "metadata": {},
   "outputs": [],
   "source": [
    "df['convenuto'] = df['convenuto'] .str.upper()\n",
    "df['debitore'] = df['debitore'] .str.upper()\n",
    "df['attore'] = df['attore'] .str.upper()\n",
    "df['Cliente 1'] = df['Cliente 1'] .str.upper()\n",
    "df['Cliente 2'] = df['Cliente 2'] .str.upper()"
   ]
  },
  {
   "cell_type": "code",
   "execution_count": 95,
   "metadata": {},
   "outputs": [],
   "source": [
    "mask_attore = df['attore'].str.contains('\\+')\n",
    "mask_convenuto = df['convenuto'].str.contains('\\+')\n",
    "\n",
    "df.loc[mask_attore, 'attore'] = df.loc[mask_attore, 'attore'].str.split('\\+').str[0].str.strip()\n",
    "df.loc[mask_convenuto, 'convenuto'] = df.loc[mask_convenuto, 'convenuto'].str.split('\\+').str[0].str.strip()"
   ]
  },
  {
   "cell_type": "code",
   "execution_count": 96,
   "metadata": {},
   "outputs": [],
   "source": [
    "# df = pd.DataFrame(results.explode().tolist())\n",
    "target_dir= f'Output/{str(today)}'\n",
    "os.makedirs(target_dir, exist_ok=True)\n",
    "df.drop(columns={'compila'}).to_excel(f'Output/{str(today)}/{str(today)}_output_{a}_{b}_v1.xlsx',index=False)\n"
   ]
  },
  {
   "cell_type": "markdown",
   "metadata": {},
   "source": [
    "# Da modificare: Capire come cambiare Cliente in cliente 1 / 2 !!"
   ]
  },
  {
   "cell_type": "code",
   "execution_count": 42,
   "metadata": {},
   "outputs": [
    {
     "name": "stderr",
     "output_type": "stream",
     "text": [
      "C:\\Users\\eleonora.zarrilli\\AppData\\Local\\Temp\\ipykernel_21672\\2563999687.py:9: SettingWithCopyWarning: \n",
      "A value is trying to be set on a copy of a slice from a DataFrame.\n",
      "Try using .loc[row_indexer,col_indexer] = value instead\n",
      "\n",
      "See the caveats in the documentation: https://pandas.pydata.org/pandas-docs/stable/user_guide/indexing.html#returning-a-view-versus-a-copy\n",
      "  df['match']='no'\n",
      "C:\\Users\\eleonora.zarrilli\\AppData\\Local\\Temp\\ipykernel_21672\\2563999687.py:12: SettingWithCopyWarning: \n",
      "A value is trying to be set on a copy of a slice from a DataFrame.\n",
      "Try using .loc[row_indexer,col_indexer] = value instead\n",
      "\n",
      "See the caveats in the documentation: https://pandas.pydata.org/pandas-docs/stable/user_guide/indexing.html#returning-a-view-versus-a-copy\n",
      "  df['esito'] = '?'\n"
     ]
    }
   ],
   "source": [
    "df = df[df['stato']!='-']\n",
    "mask = df.apply(lambda row: (row['Cliente 1'] in row['attore']) \n",
    "                   or (row['attore'] in row['Cliente 1']) or\n",
    "                    (row['Cliente 2'] in row['attore']) \n",
    "                   or (row['attore'] in row['Cliente 2']) or\n",
    "                     (row['convenuto'] in row['debitore'])\n",
    "                   or (row['debitore'] in row['convenuto']), axis=1)\n",
    "\n",
    "df['match']='no'\n",
    "df.loc[mask, 'match'] = 'si'\n",
    "\n",
    "df['esito'] = '?'\n",
    "df.loc[(df['match'] == 'si') & (df['compila'] == 'si'), 'esito'] = 'f24'\n",
    "df.loc[(df['match'] == 'si') & (df['compila'] == 'no'), 'esito'] = 'esito ok'\n",
    "df.loc[(df['match'] == 'no') & (df['compila'] == 'no'), 'esito'] = 'verifica dati'\n",
    "df.loc[(df['match'] == 'no') & (df['compila'] == 'si'), 'esito'] = 'verifica dati / possibile f24'\n",
    "\n",
    "\n",
    "df.to_excel(f'Output/{str(today)}/{str(today)}_esiti_positivi_{a}_{b}_v2.xlsx',index=False)"
   ]
  },
  {
   "cell_type": "markdown",
   "metadata": {},
   "source": [
    "Uniamo tutti i file di output"
   ]
  },
  {
   "cell_type": "code",
   "execution_count": 4,
   "metadata": {},
   "outputs": [],
   "source": [
    "df = pd.DataFrame()\n",
    "folder_path = f'Output/{str(today)}'\n",
    "dataframes = []\n",
    "\n",
    "for filename in os.listdir(folder_path):\n",
    "    if filename.endswith('.xlsx') and 'output' in filename:\n",
    "        file_path = os.path.join(folder_path, filename)\n",
    "        dataframes.append(pd.read_excel(file_path))\n",
    "\n",
    "if dataframes:\n",
    "    df = pd.concat(dataframes, ignore_index=True)\n",
    "\n",
    "df = df.drop_duplicates()\n",
    "df.to_excel(f'Output/{str(today)}/{str(today)}_output_totale.xlsx',index= False)\n",
    "            "
   ]
  },
  {
   "cell_type": "code",
   "execution_count": 5,
   "metadata": {},
   "outputs": [],
   "source": [
    "df = pd.DataFrame()\n",
    "folder_path = f'Output/{str(today)}'\n",
    "dataframes = []\n",
    "\n",
    "for filename in os.listdir(folder_path):\n",
    "    if filename.endswith('.xlsx') and 'esiti' in filename:\n",
    "        file_path = os.path.join(folder_path, filename)\n",
    "        dataframes.append(pd.read_excel(file_path))\n",
    "\n",
    "if dataframes:\n",
    "    df = pd.concat(dataframes, ignore_index=True)\n",
    "\n",
    "df = df.drop_duplicates()\n",
    "df.to_excel(f'Output/{str(today)}/{str(today)}_esiti_positivi.xlsx',index=False)"
   ]
  }
 ],
 "metadata": {
  "kernelspec": {
   "display_name": "scraper_env",
   "language": "python",
   "name": "python3"
  },
  "language_info": {
   "codemirror_mode": {
    "name": "ipython",
    "version": 3
   },
   "file_extension": ".py",
   "mimetype": "text/x-python",
   "name": "python",
   "nbconvert_exporter": "python",
   "pygments_lexer": "ipython3",
   "version": "3.11.5"
  }
 },
 "nbformat": 4,
 "nbformat_minor": 2
}
