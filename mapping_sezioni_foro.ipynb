{
 "cells": [
  {
   "cell_type": "code",
   "execution_count": 69,
   "metadata": {},
   "outputs": [],
   "source": [
    "import pandas as pd\n",
    "import re"
   ]
  },
  {
   "cell_type": "code",
   "execution_count": 70,
   "metadata": {},
   "outputs": [],
   "source": [
    "sezioni = pd.read_excel('Resources/sezioni_territoriali.xlsx')"
   ]
  },
  {
   "cell_type": "code",
   "execution_count": 71,
   "metadata": {},
   "outputs": [
    {
     "data": {
      "text/plain": [
       "'sezioni[\\'info\\']=sezioni[\\'info\\'].str.lower()\\nsezioni[\\'info\\'] = ( sezioni[\\'info\\']\\n                   .str.replace(\\'  \\',\\' \\')\\n                   .str.replace(\\'-\\',\\'\\')\\n                   .str.replace(\\':\\',\\'\\')\\n                   .str.replace(\\'.\\',\\'\\')\\n                   .str.replace(\\'competenze la direzione provinciale cura\\',\\'\\')\\n                   .str.replace(\"l\\'attività di informazione e assistenza ai\",\\'\\')\\n                   .str.replace(\"contribuenti, la gestione dei tributi,\",\\'\\')\\n                   .str.replace(\"l\\'accertamento, la riscossione e la\",\\'\\')\\n                   .str.replace(\"trattazione del contenzioso\",\\'\\')\\n                   .str.replace(\", i servizi catastali e di pubblicità\",\\'\\')\\n                   .str.replace(\"e\\' strutturata in un ufficio controlli\",\\'\\')\\n                   .str.replace(\"immobiliare, i servizi tecnico-estimativi\",\\'\\')\\n                   .str.replace(\"un ufficio legale, un ufficio provinciale\",\\'\\')\\n                   .str.replace(\"l\\'accertamento, la riscossione, la e\",\\'\\')\\n                   .str.replace(\"e l\\'osservatorio del mercato immobiliare\",\\'\\')\\n                   .str.replace(\"un ufficio legale, un ufficio provinciale\",\\'\\')\\n                   .str.replace(\"immobiliare un ufficio legale, nell\\'ufficio\",\\'\\')\\n                   .str.replace(\"territorio e negli uffici territoriali di\",\\'\\')\\n                   .str.replace(\"territorio e negli uffici territoriale di\",\\'\\')\\n                   .str.replace(\"i servizi catastali e di pubblicità\",\\'\\')\\n                   .str.replace(\\'territorio\\',\\'\\')\\n                   .str.replace(\"strutturata\",\\'\\')\\n                   .str.replace(\"negli uffici\",\\'\\')\\n                   .str.replace(\"territoriali\",\\'\\')\\n                   .str.replace(\"nell\\'ufficio territoriale\",\\'\\')\\n                   .str.replace(\"ufficio controlli\",\\'\\')\\n                   )\\nsezioni'"
      ]
     },
     "execution_count": 71,
     "metadata": {},
     "output_type": "execute_result"
    }
   ],
   "source": [
    "\"\"\"sezioni['info']=sezioni['info'].str.lower()\n",
    "sezioni['info'] = ( sezioni['info']\n",
    "                   .str.replace('  ',' ')\n",
    "                   .str.replace('-','')\n",
    "                   .str.replace(':','')\n",
    "                   .str.replace('.','')\n",
    "                   .str.replace('competenze la direzione provinciale cura','')\n",
    "                   .str.replace(\"l'attività di informazione e assistenza ai\",'')\n",
    "                   .str.replace(\"contribuenti, la gestione dei tributi,\",'')\n",
    "                   .str.replace(\"l'accertamento, la riscossione e la\",'')\n",
    "                   .str.replace(\"trattazione del contenzioso\",'')\n",
    "                   .str.replace(\", i servizi catastali e di pubblicità\",'')\n",
    "                   .str.replace(\"e' strutturata in un ufficio controlli\",'')\n",
    "                   .str.replace(\"immobiliare, i servizi tecnico-estimativi\",'')\n",
    "                   .str.replace(\"un ufficio legale, un ufficio provinciale\",'')\n",
    "                   .str.replace(\"l'accertamento, la riscossione, la e\",'')\n",
    "                   .str.replace(\"e l'osservatorio del mercato immobiliare\",'')\n",
    "                   .str.replace(\"un ufficio legale, un ufficio provinciale\",'')\n",
    "                   .str.replace(\"immobiliare un ufficio legale, nell'ufficio\",'')\n",
    "                   .str.replace(\"territorio e negli uffici territoriali di\",'')\n",
    "                   .str.replace(\"territorio e negli uffici territoriale di\",'')\n",
    "                   .str.replace(\"i servizi catastali e di pubblicità\",'')\n",
    "                   .str.replace('territorio','')\n",
    "                   .str.replace(\"strutturata\",'')\n",
    "                   .str.replace(\"negli uffici\",'')\n",
    "                   .str.replace(\"territoriali\",'')\n",
    "                   .str.replace(\"nell'ufficio territoriale\",'')\n",
    "                   .str.replace(\"ufficio controlli\",'')\n",
    "                   )\n",
    "sezioni\"\"\""
   ]
  },
  {
   "cell_type": "code",
   "execution_count": 72,
   "metadata": {},
   "outputs": [],
   "source": [
    "def extract_capitalized_words_with_commas(text):\n",
    "    # Split text into words while keeping commas\n",
    "    words = text.split()\n",
    "    # Find words that match the capitalized criteria\n",
    "    capitalized_words = [word for word in words if re.match(r'^[A-Z][a-z]*[,.]*$', word)]\n",
    "    # Join the list of words into a single string separated by space\n",
    "    return ' '.join(capitalized_words)\n",
    "\n",
    "# Apply the function to the 'info' column\n",
    "sezioni['info'] = sezioni['info'].apply(extract_capitalized_words_with_commas)"
   ]
  },
  {
   "cell_type": "code",
   "execution_count": 73,
   "metadata": {},
   "outputs": [
    {
     "name": "stderr",
     "output_type": "stream",
     "text": [
      "C:\\Users\\eleonora.zarrilli\\AppData\\Local\\Temp\\ipykernel_8004\\3546849942.py:5: FutureWarning: The default value of regex will change from True to False in a future version. In addition, single character regular expressions will *not* be treated as literal strings when regex=True.\n",
      "  .str.replace('.','')\n"
     ]
    }
   ],
   "source": [
    "sezioni['info'] = ( sezioni['info']\n",
    "                   .str.replace('  ',' ')\n",
    "                   .str.replace('-','')\n",
    "                   .str.replace(':','')\n",
    "                   .str.replace('.','')\n",
    "                   .str.replace('Competenze','')\n",
    "                   .str.replace(\"Competenza\",'')\n",
    "                   .str.replace(\"La Direzione\",'')\n",
    "                   .str.replace(\"Direzione\",'')\n",
    "                   .str.replace(\"Ufficio Controlli,\",'')\n",
    "                   .str.replace(\"Osservatorio\",'')\n",
    "                   .str.replace(\"Mercato\",'')\n",
    "                   .str.replace(\"Immobiliare\",'')\n",
    "                   .str.replace(\"Ufficio\",'')\n",
    "                   .str.replace(\"Provinciale\",'')\n",
    "                   .str.replace(\"Regionale\",'')\n",
    "                   .str.replace(\"Legale,\",'')\n",
    "                   .str.replace(\"Legale\",'')\n",
    "                   .str.replace(\"Uffici\",'')\n",
    "                   .str.replace(\"Territorio\",'')\n",
    "                   .str.replace(\"Territoriale\",'')\n",
    "                   .str.replace(\"Territoriali\",'')\n",
    "                   .str.replace(\"Atti\",'')\n",
    "                   .str.replace(\"Riorganizzazione\",'')\n",
    "                   .str.replace(\"Dal\",'')\n",
    "                   .str.replace(\"Successioni\",'')\n",
    "                   .str.replace(\"Rimborsi\",'')\n",
    "                   .str.replace(\"Iva\",'')               \n",
    "                   .str.strip()\n",
    "                   )"
   ]
  },
  {
   "cell_type": "code",
   "execution_count": 74,
   "metadata": {},
   "outputs": [],
   "source": [
    "sezioni = sezioni[sezioni['info'] !='']"
   ]
  },
  {
   "cell_type": "code",
   "execution_count": 75,
   "metadata": {},
   "outputs": [],
   "source": [
    "sezioni['info'] = sezioni['info'].str.split(',')\n",
    "sezioni_exploded = sezioni.explode('info')\n",
    "\n",
    "sezioni_exploded['info'] = ( sezioni_exploded['info']\n",
    "                            .str.replace(' ',' ')\n",
    "                            .str.strip()\n",
    ")"
   ]
  },
  {
   "cell_type": "code",
   "execution_count": 76,
   "metadata": {},
   "outputs": [],
   "source": [
    "sezioni_exploded = sezioni_exploded[sezioni_exploded['info'] !='']\n",
    "sezioni_exploded= sezioni_exploded.drop_duplicates()"
   ]
  },
  {
   "cell_type": "markdown",
   "metadata": {},
   "source": [
    "modificare anche i nomi delle province , togliere i numeri e UP-Territorio"
   ]
  },
  {
   "cell_type": "code",
   "execution_count": 77,
   "metadata": {},
   "outputs": [],
   "source": [
    "sezioni_exploded['province'] = ( sezioni_exploded['province']\n",
    "                            .str.replace(' UP-Territorio','')\n",
    "                            .str.replace('Napoli II','Napoli')\n",
    "                            .str.replace('Napoli I','Napoli')\n",
    "                            .str.replace('Torino II','Torino')\n",
    "                            .str.replace('Torino I','Torino')\n",
    "                            .str.replace('Milano II','Milano')\n",
    "                            .str.replace('Milano I','Milano')\n",
    "                            \n",
    "                            .str.strip()\n",
    ")\n"
   ]
  },
  {
   "cell_type": "code",
   "execution_count": 78,
   "metadata": {},
   "outputs": [],
   "source": [
    "sezioni_exploded= sezioni_exploded.drop_duplicates()\n",
    "\n",
    "sezioni_exploded.to_excel('Mapping_prova.xlsx',index=False)"
   ]
  }
 ],
 "metadata": {
  "kernelspec": {
   "display_name": "scraper_env",
   "language": "python",
   "name": "python3"
  },
  "language_info": {
   "codemirror_mode": {
    "name": "ipython",
    "version": 3
   },
   "file_extension": ".py",
   "mimetype": "text/x-python",
   "name": "python",
   "nbconvert_exporter": "python",
   "pygments_lexer": "ipython3",
   "version": "3.11.4"
  }
 },
 "nbformat": 4,
 "nbformat_minor": 2
}
